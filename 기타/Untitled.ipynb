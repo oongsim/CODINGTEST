{
 "cells": [
  {
   "cell_type": "code",
   "execution_count": null,
   "id": "3c267daa",
   "metadata": {},
   "outputs": [],
   "source": [
    "from itertools import permutations # 순열\n",
    "\n",
    "result = list(permutation(data,3))\n",
    "\n",
    "\n",
    "from itertools import combinations # 조합\n",
    "\n",
    "result = list(combinations(data,2))"
   ]
  },
  {
   "cell_type": "code",
   "execution_count": null,
   "id": "a4015141",
   "metadata": {},
   "outputs": [],
   "source": [
    "stack = [] # 스택\n",
    "stack.append(5)\n",
    "stack.pop()"
   ]
  },
  {
   "cell_type": "code",
   "execution_count": null,
   "id": "52957cc0",
   "metadata": {},
   "outputs": [],
   "source": [
    "from collections import deque # 큐\n",
    "\n",
    "queue = deque()\n",
    "queue.append(5)\n",
    "queue.popleft()"
   ]
  },
  {
   "cell_type": "code",
   "execution_count": null,
   "id": "3c3514b7",
   "metadata": {},
   "outputs": [],
   "source": [
    "import heapq # 우선순위 큐\n",
    "\n",
    "h = []\n",
    "heapq.heappush(h,value)\n",
    "heapq.heappop(h)"
   ]
  },
  {
   "cell_type": "code",
   "execution_count": null,
   "id": "4b8889dc",
   "metadata": {},
   "outputs": [],
   "source": [
    "def dfs(graph,v,visited): # dfs\n",
    "    visited[v] = True\n",
    "    print(v, end=\" \")\n",
    "    for i in graph[v]:\n",
    "        if not visited[i]:\n",
    "            dfs(graph,i,visited)"
   ]
  },
  {
   "cell_type": "code",
   "execution_count": null,
   "id": "33609a74",
   "metadata": {},
   "outputs": [],
   "source": [
    "from collections import deque # bfs\n",
    "\n",
    "def bfs(graph,start,visited):\n",
    "    queue = deque([start])\n",
    "    visited[start] = True\n",
    "    while queue:\n",
    "        v = queue.popleft()\n",
    "        print(v, end=\" \")\n",
    "        for i in graph[v]:\n",
    "            if not visited[i]:\n",
    "                queue.append(i)\n",
    "                visited[i] = True"
   ]
  },
  {
   "cell_type": "code",
   "execution_count": null,
   "id": "e6c4c02a",
   "metadata": {},
   "outputs": [],
   "source": [
    "n,m = list(map(int,input().split())) # 이진 탐색, 파라매트릭 서치\n",
    "array = list(map(int,input().split()))\n",
    "\n",
    "start = 0\n",
    "end = max(array)\n",
    "\n",
    "result = 0\n",
    "while(start <= end):\n",
    "    total = 0\n",
    "    mid = (start+end) // 2\n",
    "    for x in array:\n",
    "        if x > mid:\n",
    "            total += x-mid\n",
    "    if total < m: # 떡의 양이 부족한 경우\n",
    "        end = mid-1\n",
    "    else: # 떡의 양이 충분한 경우\n",
    "        result = mid # 최대한 덜 잘랐을 때가 정답이므로, 기록 \n",
    "        start = mid + 1"
   ]
  },
  {
   "cell_type": "code",
   "execution_count": null,
   "id": "cfb88702",
   "metadata": {},
   "outputs": [],
   "source": [
    "import heapq # 다익스트라 알고리즘\n",
    "\n",
    "def dijkstra(start):\n",
    "    q = []\n",
    "    # 시작 노드로 가기 위한 최단 경로는 0으로 설정하여, 큐에 삽입\n",
    "    heapq.heappush(q,(0,start))\n",
    "    distance[start] = 0\n",
    "    while q:\n",
    "        dist, now = heapq.heappop(q)\n",
    "        # 현재 노드가 이미 처리된 적 있는 노드라면 무시\n",
    "        distance[now] < dist:\n",
    "            continue\n",
    "        # 현재 노드와 연결된 다른 인접한 노드들 확인\n",
    "        for i in graph[now]:\n",
    "            cost = dist + i[1]\n",
    "            if cost < distance[i[0]]:\n",
    "                distance[i[0]] = cost\n",
    "                heapq.heappush(q,(cost,i[0]))"
   ]
  },
  {
   "cell_type": "code",
   "execution_count": 5,
   "id": "2697b221",
   "metadata": {},
   "outputs": [
    {
     "data": {
      "text/plain": [
       "'12345'"
      ]
     },
     "execution_count": 5,
     "metadata": {},
     "output_type": "execute_result"
    }
   ],
   "source": [
    "a = [1,2,3,4,5]\n",
    "''.join(map(str,a))"
   ]
  },
  {
   "cell_type": "code",
   "execution_count": null,
   "id": "1cc089a9",
   "metadata": {},
   "outputs": [],
   "source": [
    "[i+1 if x >= 45 else 2*i for i in l]"
   ]
  },
  {
   "cell_type": "code",
   "execution_count": null,
   "id": "705d525b",
   "metadata": {},
   "outputs": [],
   "source": [
    "import copy\n",
    "\n",
    "lst1 = copy.deepcopy(lst)"
   ]
  }
 ],
 "metadata": {
  "kernelspec": {
   "display_name": "Python 3 (ipykernel)",
   "language": "python",
   "name": "python3"
  },
  "language_info": {
   "codemirror_mode": {
    "name": "ipython",
    "version": 3
   },
   "file_extension": ".py",
   "mimetype": "text/x-python",
   "name": "python",
   "nbconvert_exporter": "python",
   "pygments_lexer": "ipython3",
   "version": "3.8.15"
  }
 },
 "nbformat": 4,
 "nbformat_minor": 5
}
