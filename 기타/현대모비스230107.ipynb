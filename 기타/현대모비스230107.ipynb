{
 "cells": [
  {
   "cell_type": "markdown",
   "id": "65dee4e0",
   "metadata": {},
   "source": [
    "i번째 약은 먹은 날 포함 Di일 후부터 Ei 만큼 약효가 나타난다.<br>\n",
    "여러약을 투약하는 경우, 약효가 누적된다.<br>\n",
    "하루에 최대 하나의 약만 투여 가능. 한 번 사용한 약은 다시 투여 할 수 없다.<br> \n",
    "오늘(1일)부터 투여 시작하여 X일에 얻을 수 있는 누적 약효의 최대값은? <br>\n",
    "<br>\n",
    "약 N개, X일 <br>\n",
    "i번째 Di, Ei 를 차례로 입력받는다.<br>\n",
    "<br>\n",
    "---\n",
    "입력 예제 1 <br>\n",
    "4 5 <br>\n",
    "4 5 <br>\n",
    "4 3 <br>\n",
    "3 2 <br>\n",
    "3 1 <br>\n",
    "출력 예제 1<br>\n",
    "10 <br>\n",
    "<br>\n",
    "입력 예제 2<br>\n",
    "3 2<br>\n",
    "1 10<br>\n",
    "1 1<br>\n",
    "2 5<br>\n",
    "출력 예제 2<br>\n",
    "15<br>"
   ]
  },
  {
   "cell_type": "code",
   "execution_count": 8,
   "id": "1c7630c0",
   "metadata": {},
   "outputs": [
    {
     "name": "stdout",
     "output_type": "stream",
     "text": [
      "4 5\n",
      "4 5\n",
      "4 3\n",
      "3 2\n",
      "3 1\n",
      "10\n"
     ]
    }
   ],
   "source": [
    "n, x = map(int,input().split())\n",
    "p = []\n",
    "t = 0 # 누적 약효\n",
    "\n",
    "for i in range(n):\n",
    "    di, ei = map(int,input().split())\n",
    "    p.append((i+1, di,ei))\n",
    "\n",
    "p.sort(key = lambda x:x[2], reverse=True) # 약효 큰 순으로 정렬\n",
    "p.sort(key = lambda x:x[1], reverse=True) # 발현시간 큰 순으로 정렬 해야 발현시간 -> 약효 순으로 정렬 됨.\n",
    "\n",
    "for i in range(n):\n",
    "    if (x >= p[i][1]): # 남은 x일이 발현시간보다 클 때\n",
    "        t += p[i][2] \n",
    "    x -= 1 # 남은 X일 빼준다.\n",
    "    if (x == 0):\n",
    "        break\n",
    "\n",
    "print(t)"
   ]
  },
  {
   "cell_type": "code",
   "execution_count": null,
   "id": "7e19836c",
   "metadata": {},
   "outputs": [],
   "source": []
  }
 ],
 "metadata": {
  "kernelspec": {
   "display_name": "Python 3 (ipykernel)",
   "language": "python",
   "name": "python3"
  },
  "language_info": {
   "codemirror_mode": {
    "name": "ipython",
    "version": 3
   },
   "file_extension": ".py",
   "mimetype": "text/x-python",
   "name": "python",
   "nbconvert_exporter": "python",
   "pygments_lexer": "ipython3",
   "version": "3.8.15"
  }
 },
 "nbformat": 4,
 "nbformat_minor": 5
}
