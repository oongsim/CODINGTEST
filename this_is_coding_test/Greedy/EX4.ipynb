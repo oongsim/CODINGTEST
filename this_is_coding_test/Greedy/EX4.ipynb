{
 "cells": [
  {
   "cell_type": "markdown",
   "id": "b58b2204",
   "metadata": {},
   "source": [
    "# 1이 될 때까지\n",
    "---\n",
    "입력예시<br>\n",
    "25 5<br>\n",
    "<br>\n",
    "출력예시<br>\n",
    "2<br>"
   ]
  },
  {
   "cell_type": "code",
   "execution_count": 7,
   "id": "023f7734",
   "metadata": {},
   "outputs": [
    {
     "name": "stdout",
     "output_type": "stream",
     "text": [
      "25 5\n",
      "2\n"
     ]
    }
   ],
   "source": [
    "n, k =map(int,input().split())\n",
    "count = 0\n",
    "\n",
    "while(True):\n",
    "    if (n%k == 0):\n",
    "        n = n // k\n",
    "    else: n -= 1\n",
    "    count += 1\n",
    "    if (n == 1):\n",
    "        break\n",
    "\n",
    "print(count)"
   ]
  },
  {
   "cell_type": "markdown",
   "id": "e7236a9d",
   "metadata": {},
   "source": [
    "---"
   ]
  },
  {
   "cell_type": "code",
   "execution_count": 8,
   "id": "280d905b",
   "metadata": {},
   "outputs": [
    {
     "name": "stdout",
     "output_type": "stream",
     "text": [
      "25 5\n",
      "2\n"
     ]
    }
   ],
   "source": [
    "# 책 풀이\n",
    "n, k = map(int,input().split())\n",
    "count = 0\n",
    "\n",
    "while True:\n",
    "    # n가 k로 나누어지는 수가 될 때까지 한번에 빼기\n",
    "    target = (n//k)*k\n",
    "    count += (n-target)\n",
    "    n = target\n",
    "    # n이 k보다 작을 때(더이상 나눌 수 없을 때) 반복문 탈출\n",
    "    if n < k:\n",
    "        break\n",
    "    # k로 나누기\n",
    "    n //= k\n",
    "    count += 1\n",
    "    \n",
    "# 마지막으로 남은 수에 대하여 한번에 빼기\n",
    "count += (n-1)\n",
    "print(count)"
   ]
  },
  {
   "cell_type": "code",
   "execution_count": null,
   "id": "e248c96a",
   "metadata": {},
   "outputs": [],
   "source": []
  }
 ],
 "metadata": {
  "kernelspec": {
   "display_name": "Python 3 (ipykernel)",
   "language": "python",
   "name": "python3"
  },
  "language_info": {
   "codemirror_mode": {
    "name": "ipython",
    "version": 3
   },
   "file_extension": ".py",
   "mimetype": "text/x-python",
   "name": "python",
   "nbconvert_exporter": "python",
   "pygments_lexer": "ipython3",
   "version": "3.8.15"
  }
 },
 "nbformat": 4,
 "nbformat_minor": 5
}
