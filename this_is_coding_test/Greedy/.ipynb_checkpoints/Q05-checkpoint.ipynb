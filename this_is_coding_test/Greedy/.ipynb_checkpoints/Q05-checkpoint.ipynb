{
 "cells": [
  {
   "cell_type": "markdown",
   "id": "1e8f19f2",
   "metadata": {},
   "source": [
    "# 볼링공 고르기\n",
    "---\n",
    "입력예시<br>\n",
    "5 3<br>\n",
    "1 3 2 3 2<br>\n",
    "<br>\n",
    "출력예시<br>\n",
    "8<br>\n",
    "<br>\n",
    "입력예시<br>\n",
    "8 5<br>\n",
    "1 5 4 3 2 4 5 2<br>\n",
    "<br>\n",
    "출력예시<br>\n",
    "25<br>"
   ]
  },
  {
   "cell_type": "code",
   "execution_count": 4,
   "id": "83ddba20",
   "metadata": {},
   "outputs": [
    {
     "name": "stdout",
     "output_type": "stream",
     "text": [
      "8 5\n",
      "1 5 4 3 2 4 5 2\n",
      "25\n"
     ]
    }
   ],
   "source": [
    "import itertools\n",
    "\n",
    "n,m = map(int,input().split())\n",
    "lst = list(map(int,input().split()))\n",
    "\n",
    "rlst = []\n",
    "c = 0\n",
    "for i in range(n):\n",
    "    rlst.append((i+1, lst[i])) # 튜플로 만든다\n",
    "\n",
    "for i in itertools.combinations(rlst, 2): # 모든 조합에서\n",
    "    x = list(i)\n",
    "    if x[0][1] != x[1][1]: # 무게가 다를때\n",
    "        c += 1\n",
    "print(c)"
   ]
  },
  {
   "cell_type": "code",
   "execution_count": 5,
   "id": "40cb42de",
   "metadata": {},
   "outputs": [
    {
     "name": "stdout",
     "output_type": "stream",
     "text": [
      "8 5\n",
      "1 5 4 3 2 4 5 2\n",
      "25\n"
     ]
    }
   ],
   "source": [
    "# 책 풀이 : A가 특정한 무게의 볼링공을 선택할 때, 이어서 B가 볼링공을 선택하는 경우를 차례대로 계산,\n",
    "# 단계가 진행됨에 따라 이미 계산했던 경우는 제외하기 때문에 'B가 선택하는 경우의 수'는 줄어든다. \n",
    "n,m = map(int,input().split())\n",
    "data = list(map(int,input().split()))\n",
    "\n",
    "# 1부터 10까지의 무게를 담을 수 있는 리스트\n",
    "array = [0]*11\n",
    "for x in data:\n",
    "    array[x] += 1 # 각 무게에 해당하는 볼링공의 개수 카운트\n",
    "    \n",
    "result = 0\n",
    "for i in range(1, m+1): # 1부터 m까지의 무게에 대해서 처리\n",
    "    n -= array[i] # 무게가 i인 볼링공의 개수 제외, n을 바꿔줌으로써 이미 계산했던 경우는 제외\n",
    "    result += array[i] * n # 무게가 i인 공의 개수 * B가 선택하는 경우의 수\n",
    "print(result)"
   ]
  }
 ],
 "metadata": {
  "kernelspec": {
   "display_name": "Python 3 (ipykernel)",
   "language": "python",
   "name": "python3"
  },
  "language_info": {
   "codemirror_mode": {
    "name": "ipython",
    "version": 3
   },
   "file_extension": ".py",
   "mimetype": "text/x-python",
   "name": "python",
   "nbconvert_exporter": "python",
   "pygments_lexer": "ipython3",
   "version": "3.8.15"
  }
 },
 "nbformat": 4,
 "nbformat_minor": 5
}
