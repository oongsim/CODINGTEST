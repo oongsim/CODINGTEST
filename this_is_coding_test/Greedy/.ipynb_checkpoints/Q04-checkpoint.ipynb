{
 "cells": [
  {
   "cell_type": "markdown",
   "id": "a250e92e",
   "metadata": {},
   "source": [
    "# 만들 수 없는 금액\n",
    "---\n",
    "입력예시<br>\n",
    "5<br>\n",
    "3 2 1 1 9<br>\n",
    "<br>\n",
    "출력예시<br>\n",
    "8<br>\n",
    "<br>\n",
    "입력예시<br>\n",
    "3<br>\n",
    "3 5 7<br>\n",
    "<br>\n",
    "출력예시<br>\n",
    "1<br>"
   ]
  },
  {
   "cell_type": "code",
   "execution_count": 5,
   "id": "808c8e12",
   "metadata": {},
   "outputs": [
    {
     "name": "stdout",
     "output_type": "stream",
     "text": [
      "5\n",
      "3 2 1 1 9\n",
      "8\n"
     ]
    }
   ],
   "source": [
    "# 조합 이용\n",
    "import itertools\n",
    "\n",
    "n = int(input())\n",
    "lst = list(map(int,input().split()))\n",
    "r = 1 # 최소값\n",
    "rlst = []\n",
    "\n",
    "for i in range(1,n+1):\n",
    "    for x in itertools.combinations(lst,i):\n",
    "        rlst.append(sum(x))\n",
    "        \n",
    "while(True):\n",
    "    if r in rlst:\n",
    "        r += 1\n",
    "    else:\n",
    "        print(r)\n",
    "        break"
   ]
  },
  {
   "cell_type": "code",
   "execution_count": 6,
   "id": "ebacd88e",
   "metadata": {},
   "outputs": [
    {
     "name": "stdout",
     "output_type": "stream",
     "text": [
      "5\n",
      "3 2 1 1 9\n",
      "8\n"
     ]
    }
   ],
   "source": [
    "# 책 풀이 : 그리디 알고리즘으로 해결.\n",
    "n = int(input())\n",
    "data = list(map(int, input().split()))\n",
    "data.sort()\n",
    "\n",
    "target = 1\n",
    "for x in data:\n",
    "    # 현재상태를 1부터 target-1까지의 모든 금액을 만들 수 있는 상태 라고 본다\n",
    "    # 만들 수 없는 금액을 찾았을 때 반복 종료\n",
    "    if target < x:\n",
    "        break\n",
    "    target += x\n",
    "    \n",
    "# 만들 수 없는 금액 출력\n",
    "print(target)"
   ]
  }
 ],
 "metadata": {
  "kernelspec": {
   "display_name": "Python 3 (ipykernel)",
   "language": "python",
   "name": "python3"
  },
  "language_info": {
   "codemirror_mode": {
    "name": "ipython",
    "version": 3
   },
   "file_extension": ".py",
   "mimetype": "text/x-python",
   "name": "python",
   "nbconvert_exporter": "python",
   "pygments_lexer": "ipython3",
   "version": "3.8.15"
  }
 },
 "nbformat": 4,
 "nbformat_minor": 5
}
