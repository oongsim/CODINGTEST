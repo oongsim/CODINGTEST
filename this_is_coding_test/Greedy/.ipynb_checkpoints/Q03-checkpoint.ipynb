{
 "cells": [
  {
   "cell_type": "markdown",
   "id": "e407a968",
   "metadata": {},
   "source": [
    "# 문자열 뒤집기\n",
    "---\n",
    "입력 예시<br>\n",
    "0001100<br>\n",
    "<br>\n",
    "출력 예시<br> \n",
    "1<br>\n",
    "<br>"
   ]
  },
  {
   "cell_type": "code",
   "execution_count": 15,
   "id": "6a475853",
   "metadata": {},
   "outputs": [
    {
     "name": "stdout",
     "output_type": "stream",
     "text": [
      "0001100\n",
      "1\n"
     ]
    }
   ],
   "source": [
    "data = input()\n",
    "c0 = 0 # 모두 0으로 바꾸는 것\n",
    "c1 = 0 # 모두 1로 바꾸는 것\n",
    "\n",
    "now = int(data[0])\n",
    "if now == 0:\n",
    "    c1 = 1\n",
    "else:\n",
    "    c0 = 1\n",
    "    \n",
    "for i in range(1, len(data)):\n",
    "    num = int(data[i])\n",
    "    if num == 0 : # 모두 1로\n",
    "        if now == 1:\n",
    "            c1 += 1\n",
    "    else: # 모두 0으로\n",
    "        if now == 0:\n",
    "            c0 += 1\n",
    "    now = num\n",
    "print(min(c0,c1))"
   ]
  },
  {
   "cell_type": "code",
   "execution_count": 16,
   "id": "04d94f97",
   "metadata": {},
   "outputs": [
    {
     "name": "stdout",
     "output_type": "stream",
     "text": [
      "0001100\n",
      "1\n"
     ]
    }
   ],
   "source": [
    "# 책 풀이 : int로 바꾸지 않고 문자 그대로 취급, for문도 다른 방법\n",
    "data = input()\n",
    "c0 = 0 # 모두 0으로 바꾸는 것\n",
    "c1 = 0 # 모두 1로 바꾸는 것\n",
    "\n",
    "if data[0] == '1':\n",
    "    c0 = 1\n",
    "else:\n",
    "    c1 = 1\n",
    "    \n",
    "for i in range(len(data)-1):\n",
    "    if data[i] != data[i+1]:\n",
    "        if data[i+1] == '1': # 모두 0으로\n",
    "            c0 += 1\n",
    "        else: # 모두 1로\n",
    "            c1 += 1\n",
    "            \n",
    "print(min(c0,c1))"
   ]
  }
 ],
 "metadata": {
  "kernelspec": {
   "display_name": "Python 3 (ipykernel)",
   "language": "python",
   "name": "python3"
  },
  "language_info": {
   "codemirror_mode": {
    "name": "ipython",
    "version": 3
   },
   "file_extension": ".py",
   "mimetype": "text/x-python",
   "name": "python",
   "nbconvert_exporter": "python",
   "pygments_lexer": "ipython3",
   "version": "3.8.15"
  }
 },
 "nbformat": 4,
 "nbformat_minor": 5
}
