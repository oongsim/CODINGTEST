{
 "cells": [
  {
   "cell_type": "markdown",
   "id": "c2b7fc81",
   "metadata": {},
   "source": [
    "# 모험가 길드\n",
    "---\n",
    "입력 예시<br>\n",
    "5<br>\n",
    "2 3 1 2 2<br>\n",
    "<br>\n",
    "출력 예시<br> \n",
    "2<br>\n",
    "<br>\n",
    "<br>\n",
    "입력 예시<br>\n",
    "6<br>\n",
    "7 4 2 2 1 1<br>\n",
    "<br>\n",
    "출력 예시<br> \n",
    "3<br>"
   ]
  },
  {
   "cell_type": "code",
   "execution_count": 2,
   "id": "e881a2c1",
   "metadata": {},
   "outputs": [
    {
     "name": "stdout",
     "output_type": "stream",
     "text": [
      "6\n",
      "7 4 2 2 1 1\n",
      "3\n"
     ]
    }
   ],
   "source": [
    "n = int(input())\n",
    "lst = list(map(int,input().split()))\n",
    "lst.sort() # 최대한 많은 그룹이 구성되려면 오름차순 정렬 필요!\n",
    "p=0 # 사람 수\n",
    "g=0 # 그룹 수\n",
    "\n",
    "for i in lst:\n",
    "    p += 1\n",
    "    if i > p: # 확인하고 있는 모험가의 공포도(i)가 현재 그룹의 사람수(p) 보다 작으면 넘어감\n",
    "        pass\n",
    "    else:\n",
    "        g += 1 # 그룹 수 1 더하기\n",
    "        p = 0 # 사람 수 리셋\n",
    "\n",
    "print(g)"
   ]
  },
  {
   "cell_type": "code",
   "execution_count": null,
   "id": "3c311da6",
   "metadata": {},
   "outputs": [],
   "source": []
  }
 ],
 "metadata": {
  "kernelspec": {
   "display_name": "Python 3 (ipykernel)",
   "language": "python",
   "name": "python3"
  },
  "language_info": {
   "codemirror_mode": {
    "name": "ipython",
    "version": 3
   },
   "file_extension": ".py",
   "mimetype": "text/x-python",
   "name": "python",
   "nbconvert_exporter": "python",
   "pygments_lexer": "ipython3",
   "version": "3.8.15"
  }
 },
 "nbformat": 4,
 "nbformat_minor": 5
}
