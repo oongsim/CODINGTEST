{
 "cells": [
  {
   "cell_type": "markdown",
   "id": "9a3fe2c8",
   "metadata": {},
   "source": [
    "# 숫자 카드 게임 \n",
    "---\n",
    "입력예시1<br>\n",
    "3 3<br>\n",
    "3 1 2<br>\n",
    "4 1 4<br>\n",
    "2 2 2<br>\n",
    "<br>\n",
    "출력예시1<br>\n",
    "2<br>\n",
    "***\n",
    "입력예시2<br>\n",
    "2 4<br>\n",
    "7 3 1 8<br>\n",
    "3 3 3 4<br>\n",
    "<br>\n",
    "출력예시2<br>\n",
    "3"
   ]
  },
  {
   "cell_type": "code",
   "execution_count": 2,
   "id": "4e7676f2",
   "metadata": {},
   "outputs": [
    {
     "name": "stdout",
     "output_type": "stream",
     "text": [
      "3 3\n",
      "3 1 2\n",
      "4 1 4\n",
      "2 2 2\n",
      "2\n"
     ]
    }
   ],
   "source": [
    "n, m = map(int,input().split())\n",
    "m = []\n",
    "\n",
    "for _ in range(n):\n",
    "    lst = list(map(int,input().split()))\n",
    "    m.append(min(lst))\n",
    "print(max(m))"
   ]
  },
  {
   "cell_type": "markdown",
   "id": "679a9a5d",
   "metadata": {},
   "source": [
    "각 행 중 최소값만 따로 모은 뒤, 최대값 선택"
   ]
  },
  {
   "cell_type": "markdown",
   "id": "4451a149",
   "metadata": {},
   "source": [
    "---"
   ]
  },
  {
   "cell_type": "code",
   "execution_count": 3,
   "id": "0da4e211",
   "metadata": {},
   "outputs": [
    {
     "name": "stdout",
     "output_type": "stream",
     "text": [
      "3 3\n",
      "3 1 2\n",
      "4 1 4\n",
      "2 2 2\n",
      "2\n"
     ]
    }
   ],
   "source": [
    "# 책 풀이\n",
    "n, m = map(int,input().split())\n",
    "\n",
    "result = 0\n",
    "for _ in range(n):\n",
    "    data = list(map(int,input().split()))\n",
    "    min_value = min(data) # 현재 줄에서 '가장 작은 수' 찾기\n",
    "    result = max(result, min_value) # '가장 작은 수'들 중에서 가장 큰 수 찾기\n",
    "print(result)"
   ]
  },
  {
   "cell_type": "code",
   "execution_count": null,
   "id": "1bb180eb",
   "metadata": {},
   "outputs": [],
   "source": []
  }
 ],
 "metadata": {
  "kernelspec": {
   "display_name": "Python 3",
   "language": "python",
   "name": "python3"
  },
  "language_info": {
   "codemirror_mode": {
    "name": "ipython",
    "version": 3
   },
   "file_extension": ".py",
   "mimetype": "text/x-python",
   "name": "python",
   "nbconvert_exporter": "python",
   "pygments_lexer": "ipython3",
   "version": "3.9.7 (tags/v3.9.7:1016ef3, Aug 30 2021, 20:19:38) [MSC v.1929 64 bit (AMD64)]"
  },
  "vscode": {
   "interpreter": {
    "hash": "e6bf0a1e5a37531eccb084f6723b37a0085ce9ac9f2b48ddf583bd3df8a0393b"
   }
  }
 },
 "nbformat": 4,
 "nbformat_minor": 5
}
