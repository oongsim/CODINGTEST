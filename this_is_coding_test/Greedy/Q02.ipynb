{
 "cells": [
  {
   "cell_type": "markdown",
   "id": "3b44ca89",
   "metadata": {},
   "source": [
    "# 곱하기 혹은 더하기\n",
    "---\n",
    "입력 예시<br>\n",
    "5<br>\n",
    "2 3 1 2 2<br>\n",
    "<br>\n",
    "출력 예시<br> \n",
    "2<br>\n",
    "<br>\n",
    "<br>\n",
    "입력 예시<br>\n",
    "6<br>\n",
    "7 4 2 2 1 1<br>\n",
    "<br>\n",
    "출력 예시<br> \n",
    "3<br>"
   ]
  },
  {
   "cell_type": "code",
   "execution_count": 1,
   "id": "56de9906",
   "metadata": {},
   "outputs": [
    {
     "name": "stdout",
     "output_type": "stream",
     "text": [
      "02984\n",
      "576\n"
     ]
    }
   ],
   "source": [
    "lst = list(input())\n",
    "lst = [int(i) for i in lst]\n",
    "s = lst[0]\n",
    "for i in lst[1:]:\n",
    "    if s <= 1 or i <= 1:\n",
    "        s += i\n",
    "    else:\n",
    "        s *= i\n",
    "print(s)"
   ]
  },
  {
   "cell_type": "code",
   "execution_count": 2,
   "id": "9eb3e280",
   "metadata": {},
   "outputs": [
    {
     "name": "stdout",
     "output_type": "stream",
     "text": [
      "02984\n",
      "576\n"
     ]
    }
   ],
   "source": [
    "# 책 풀이 : 리스트를 굳이 사용하지 않고 문자열로, for문은 range이용. 시간은 내 방법이 더 빠른듯 함 \n",
    "data = input()\n",
    "result = int(data[0])\n",
    "for i in range(1,len(data)):\n",
    "    num = int(data[i])\n",
    "    if num <= 1 or result <= 1:\n",
    "        result += num\n",
    "    else:\n",
    "        result *= num\n",
    "print(result)"
   ]
  }
 ],
 "metadata": {
  "kernelspec": {
   "display_name": "Python 3 (ipykernel)",
   "language": "python",
   "name": "python3"
  },
  "language_info": {
   "codemirror_mode": {
    "name": "ipython",
    "version": 3
   },
   "file_extension": ".py",
   "mimetype": "text/x-python",
   "name": "python",
   "nbconvert_exporter": "python",
   "pygments_lexer": "ipython3",
   "version": "3.8.15"
  }
 },
 "nbformat": 4,
 "nbformat_minor": 5
}
