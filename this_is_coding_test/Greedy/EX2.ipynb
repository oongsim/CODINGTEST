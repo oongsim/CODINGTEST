{
 "cells": [
  {
   "cell_type": "markdown",
   "id": "c6d4a8cc",
   "metadata": {},
   "source": [
    "# 큰 수의 법칙\n",
    "---\n",
    "입력 예시    \n",
    "5 8 3  \n",
    "2 4 5 4 6    \n",
    "<br>\n",
    "출력 예시  \n",
    "46"
   ]
  },
  {
   "cell_type": "code",
   "execution_count": 15,
   "id": "83e3bb61",
   "metadata": {},
   "outputs": [
    {
     "name": "stdout",
     "output_type": "stream",
     "text": [
      "5 8 3\n",
      "2 4 5 4 6\n",
      "46\n"
     ]
    }
   ],
   "source": [
    "n, m, k = map(int,input().split())\n",
    "lst = list(map(int,input().split()))\n",
    "lst.sort(reverse=True)\n",
    "\n",
    "s = 0 # 총 합\n",
    "fir = lst[0]\n",
    "sec = lst[1]\n",
    "\n",
    "s += (m // (k+1))*(fir*k+sec)\n",
    "s += (m % (k+1))*(fir)\n",
    "\n",
    "print(s)"
   ]
  },
  {
   "cell_type": "markdown",
   "id": "59a06f61",
   "metadata": {},
   "source": [
    "m // (k+1) 만큼 반복  \n",
    "m % (k+1) 만큼 제일 큰 수 추가로 더함"
   ]
  }
 ],
 "metadata": {
  "kernelspec": {
   "display_name": "Python 3 (ipykernel)",
   "language": "python",
   "name": "python3"
  },
  "language_info": {
   "codemirror_mode": {
    "name": "ipython",
    "version": 3
   },
   "file_extension": ".py",
   "mimetype": "text/x-python",
   "name": "python",
   "nbconvert_exporter": "python",
   "pygments_lexer": "ipython3",
   "version": "3.8.15"
  }
 },
 "nbformat": 4,
 "nbformat_minor": 5
}
