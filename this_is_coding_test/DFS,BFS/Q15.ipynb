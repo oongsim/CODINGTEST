{
 "cells": [
  {
   "cell_type": "markdown",
   "id": "a844da67",
   "metadata": {},
   "source": [
    "# 특정 거리의 도시 찾기\n",
    "---\n",
    "입력 예시<br>\n",
    "4 4 2 1 <br>\n",
    "1 2 <br>\n",
    "1 3 <br>\n",
    "2 3 <br>\n",
    "2 4 <br>\n",
    " <br>\n",
    "출력 예시 <br>\n",
    "4 <br>\n",
    " <br> <br>\n",
    "입력 예시 <br>\n",
    "4 3 2 1 <br>\n",
    "1 2 <br>\n",
    "1 3 <br>\n",
    "1 4 <br>\n",
    " <br>\n",
    "출력 예시 <br>\n",
    "-1 <br>\n",
    " <br> <br>\n",
    "입력 예시 <br>\n",
    "4 4 1 1 <br>\n",
    "1 2 <br>\n",
    "1 3 <br>\n",
    "2 3 <br>\n",
    "2 4 <br> <br>\n",
    "출력 예시 <br>\n",
    "2 <br>\n",
    "3 <br>"
   ]
  },
  {
   "cell_type": "code",
   "execution_count": 9,
   "id": "44ca3893",
   "metadata": {},
   "outputs": [
    {
     "name": "stdout",
     "output_type": "stream",
     "text": [
      "4 4 1 1\n",
      "1 2\n",
      "1 3\n",
      "2 3\n",
      "2 4\n",
      "2\n",
      "3\n"
     ]
    }
   ],
   "source": [
    "from collections import deque\n",
    "\n",
    "n,m,k,x = map(int,input().split())\n",
    "graph = [[] for _ in range(n+1)]\n",
    "for _ in range(m):\n",
    "    a,b = map(int,input().split())\n",
    "    graph[a].append(b) # 인접리스트 만듬\n",
    "visited = [-1]*(n+1) # 1차원 최단거리리스트 초기화\n",
    "\n",
    "# bfs\n",
    "queue = deque()\n",
    "queue.append(x) # 출발도시 큐에 넣음\n",
    "visited[x] = 0 # 출발도시 거리는 0\n",
    "while queue: # 큐가 빌 때까지\n",
    "    v = queue.popleft() # 하나 뽑고\n",
    "    for i in graph[v]: # v와 연결된 노드 중\n",
    "        if visited[i] == -1: # 해당 노드를 처음 방문한다면\n",
    "            queue.append(i)\n",
    "            visited[i] = visited[v] + 1 # 최단거리 갱신\n",
    "\n",
    "# 만약 k가 하나도 존재하지 않는다면 \n",
    "if k not in visited:\n",
    "    print(-1)\n",
    "\n",
    "# 최단거리가 k 인 도시 번호를 오름차순 정렬\n",
    "for i in range(n+1):\n",
    "    if visited[i] == k:\n",
    "        print(i)\n",
    "    "
   ]
  },
  {
   "cell_type": "code",
   "execution_count": 10,
   "id": "8b21f847",
   "metadata": {},
   "outputs": [
    {
     "name": "stdout",
     "output_type": "stream",
     "text": [
      "4 4 1 1\n",
      "1 2\n",
      "1 3\n",
      "2 3\n",
      "2 4\n",
      "2\n",
      "3\n"
     ]
    }
   ],
   "source": [
    "# 책 풀이, 마지막에 check 변수 이용해서 연산을 줄인듯함 \n",
    "\n",
    "from collections import deque\n",
    "\n",
    "# 도시의 개수, 도로의 개수, 거리 정보, 출발 도시 번호\n",
    "n,m,k,x = map(int,input().split())\n",
    "graph = [[] for _ in range(n+1)]\n",
    "\n",
    "# 모든 도로 정보 입력 받기\n",
    "for _ in range(m):\n",
    "    a,b = map(int,input().split())\n",
    "    graph[a].append(b) # 인접리스트 만듬\n",
    "    \n",
    "# 모든 도시에 대한 최단 거리 초기화 \n",
    "visited = [-1]*(n+1)\n",
    "\n",
    "# bfs 수행 \n",
    "queue = deque()\n",
    "queue.append(x) # 출발도시 큐에 넣음\n",
    "visited[x] = 0 # 출발도시 거리는 0\n",
    "\n",
    "while queue: # 큐가 빌 때까지\n",
    "    v = queue.popleft() # 하나 뽑고\n",
    "    for i in graph[v]: # 현재 도시에서 이동 할 수 있는 모든 도시를 확인 (연결된 노드 중)\n",
    "        if visited[i] == -1: # 해당 도시를 처음 방문한다면\n",
    "            queue.append(i)\n",
    "            visited[i] = visited[v] + 1 # 최단거리 갱신\n",
    "            \n",
    "# 최단 거리가 k인 모든 도시의 번호를 오름차순으로 출력\n",
    "check = False\n",
    "for i in range(1, n+1):\n",
    "    if visited[i] == k:\n",
    "        print(i)\n",
    "        check = True\n",
    "\n",
    "# 만약 최단 거리가 k인 도시가 없다면 -1 출력\n",
    "if check == False:\n",
    "    print(-1)"
   ]
  },
  {
   "cell_type": "code",
   "execution_count": null,
   "id": "b798f84c",
   "metadata": {},
   "outputs": [],
   "source": []
  }
 ],
 "metadata": {
  "kernelspec": {
   "display_name": "Python 3 (ipykernel)",
   "language": "python",
   "name": "python3"
  },
  "language_info": {
   "codemirror_mode": {
    "name": "ipython",
    "version": 3
   },
   "file_extension": ".py",
   "mimetype": "text/x-python",
   "name": "python",
   "nbconvert_exporter": "python",
   "pygments_lexer": "ipython3",
   "version": "3.8.15"
  }
 },
 "nbformat": 4,
 "nbformat_minor": 5
}
