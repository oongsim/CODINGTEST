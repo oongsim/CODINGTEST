{
 "cells": [
  {
   "cell_type": "markdown",
   "id": "f570e1a8",
   "metadata": {},
   "source": [
    "# 미로 탈출\n",
    "---\n",
    "입력예시<br>\n",
    "3 3<br>\n",
    "110<br>\n",
    "010<br>\n",
    "011<br>\n",
    "<br>\n",
    "출력예시<br>\n",
    "5<br>\n",
    "<br><br>\n",
    "입력예시<br>\n",
    "5 6<br>\n",
    "101010<br>\n",
    "111111<br>\n",
    "000001<br>\n",
    "111111<br>\n",
    "111111<br>\n",
    "<br>\n",
    "출력예시<br>\n",
    "10<br>\n",
    "<br><br>"
   ]
  },
  {
   "cell_type": "code",
   "execution_count": 3,
   "id": "240a923c",
   "metadata": {},
   "outputs": [
    {
     "name": "stdout",
     "output_type": "stream",
     "text": [
      "5 6\n",
      "101010\n",
      "111111\n",
      "000001\n",
      "111111\n",
      "111111\n",
      "10\n"
     ]
    }
   ],
   "source": [
    "from collections import deque\n",
    "\n",
    "n,m = map(int,input().split())\n",
    "graph = []\n",
    "for _ in range(n):\n",
    "    graph.append(list(map(int,input())))\n",
    "    \n",
    "# 상 하 좌 우\n",
    "dx = [-1, 1, 0, 0]\n",
    "dy = [0, 0, -1, 1]\n",
    "\n",
    "def bfs(a,b):\n",
    "    queue = deque()\n",
    "    queue.append((a,b))\n",
    "    while queue: # 큐가 빌 때까지 반복\n",
    "        x,y = queue.popleft() # 큐에서 하나의 원소를 뽑아 출력\n",
    "        for i in range(4): # 해당 원소와 연결된, 방문하지 않은 원소들을 방문표시 후 큐에 삽입\n",
    "            nx = x + dx[i]\n",
    "            ny = y + dy[i]\n",
    "            if nx >=0 and nx < n and ny >=0 and ny<m: # 조건에 만족할 때\n",
    "                if graph[nx][ny] == 1:\n",
    "                    queue.append((nx,ny))\n",
    "                    graph[nx][ny] = graph[x][y] + 1\n",
    "                    \n",
    "    return graph[n-1][m-1]\n",
    "                    \n",
    "print(bfs(0,0))"
   ]
  },
  {
   "cell_type": "code",
   "execution_count": 4,
   "id": "9f192c98",
   "metadata": {},
   "outputs": [
    {
     "name": "stdout",
     "output_type": "stream",
     "text": [
      "5 6\n",
      "101010\n",
      "111111\n",
      "000001\n",
      "111111\n",
      "111111\n",
      "10\n"
     ]
    }
   ],
   "source": [
    "# 책 풀이\n",
    "\n",
    "from collections import deque\n",
    "\n",
    "# n, m을 공백으로 구분하여 입력받기\n",
    "n,m = map(int,input().split())\n",
    "# 2차원 리스트의 맵 정보 입력받기\n",
    "graph = []\n",
    "for _ in range(n):\n",
    "    graph.append(list(map(int,input())))\n",
    "    \n",
    "# 상 하 좌 우\n",
    "dx = [-1, 1, 0, 0]\n",
    "dy = [0, 0, -1, 1]\n",
    "\n",
    "# bfs 소스코드 구현\n",
    "def bfs(a,b):\n",
    "    # 큐 구현을 위해 deque ㄹ라이브러리 사용\n",
    "    queue = deque()\n",
    "    queue.append((a,b))\n",
    "    while queue: # 큐가 빌 때까지 반복\n",
    "        x,y = queue.popleft() # 큐에서 하나의 원소를 뽑아 출력\n",
    "        for i in range(4): # 해당 원소와 연결된, 방문하지 않은 원소들을 방문표시 후 큐에 삽입\n",
    "            nx = x + dx[i]\n",
    "            ny = y + dy[i]\n",
    "            if nx < 0 or nx >= n or ny < 0 or ny >= m: # 미로 찾기 공간을 벗어난 경우 무시\n",
    "                continue\n",
    "            if graph[nx][ny] == 0: # 벽인 경우 무시 \n",
    "                continue\n",
    "            if graph[nx][ny] == 1: # 해당 노드를 처음 방문하는 경우에만 최단 거리 기록\n",
    "                graph[nx][ny] = graph[x][y] + 1\n",
    "                queue.append((nx,ny))\n",
    "    # 가장 오른쪽 아래까지의 최단 거리 반환\n",
    "    return graph[n-1][m-1]\n",
    "                    \n",
    "# bfs를 수행한 결과 출력\n",
    "print(bfs(0,0))"
   ]
  },
  {
   "cell_type": "code",
   "execution_count": null,
   "id": "62a18dcf",
   "metadata": {},
   "outputs": [],
   "source": []
  }
 ],
 "metadata": {
  "kernelspec": {
   "display_name": "Python 3 (ipykernel)",
   "language": "python",
   "name": "python3"
  },
  "language_info": {
   "codemirror_mode": {
    "name": "ipython",
    "version": 3
   },
   "file_extension": ".py",
   "mimetype": "text/x-python",
   "name": "python",
   "nbconvert_exporter": "python",
   "pygments_lexer": "ipython3",
   "version": "3.8.15"
  }
 },
 "nbformat": 4,
 "nbformat_minor": 5
}
