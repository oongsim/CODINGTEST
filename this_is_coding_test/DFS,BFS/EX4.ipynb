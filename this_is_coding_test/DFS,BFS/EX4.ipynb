{
 "cells": [
  {
   "cell_type": "markdown",
   "id": "f570e1a8",
   "metadata": {},
   "source": [
    "# 미로 탈출\n",
    "---\n",
    "입력예시<br>\n",
    "3 3<br>\n",
    "110<br>\n",
    "010<br>\n",
    "011<br>\n",
    "<br>\n",
    "출력예시<br>\n",
    "5<br>\n",
    "<br><br>\n",
    "입력예시<br>\n",
    "5 6<br>\n",
    "101010<br>\n",
    "111111<br>\n",
    "000001<br>\n",
    "111111<br>\n",
    "111111<br>\n",
    "<br>\n",
    "출력예시<br>\n",
    "10<br>\n",
    "<br><br>"
   ]
  },
  {
   "cell_type": "code",
   "execution_count": null,
   "id": "240a923c",
   "metadata": {},
   "outputs": [],
   "source": []
  }
 ],
 "metadata": {
  "kernelspec": {
   "display_name": "Python 3 (ipykernel)",
   "language": "python",
   "name": "python3"
  },
  "language_info": {
   "codemirror_mode": {
    "name": "ipython",
    "version": 3
   },
   "file_extension": ".py",
   "mimetype": "text/x-python",
   "name": "python",
   "nbconvert_exporter": "python",
   "pygments_lexer": "ipython3",
   "version": "3.8.15"
  }
 },
 "nbformat": 4,
 "nbformat_minor": 5
}
