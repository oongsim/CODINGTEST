{
 "cells": [
  {
   "cell_type": "markdown",
   "id": "32a3eb83",
   "metadata": {},
   "source": [
    "# 음료수 얼려 먹기 \n",
    "---\n",
    "입력예시<br>\n",
    "4 5<br>\n",
    "00110<br>\n",
    "00011<br>\n",
    "11111<br>\n",
    "00000<br>\n",
    "<br>\n",
    "출력예시<br>\n",
    "3<br>\n",
    "<br><br>"
   ]
  },
  {
   "cell_type": "code",
   "execution_count": 1,
   "id": "2db70a09",
   "metadata": {},
   "outputs": [
    {
     "name": "stdout",
     "output_type": "stream",
     "text": [
      "4 5\n",
      "00110\n",
      "00011\n",
      "11111\n",
      "00000\n",
      "3\n"
     ]
    }
   ],
   "source": [
    "# 책 풀이\n",
    "\n",
    "n, m = map(int,input().split())\n",
    "# 2차원 리스트 맵 정보 입력받기\n",
    "graph = []\n",
    "for _ in range(n):\n",
    "    graph.append(list(map(int,input())))\n",
    "    \n",
    "# DFS로 특정한 노드 방문한 뒤에 연결된 모든 노드들도 방문\n",
    "def dfs(x,y):\n",
    "    # 주어진 범위를 벗어나는 경우에는 즉시 종료\n",
    "    if x < 0 or x >= n or y < 0 or y >= m:\n",
    "        return False\n",
    "    # 현재 노드를 아직 방문하지 않았다면,\n",
    "    if graph[x][y] == 0:\n",
    "        # 해당 노드 방문 처리\n",
    "        graph[x][y] = 1\n",
    "        dfs(x-1,y)\n",
    "        dfs(x+1,y)\n",
    "        dfs(x,y-1)\n",
    "        dfs(x,y+1)\n",
    "        return True\n",
    "    return False\n",
    "\n",
    "# 모든 노드(위치)에 대하여 음료수 채우기\n",
    "result = 0\n",
    "for i in range(n):\n",
    "    for j in range(m):\n",
    "        if dfs(i,j) == True:\n",
    "            result += 1\n",
    "\n",
    "print(result)"
   ]
  },
  {
   "cell_type": "code",
   "execution_count": 2,
   "id": "b552533d",
   "metadata": {},
   "outputs": [
    {
     "name": "stdout",
     "output_type": "stream",
     "text": [
      "4 5\n",
      "00110\n",
      "00011\n",
      "11111\n",
      "00000\n",
      "0 1 완료 \n",
      "1 2 완료 \n",
      "1 1 완료 \n",
      "1 0 완료 \n",
      "0 0 완료 \n",
      "0 4 완료 \n",
      "3 4 완료 \n",
      "3 3 완료 \n",
      "3 2 완료 \n",
      "3 1 완료 \n",
      "3 0 완료 \n",
      "3\n"
     ]
    }
   ],
   "source": [
    "# 상 하 좌 우 방향 설정, return 위치에 주의 해야함!!\n",
    "\n",
    "dx = [-1, 1, 0, 0]\n",
    "dy = [0, 0, -1, 1]\n",
    "\n",
    "n, m = map(int,input().split())\n",
    "# 2차원 리스트 맵 정보 입력받기\n",
    "graph = []\n",
    "for _ in range(n):\n",
    "    graph.append(list(map(int,input())))\n",
    "    \n",
    "# DFS로 특정한 노드 방문한 뒤에 연결된 모든 노드들도 방문\n",
    "def dfs(x,y):\n",
    "    # 주어진 범위를 벗어나는 경우에는 즉시 종료\n",
    "    if x < 0 or x >= n or y < 0 or y >= m:\n",
    "        return False\n",
    "    # 현재 노드를 아직 방문하지 않았다면,\n",
    "    if graph[x][y] == 0:\n",
    "        # 해당 노드 방문 처리\n",
    "        graph[x][y] = 1\n",
    "        for i in range(4):\n",
    "            nx = x + dx[i]\n",
    "            ny = y + dy[i]\n",
    "            dfs(nx,ny)\n",
    "        print(x,y,\"완료 \")\n",
    "        return True\n",
    "    return False\n",
    "\n",
    "# 모든 노드(위치)에 대하여 음료수 채우기\n",
    "result = 0\n",
    "for i in range(n):\n",
    "    for j in range(m):\n",
    "        if dfs(i,j) == True:\n",
    "            result += 1\n",
    "\n",
    "print(result)"
   ]
  },
  {
   "cell_type": "code",
   "execution_count": null,
   "id": "ce6ed1bc",
   "metadata": {},
   "outputs": [],
   "source": []
  }
 ],
 "metadata": {
  "kernelspec": {
   "display_name": "Python 3 (ipykernel)",
   "language": "python",
   "name": "python3"
  },
  "language_info": {
   "codemirror_mode": {
    "name": "ipython",
    "version": 3
   },
   "file_extension": ".py",
   "mimetype": "text/x-python",
   "name": "python",
   "nbconvert_exporter": "python",
   "pygments_lexer": "ipython3",
   "version": "3.8.15"
  }
 },
 "nbformat": 4,
 "nbformat_minor": 5
}
