{
 "cells": [
  {
   "cell_type": "code",
   "execution_count": null,
   "id": "4a1f06e1",
   "metadata": {},
   "outputs": [],
   "source": []
  },
  {
   "cell_type": "code",
   "execution_count": null,
   "id": "c486ea6e",
   "metadata": {},
   "outputs": [],
   "source": []
  },
  {
   "cell_type": "code",
   "execution_count": null,
   "id": "0c604d55",
   "metadata": {},
   "outputs": [],
   "source": [
    "p = \"()(())\"\n",
    "u = ''\n",
    "cnt = 0\n",
    "index = 0 # v 문자열 구하기 위해\n",
    "for i in p:\n",
    "    if i == '(':\n",
    "        cnt += 1\n",
    "        u += i\n",
    "    else:\n",
    "        cnt -= 1\n",
    "        u += i\n",
    "    index += 1\n",
    "    if cnt == 0: # 균형잡힌 문자열이 되면\n",
    "        break\n",
    "v = p[index:]"
   ]
  }
 ],
 "metadata": {
  "kernelspec": {
   "display_name": "Python 3 (ipykernel)",
   "language": "python",
   "name": "python3"
  },
  "language_info": {
   "codemirror_mode": {
    "name": "ipython",
    "version": 3
   },
   "file_extension": ".py",
   "mimetype": "text/x-python",
   "name": "python",
   "nbconvert_exporter": "python",
   "pygments_lexer": "ipython3",
   "version": "3.8.15"
  }
 },
 "nbformat": 4,
 "nbformat_minor": 5
}
