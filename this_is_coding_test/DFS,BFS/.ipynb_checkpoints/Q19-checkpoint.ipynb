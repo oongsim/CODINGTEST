{
 "cells": [
  {
   "cell_type": "markdown",
   "id": "b3494c87",
   "metadata": {},
   "source": [
    "# 연산자 끼워 넣기\n",
    "---\n",
    "입력 예시<br>\n",
    "2<br>\n",
    "5 6<br>\n",
    "0 0 1 0<br>\n",
    "<br>\n",
    "출력 예시<br>\n",
    "30<br>\n",
    "30<br>\n",
    "<br><br>\n",
    "입력 예시<br>\n",
    "3<br>\n",
    "3 4 5<br>\n",
    "1 0 1 0<br>\n",
    "<br>\n",
    "출력 예시<br>\n",
    "35<br>\n",
    "17<br>\n",
    "<br><br>\n",
    "입력 예시<br>\n",
    "6<br>\n",
    "1 2 3 4 5 6<br>\n",
    "2 1 1 1<br>\n",
    "<br>\n",
    "출력 예시<br>\n",
    "54<br>\n",
    "-24<br>\n",
    "<br><br>"
   ]
  },
  {
   "cell_type": "code",
   "execution_count": 27,
   "id": "5e4d7861",
   "metadata": {},
   "outputs": [
    {
     "name": "stdout",
     "output_type": "stream",
     "text": [
      "6\n",
      "1 2 3 4 5 6\n",
      "2 1 1 1\n",
      "54\n",
      "-24\n"
     ]
    }
   ],
   "source": [
    "from itertools import permutations\n",
    "import math \n",
    "\n",
    "n = int(input())\n",
    "a = list(map(int,input().split())) # 수 리스트\n",
    "o = list(map(int,input().split())) # 연산자 횟수 리스트\n",
    "oper = ['add', 'sub', 'mul', 'div']\n",
    "oplst=[] # 연산자 담는 리스트\n",
    "for i in range(4):\n",
    "    cnt = o[i]\n",
    "    while cnt: # cnt가 0이 될때까지\n",
    "        oplst.append(oper[i])\n",
    "        cnt -= 1\n",
    "        \n",
    "def cal(result, operate, num): # 사칙 계산. 지금까지의 계산 결과와 현재 연산자와 다음 숫자\n",
    "    if operate == 'add':\n",
    "        result += num\n",
    "    elif operate == 'sub':\n",
    "        result -= num\n",
    "    elif operate == 'mul':\n",
    "        result *= num\n",
    "    else:\n",
    "        if result < 0: # 음수를 양수로 나누는 경우라면\n",
    "            result = -((-result)//num)\n",
    "        else:\n",
    "            result //= num\n",
    "    return result\n",
    "            \n",
    "        \n",
    "lst = list(set(list(permutations(oplst,len(oplst))))) # 중복 제외 연산자 순열 리스트\n",
    "result = a[0] # 첫번째 수\n",
    "maxx = -math.inf\n",
    "minn = math.inf\n",
    "\n",
    "for bun in lst: # bun 은 ('mul', 'divide', 'minus', 'plus', 'plus') 이런식으로 되어 있음, 경우의 수 마다\n",
    "    result = a[0] # 첫번째 수\n",
    "    for i in range(n-1):\n",
    "        result = cal(result, bun[i], a[i+1])\n",
    "    maxx = max(result, maxx)\n",
    "    minn = min(result, minn)\n",
    "    \n",
    "print(maxx)\n",
    "print(minn)"
   ]
  },
  {
   "cell_type": "code",
   "execution_count": 30,
   "id": "73c98c2a",
   "metadata": {},
   "outputs": [
    {
     "name": "stdout",
     "output_type": "stream",
     "text": [
      "6\n",
      "1 2 3 4 5 6\n",
      "2 1 1 1\n",
      "54\n",
      "-24\n"
     ]
    }
   ],
   "source": [
    "# 책 풀이. DFS 이용하여 완전탐색, 약간 이해하기가 어려움.. \n",
    "\n",
    "n = int(input())\n",
    "# 연산을 수행하고자 하는 수 리스트\n",
    "data = list(map(int,input().split()))\n",
    "# 더하기, 빼기, 곱하기, 나누기 연산자 개수\n",
    "add, sub, mul, div = map(int,input().split())\n",
    "\n",
    "# 최솟값과 최댓값 초기화\n",
    "min_value = 1e9\n",
    "max_value = -1e9\n",
    "\n",
    "# 깊이 우선 탐색(DFS) 메소드\n",
    "def dfs(i, now):\n",
    "    global min_value, max_value, add, sub, mul, div\n",
    "    # 모든 연산자를 다 사용한 경우, 최솟값과 최댓값 업데이트\n",
    "    if i == n:\n",
    "        min_value = min(min_value, now)\n",
    "        max_value = max(max_value, now)\n",
    "    else:\n",
    "        # 각 연산자에 대하여 재귀적으로 수행\n",
    "        if add > 0:\n",
    "            add -= 1\n",
    "            dfs(i+1, now+data[i])\n",
    "            add += 1\n",
    "        if sub > 0:\n",
    "            sub -= 1\n",
    "            dfs(i+1, now-data[i])\n",
    "            sub += 1\n",
    "        if mul > 0:\n",
    "            mul -= 1\n",
    "            dfs(i+1, now*data[i])\n",
    "            mul += 1\n",
    "        if div >0:\n",
    "            div -= 1\n",
    "            dfs(i+1, int(now/data[i]))\n",
    "            div += 1\n",
    "        \n",
    "# DFS 메서드 호출\n",
    "dfs(1, data[0])\n",
    "\n",
    "# 최댓값과 최솟값 차례대로 출력\n",
    "print(max_value)\n",
    "print(min_value)"
   ]
  },
  {
   "cell_type": "code",
   "execution_count": null,
   "id": "e528a0b8",
   "metadata": {},
   "outputs": [],
   "source": []
  }
 ],
 "metadata": {
  "kernelspec": {
   "display_name": "Python 3 (ipykernel)",
   "language": "python",
   "name": "python3"
  },
  "language_info": {
   "codemirror_mode": {
    "name": "ipython",
    "version": 3
   },
   "file_extension": ".py",
   "mimetype": "text/x-python",
   "name": "python",
   "nbconvert_exporter": "python",
   "pygments_lexer": "ipython3",
   "version": "3.8.15"
  }
 },
 "nbformat": 4,
 "nbformat_minor": 5
}
