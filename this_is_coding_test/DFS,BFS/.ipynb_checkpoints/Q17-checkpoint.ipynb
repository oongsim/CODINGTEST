{
 "cells": [
  {
   "cell_type": "markdown",
   "id": "9811bad9",
   "metadata": {},
   "source": [
    "# 경쟁적 전염\n",
    "---\n",
    "입력 예시<br>\n",
    "3 3<br>\n",
    "1 0 2<br>\n",
    "0 0 0<br>\n",
    "3 0 0<br>\n",
    "2 3 2<br>\n",
    "<br>\n",
    "출력 예시<br>\n",
    "3<br>\n",
    "<br><br>\n",
    "입력 예시<br>\n",
    "3 3<br>\n",
    "1 0 2<br>\n",
    "0 0 0<br>\n",
    "3 0 0<br>\n",
    "1 2 2<br>\n",
    "<br>\n",
    "출력 예시<br>\n",
    "0<br>\n",
    "<br><br>"
   ]
  },
  {
   "cell_type": "code",
   "execution_count": 7,
   "id": "12570b86",
   "metadata": {},
   "outputs": [
    {
     "name": "stdout",
     "output_type": "stream",
     "text": [
      "3 3\n",
      "1 0 2\n",
      "0 0 0\n",
      "3 0 0\n",
      "1 2 2\n",
      "0\n"
     ]
    }
   ],
   "source": [
    "# BFS 사용하지 않음, 약간 노가다... \n",
    "import copy\n",
    "\n",
    "n,k = map(int,input().split())\n",
    "maplst = []\n",
    "for _ in range(n):\n",
    "    maplst.append(list(map(int,input().split())))\n",
    "temp = copy.deepcopy(maplst) # 임시 맵 만들기\n",
    "s,a,b = map(int,input().split())\n",
    "\n",
    "dx = [-1, 0, 1, 0]\n",
    "dy = [0, 1, 0, -1]\n",
    "\n",
    "for t in range(s): # s초까지 진행\n",
    "    for bun in range(1, k+1): # 1~k번 찾기\n",
    "        for x in range(n):\n",
    "            for y in range(n):\n",
    "                if maplst[x][y] == bun: # 진짜 맵에서만\n",
    "                    for i in range(4):\n",
    "                        nx = x + dx[i]\n",
    "                        ny = y + dy[i]\n",
    "                        if nx >= 0 and nx < n and ny >= 0 and ny < n: # 범위에 속하고\n",
    "                            if temp[nx][ny] == 0: # 빈칸이면\n",
    "                                temp[nx][ny] = bun                        \n",
    "    maplst = copy.deepcopy(temp) # temp 정보를 maplst에 옮겨준다\n",
    "\n",
    "print(maplst[a-1][b-1])"
   ]
  },
  {
   "cell_type": "code",
   "execution_count": 9,
   "id": "761d5247",
   "metadata": {},
   "outputs": [
    {
     "name": "stdout",
     "output_type": "stream",
     "text": [
      "3 3\n",
      "1 0 2\n",
      "0 0 0\n",
      "3 0 0\n",
      "2 3 2\n",
      "3\n"
     ]
    }
   ],
   "source": [
    "# 책 풀이, 너비 우선 탐색(BFS)을 수행하며 바이러스 있는 위치 큐에 넣고 하나씩 꺼내면서 인접위치 확인\n",
    "from collections import deque\n",
    "\n",
    "n,k = map(int,input().split())\n",
    "\n",
    "graph = [] # 전체 보드 정보를 담는 리스트\n",
    "data = [] # 바이러스에 대한 정보를 담는 리스트\n",
    "\n",
    "for i in range(n):\n",
    "    graph.append(list(map(int,input().split())))\n",
    "    for j in range(n):\n",
    "        # 해당 위치에 바이러스가 존재하는 경우\n",
    "        if graph[i][j] != 0:\n",
    "            # (바이러스 종류, 시간, 위치x, 위치y) 삽입\n",
    "            data.append((graph[i][j], 0, i, j))\n",
    "            \n",
    "# 정렬 이후에 큐로 옮기기 (낮은 번호의 바이러스가 먼저 증식하므로)\n",
    "data.sort()\n",
    "q = deque(data)\n",
    "\n",
    "target_s, target_x, target_y = map(int,input().split())\n",
    "\n",
    "# 바이러스가 퍼져나갈 수 있는 4가지 위치\n",
    "dx = [-1, 0, 1, 0]\n",
    "dy = [0, 1, 0, -1]\n",
    "\n",
    "# 너비 우선 탐색(BFS) 진행\n",
    "while q:\n",
    "    virus, s, x, y = q.popleft()\n",
    "    # 정확히 s초가 지나거나, 큐가 빌 때까지 반복\n",
    "    if s == target_s:\n",
    "        break\n",
    "    \n",
    "    # 현재 노드에서 주변 4가지 위치를 각각 확인\n",
    "    for i in range(4):\n",
    "        nx = x + dx[i]\n",
    "        ny = y + dy[i]\n",
    "        # 해당 위치로 이동할 수 있는 경우\n",
    "        if nx >= 0 and nx < n and ny >= 0 and ny < n:\n",
    "            # 아직 방문하지 않은 위치라면, 그 위치에 바이러스 넣고 큐에 추가\n",
    "            if graph[nx][ny] == 0:\n",
    "                graph[nx][ny] = virus\n",
    "                q.append((virus,s+1,nx,ny))\n",
    "                \n",
    "print(graph[target_x-1][target_y-1])\n",
    "        "
   ]
  }
 ],
 "metadata": {
  "kernelspec": {
   "display_name": "Python 3 (ipykernel)",
   "language": "python",
   "name": "python3"
  },
  "language_info": {
   "codemirror_mode": {
    "name": "ipython",
    "version": 3
   },
   "file_extension": ".py",
   "mimetype": "text/x-python",
   "name": "python",
   "nbconvert_exporter": "python",
   "pygments_lexer": "ipython3",
   "version": "3.8.15"
  }
 },
 "nbformat": 4,
 "nbformat_minor": 5
}
