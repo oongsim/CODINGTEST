{
 "cells": [
  {
   "cell_type": "markdown",
   "id": "9f827e65",
   "metadata": {},
   "source": [
    "# 경쟁적 전염\n",
    "---\n",
    "입력 예시<br>\n",
    "3 3<br>\n",
    "1 0 2<br>\n",
    "0 0 0<br>\n",
    "3 0 0<br>\n",
    "2 3 2<br>\n",
    "<br>\n",
    "출력 예시<br>\n",
    "3<br>\n",
    "<br><br>\n",
    "입력 예시<br>\n",
    "3 3<br>\n",
    "1 0 2<br>\n",
    "0 0 0<br>\n",
    "3 0 0<br>\n",
    "1 2 2<br>\n",
    "<br>\n",
    "출력 예시<br>\n",
    "0<br>\n",
    "<br><br>"
   ]
  },
  {
   "cell_type": "code",
   "execution_count": null,
   "id": "73abe563",
   "metadata": {},
   "outputs": [],
   "source": []
  }
 ],
 "metadata": {
  "kernelspec": {
   "display_name": "Python 3 (ipykernel)",
   "language": "python",
   "name": "python3"
  },
  "language_info": {
   "codemirror_mode": {
    "name": "ipython",
    "version": 3
   },
   "file_extension": ".py",
   "mimetype": "text/x-python",
   "name": "python",
   "nbconvert_exporter": "python",
   "pygments_lexer": "ipython3",
   "version": "3.8.15"
  }
 },
 "nbformat": 4,
 "nbformat_minor": 5
}
