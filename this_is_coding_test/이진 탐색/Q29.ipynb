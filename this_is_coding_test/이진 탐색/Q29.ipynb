{
 "cells": [
  {
   "cell_type": "markdown",
   "id": "27f6bf74",
   "metadata": {},
   "source": [
    "# 공유기 설치\n",
    "---\n",
    "입력예시<br>\n",
    "5 3<br>\n",
    "1<br>\n",
    "2<br>\n",
    "8<br>\n",
    "4<br>\n",
    "9<br>\n",
    "<br>\n",
    "출력예시<br>\n",
    "3<br>\n",
    "<br><br>"
   ]
  },
  {
   "cell_type": "code",
   "execution_count": 5,
   "id": "a0adadaa",
   "metadata": {},
   "outputs": [
    {
     "name": "stdout",
     "output_type": "stream",
     "text": [
      "5 3\n",
      "1\n",
      "2\n",
      "8\n",
      "4\n",
      "9\n",
      "3\n"
     ]
    }
   ],
   "source": [
    "from itertools import combinations\n",
    "\n",
    "n,c = map(int,input().split())\n",
    "shares = []\n",
    "for _ in range(n):\n",
    "    shares.append(int(input()))\n",
    "shares.sort() # 정렬\n",
    "\n",
    "choices = list(combinations(shares,c))\n",
    "distance = 0\n",
    "for choice in choices:\n",
    "    d = 10e9\n",
    "    for i in range(c-1):\n",
    "        temp = choice[i+1] - choice[i]\n",
    "        d = min(temp,d)\n",
    "    distance = max(distance, d)\n",
    "    \n",
    "print(distance)"
   ]
  },
  {
   "cell_type": "code",
   "execution_count": 6,
   "id": "aaae3784",
   "metadata": {},
   "outputs": [
    {
     "name": "stdout",
     "output_type": "stream",
     "text": [
      "5 3\n",
      "1\n",
      "2\n",
      "8\n",
      "4\n",
      "9\n",
      "3\n"
     ]
    }
   ],
   "source": [
    "# 책 풀이, 이진 탐색 이용! '가장 인접한 두 공유기 사이 거리 = gap'을 조절해가며 공유기를 몇 개 설치 할 수 있는지 체크. \n",
    "\n",
    "n,c = map(int,input().split())\n",
    "array = []\n",
    "for _ in range(n):\n",
    "    array.append(int(input()))\n",
    "array.sort() # 정렬\n",
    "\n",
    "start = 1 # 가능한 최소 거리(min gap)\n",
    "end = array[-1]-array[0] # 가능한 최대 거리(max gap)\n",
    "result = 0\n",
    "\n",
    "while(start <= end):\n",
    "    mid = (start+end)//2 # mid은 gap을 의미\n",
    "    value = array[0]\n",
    "    count = 1 # 가장 왼쪽에 있는 곳에 공유기를 놓음\n",
    "    # 현재의 mid값을 이용해 공유기 설치\n",
    "    for i in range(1, n): # 앞에서부터 차근차근 설치\n",
    "        if array[i] >= value+mid:\n",
    "            value = array[i]\n",
    "            count += 1\n",
    "    if count >= c: # c개 이상의 공유기를 설치 할 수 있는 경우, 거리를 증가\n",
    "        start = mid + 1\n",
    "        result = mid # 최적의 결과를 저장\n",
    "    else:\n",
    "        end = mid - 1\n",
    "        \n",
    "print(result)"
   ]
  },
  {
   "cell_type": "code",
   "execution_count": null,
   "id": "754dbc28",
   "metadata": {},
   "outputs": [],
   "source": []
  }
 ],
 "metadata": {
  "kernelspec": {
   "display_name": "Python 3 (ipykernel)",
   "language": "python",
   "name": "python3"
  },
  "language_info": {
   "codemirror_mode": {
    "name": "ipython",
    "version": 3
   },
   "file_extension": ".py",
   "mimetype": "text/x-python",
   "name": "python",
   "nbconvert_exporter": "python",
   "pygments_lexer": "ipython3",
   "version": "3.8.15"
  }
 },
 "nbformat": 4,
 "nbformat_minor": 5
}
