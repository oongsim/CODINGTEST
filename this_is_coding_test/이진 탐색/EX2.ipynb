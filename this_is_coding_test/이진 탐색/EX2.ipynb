{
 "cells": [
  {
   "cell_type": "markdown",
   "id": "7b82d1e5",
   "metadata": {},
   "source": [
    "# 떡볶이 떡 만들기\n",
    "---\n",
    "입력예시<br>\n",
    "4 6<br>\n",
    "19 15 10 17<br>\n",
    "<br>\n",
    "출력예시<br>\n",
    "15<br>\n",
    "<br><br>"
   ]
  },
  {
   "cell_type": "code",
   "execution_count": 1,
   "id": "0ce75b3c",
   "metadata": {},
   "outputs": [
    {
     "name": "stdout",
     "output_type": "stream",
     "text": [
      "4 6\n",
      "19 15 10 17\n",
      "15\n"
     ]
    }
   ],
   "source": [
    "n,m = map(int,input().split())\n",
    "lst = list(map(int,input().split()))\n",
    "\n",
    "start = 0\n",
    "end = max(lst)\n",
    "\n",
    "# 이진 탐색 수행\n",
    "result = 0\n",
    "while(start<=end):\n",
    "    total = 0\n",
    "    mid = (start+end)//2\n",
    "    for x in lst:\n",
    "        # 잘랐을 때의 떡의 양 계산\n",
    "        if x > mid:\n",
    "            total += x-mid\n",
    "    if total < m: # 떡의 양이 부족한 경우 더 많이 자르기 (왼쪽 부분 탐색)\n",
    "        end = mid-1\n",
    "    else: # 떡의 양이 충분한 경우 덜 자르기 (오른쪽 부분 탐색)\n",
    "        result = mid # 최대한 덜 잘랐을 때가 정답으므로, 저장해둠\n",
    "        start = mid + 1\n",
    "        \n",
    "print(result)"
   ]
  },
  {
   "cell_type": "code",
   "execution_count": null,
   "id": "801e294f",
   "metadata": {},
   "outputs": [],
   "source": []
  }
 ],
 "metadata": {
  "kernelspec": {
   "display_name": "Python 3 (ipykernel)",
   "language": "python",
   "name": "python3"
  },
  "language_info": {
   "codemirror_mode": {
    "name": "ipython",
    "version": 3
   },
   "file_extension": ".py",
   "mimetype": "text/x-python",
   "name": "python",
   "nbconvert_exporter": "python",
   "pygments_lexer": "ipython3",
   "version": "3.8.15"
  }
 },
 "nbformat": 4,
 "nbformat_minor": 5
}
