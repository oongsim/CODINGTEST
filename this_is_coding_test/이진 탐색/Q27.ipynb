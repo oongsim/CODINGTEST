{
 "cells": [
  {
   "cell_type": "markdown",
   "id": "15d63545",
   "metadata": {},
   "source": [
    "# 정렬된 배열에서 특정 수의 개수 구하기\n",
    "---\n",
    "입력예시<br>\n",
    "7 2<br>\n",
    "1 1 2 2 2 2 3<br>\n",
    "<br>\n",
    "출력예시<br>\n",
    "4<br>\n",
    "<br><br>\n",
    "입력예시<br>\n",
    "7 4<br>\n",
    "1 1 2 2 2 2 3<br>\n",
    "<br>\n",
    "출력예시<br>\n",
    "-1<br>\n",
    "<br><br>"
   ]
  },
  {
   "cell_type": "code",
   "execution_count": 2,
   "id": "92c2aed5",
   "metadata": {},
   "outputs": [
    {
     "name": "stdout",
     "output_type": "stream",
     "text": [
      "7 4\n",
      "1 1 2 2 2 2 3\n",
      "-1\n"
     ]
    }
   ],
   "source": [
    "from bisect import bisect_left, bisect_right\n",
    "\n",
    "n,x = map(int,input().split())\n",
    "lst = list(map(int,input().split()))\n",
    "\n",
    "l = bisect_left(lst,x)\n",
    "r = bisect_right(lst,x)\n",
    "\n",
    "if r-l == 0:\n",
    "    print(-1)\n",
    "else:\n",
    "    print(r-l)"
   ]
  },
  {
   "cell_type": "code",
   "execution_count": 2,
   "id": "a8e2379d",
   "metadata": {},
   "outputs": [
    {
     "name": "stdout",
     "output_type": "stream",
     "text": [
      "7 2\n",
      "1 1 2 2 2 2 3\n",
      "4\n"
     ]
    }
   ],
   "source": [
    "# 책 풀이, 2번의 이진 탐색 구현\n",
    "\n",
    "# 정렬된 수열에서 값이 x인 원소의 개수를 세는 메서드\n",
    "def count_by_value(array, x):\n",
    "    n = len(array)\n",
    "    \n",
    "    a = first(array, x, 0, n-1)\n",
    "    if a == None: # 수열에 x가 존재하지 않는 경우\n",
    "        return 0  # 값이 x인 원소의 개수는 0개 이므로 0 반환\n",
    "    \n",
    "    b = last(array, x, 0, n-1)\n",
    "    \n",
    "    return b-a+1\n",
    "\n",
    "# 처음 위치를 찾는 이진 탐색 메서드\n",
    "def first(array, target, start, end):\n",
    "    if start > end:\n",
    "        return None\n",
    "    mid = (start+end)//2\n",
    "    # 해당 값을 가지는 원소 중에서 가장 왼쪽에 있는 경우에만 인덱스 반환\n",
    "    if (mid==0 or array[mid-1] < target) and array[mid] == target:\n",
    "        return mid\n",
    "    elif array[mid] >= target: # 중간점의 값보다 타겟값이 작거나 같은 경우 왼쪽 확인\n",
    "        return first(array, target, start, mid-1)\n",
    "    else: # 중간점의 값보다 타겟값이 큰 경우 오른쪽 확인\n",
    "        return first(array, target, mid+1, end)\n",
    "    \n",
    "# 마지막 위치를 찾는 이진 탐색 메서드\n",
    "def last(array, target, start, end):\n",
    "    if start>end:\n",
    "        return None\n",
    "    mid = (start+end)//2\n",
    "    # 해당 값을 가지는 원소 중에서 가장 오른쪽에 있는 경우에만 인덱스 반환\n",
    "    if (mid==n-1 or array[mid+1] > target) and array[mid] == target:\n",
    "        return mid\n",
    "    elif array[mid] > target: # 중간점의 값보다 타겟값이 작은 경우 왼쪽 확인\n",
    "        return last(array, target, start, mid-1)\n",
    "    else: # 중간점의 값보다 타겟값이 크거나 같은 경우 오른쪽 확인\n",
    "        return last(array, target, mid+1, end)\n",
    "    \n",
    "n,x = map(int,input().split())\n",
    "array = list(map(int,input().split()))\n",
    "\n",
    "count = count_by_value(array,x)\n",
    "\n",
    "if count == 0:\n",
    "    print(-1)\n",
    "else:\n",
    "    print(count)"
   ]
  },
  {
   "cell_type": "code",
   "execution_count": null,
   "id": "0b92dd41",
   "metadata": {},
   "outputs": [],
   "source": []
  }
 ],
 "metadata": {
  "kernelspec": {
   "display_name": "Python 3 (ipykernel)",
   "language": "python",
   "name": "python3"
  },
  "language_info": {
   "codemirror_mode": {
    "name": "ipython",
    "version": 3
   },
   "file_extension": ".py",
   "mimetype": "text/x-python",
   "name": "python",
   "nbconvert_exporter": "python",
   "pygments_lexer": "ipython3",
   "version": "3.8.15"
  }
 },
 "nbformat": 4,
 "nbformat_minor": 5
}
