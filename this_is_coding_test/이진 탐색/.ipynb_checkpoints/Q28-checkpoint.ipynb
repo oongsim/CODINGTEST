{
 "cells": [
  {
   "cell_type": "markdown",
   "id": "b4eb72a0",
   "metadata": {},
   "source": [
    "# 고정점 찾기\n",
    "---\n",
    "입력예시<br>\n",
    "5<br>\n",
    "-15 -6 1 3 7<br>\n",
    "<br>\n",
    "출력예시<br>\n",
    "3<br>\n",
    "<br><br>\n",
    "입력예시<br>\n",
    "7<br>\n",
    "-15 -4 2 8 9 13 15<br>\n",
    "<br>\n",
    "출력예시<br>\n",
    "2<br>\n",
    "<br><br>\n",
    "입력예시<br>\n",
    "7<br>\n",
    "-15 -4 3 8 9 13 15<br>\n",
    "<br>\n",
    "출력예시<br>\n",
    "-1<br>\n",
    "<br><br>"
   ]
  },
  {
   "cell_type": "code",
   "execution_count": null,
   "id": "3042d350",
   "metadata": {},
   "outputs": [],
   "source": []
  }
 ],
 "metadata": {
  "kernelspec": {
   "display_name": "Python 3 (ipykernel)",
   "language": "python",
   "name": "python3"
  },
  "language_info": {
   "codemirror_mode": {
    "name": "ipython",
    "version": 3
   },
   "file_extension": ".py",
   "mimetype": "text/x-python",
   "name": "python",
   "nbconvert_exporter": "python",
   "pygments_lexer": "ipython3",
   "version": "3.8.15"
  }
 },
 "nbformat": 4,
 "nbformat_minor": 5
}
