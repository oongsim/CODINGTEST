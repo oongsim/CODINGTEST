{
 "cells": [
  {
   "cell_type": "markdown",
   "id": "99a50b63",
   "metadata": {},
   "source": [
    "# 부품 찾기\n",
    "---\n",
    "입력예시<br>\n",
    "5<br>\n",
    "8 3 7 9 2<br>\n",
    "3<br>\n",
    "5 7 9<br>\n",
    "<br>\n",
    "출력예시<br>\n",
    "no yes yes<br>\n",
    "<br><br>"
   ]
  },
  {
   "cell_type": "code",
   "execution_count": 6,
   "id": "aa374ebc",
   "metadata": {},
   "outputs": [
    {
     "name": "stdout",
     "output_type": "stream",
     "text": [
      "5\n",
      "8 3 7 9 2\n",
      "3\n",
      "5 7 9\n",
      "no yes yes "
     ]
    }
   ],
   "source": [
    "n = int(input())\n",
    "store = list(map(int,input().split()))\n",
    "store.sort() # 이진 탐색 수행하기 위해 사전에 정렬 해줌\n",
    "m = int(input())\n",
    "guest = list(map(int,input().split()))\n",
    "\n",
    "def binary_search(arr, target, start, end):\n",
    "    while start <= end:\n",
    "        mid = (start+end)//2\n",
    "        if arr[mid] == target:\n",
    "            return \"yes\"\n",
    "        elif arr[mid] > target:\n",
    "            end = mid-1\n",
    "        else:\n",
    "            start = mid+1\n",
    "    return \"no\"\n",
    "\n",
    "for i in guest:\n",
    "    answer = binary_search(store, i, 0, n-1)\n",
    "    print(answer, end=' ')"
   ]
  },
  {
   "cell_type": "code",
   "execution_count": 3,
   "id": "fa668d09",
   "metadata": {},
   "outputs": [
    {
     "name": "stdout",
     "output_type": "stream",
     "text": [
      "5\n",
      "8 3 7 9 2\n",
      "3\n",
      "5 7 9\n",
      "no yes yes "
     ]
    }
   ],
   "source": [
    "# 책 풀이, 계수 정렬 이용\n",
    "\n",
    "n = int(input())\n",
    "array = [0] * 1000001\n",
    "\n",
    "for i in input().split():\n",
    "    array[int(i)] = 1\n",
    "\n",
    "m = int(input())\n",
    "x = list(map(int,input().split()))\n",
    "\n",
    "for i in x:\n",
    "    # 해당 부품이 존재하는 지 확인\n",
    "    if array[i] == 1:\n",
    "        print('yes', end=\" \")\n",
    "    else:\n",
    "        print('no', end=' ')"
   ]
  },
  {
   "cell_type": "code",
   "execution_count": 4,
   "id": "22af30da",
   "metadata": {},
   "outputs": [
    {
     "name": "stdout",
     "output_type": "stream",
     "text": [
      "5\n",
      "8 3 7 9 2\n",
      "3\n",
      "5 7 9\n",
      "no yes yes "
     ]
    }
   ],
   "source": [
    "# 책 풀이, 집합 자료형 이용, 가장 간단\n",
    "\n",
    "n = int(input())\n",
    "array = set(map(int,input().split()))\n",
    "\n",
    "m = int(input())\n",
    "x = list(map(int,input().split()))\n",
    "\n",
    "for i in x:\n",
    "    if i in array:\n",
    "        print('yes', end=\" \")\n",
    "    else:\n",
    "        print('no', end=\" \")"
   ]
  },
  {
   "cell_type": "code",
   "execution_count": null,
   "id": "c357487e",
   "metadata": {},
   "outputs": [],
   "source": []
  }
 ],
 "metadata": {
  "kernelspec": {
   "display_name": "Python 3 (ipykernel)",
   "language": "python",
   "name": "python3"
  },
  "language_info": {
   "codemirror_mode": {
    "name": "ipython",
    "version": 3
   },
   "file_extension": ".py",
   "mimetype": "text/x-python",
   "name": "python",
   "nbconvert_exporter": "python",
   "pygments_lexer": "ipython3",
   "version": "3.8.15"
  }
 },
 "nbformat": 4,
 "nbformat_minor": 5
}
