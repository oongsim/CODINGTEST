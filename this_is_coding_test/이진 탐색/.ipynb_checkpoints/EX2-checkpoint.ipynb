{
 "cells": [
  {
   "cell_type": "markdown",
   "id": "7b82d1e5",
   "metadata": {},
   "source": [
    "# 떡볶이 떡 만들기\n",
    "---\n",
    "입력예시<br>\n",
    "4 6<br>\n",
    "19 15 10 17<br>\n",
    "<br>\n",
    "출력예시<br>\n",
    "15<br>\n",
    "<br><br>"
   ]
  },
  {
   "cell_type": "code",
   "execution_count": null,
   "id": "0ce75b3c",
   "metadata": {},
   "outputs": [],
   "source": []
  }
 ],
 "metadata": {
  "kernelspec": {
   "display_name": "Python 3 (ipykernel)",
   "language": "python",
   "name": "python3"
  },
  "language_info": {
   "codemirror_mode": {
    "name": "ipython",
    "version": 3
   },
   "file_extension": ".py",
   "mimetype": "text/x-python",
   "name": "python",
   "nbconvert_exporter": "python",
   "pygments_lexer": "ipython3",
   "version": "3.8.15"
  }
 },
 "nbformat": 4,
 "nbformat_minor": 5
}
