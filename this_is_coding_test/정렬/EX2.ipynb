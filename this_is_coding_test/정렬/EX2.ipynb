{
 "cells": [
  {
   "cell_type": "markdown",
   "id": "d9758603",
   "metadata": {},
   "source": [
    "# 성적이 낮은 순서로 학생 출력하기\n",
    "---\n",
    "입력예시<br>\n",
    "2<br>\n",
    "홍길동 95<br>\n",
    "이순신 77<br>\n",
    "<br>\n",
    "출력예시<br>\n",
    "이순신 홍길동<br>\n",
    "<br><br>"
   ]
  },
  {
   "cell_type": "code",
   "execution_count": 4,
   "id": "5df92ebf",
   "metadata": {},
   "outputs": [
    {
     "name": "stdout",
     "output_type": "stream",
     "text": [
      "2\n",
      "홍길동 95\n",
      "이순신 77\n",
      "이순신 홍길동 "
     ]
    }
   ],
   "source": [
    "n = int(input())\n",
    "lst = []\n",
    "for i in range(n):\n",
    "    name, grade = input().split()\n",
    "    lst.append((name,int(grade)))\n",
    "    \n",
    "result = sorted(lst, key=lambda x:x[1])\n",
    "\n",
    "for i in result:\n",
    "    print(i[0], end=' ')\n",
    "    "
   ]
  },
  {
   "cell_type": "code",
   "execution_count": null,
   "id": "ff6e7789",
   "metadata": {},
   "outputs": [],
   "source": []
  }
 ],
 "metadata": {
  "kernelspec": {
   "display_name": "Python 3 (ipykernel)",
   "language": "python",
   "name": "python3"
  },
  "language_info": {
   "codemirror_mode": {
    "name": "ipython",
    "version": 3
   },
   "file_extension": ".py",
   "mimetype": "text/x-python",
   "name": "python",
   "nbconvert_exporter": "python",
   "pygments_lexer": "ipython3",
   "version": "3.8.15"
  }
 },
 "nbformat": 4,
 "nbformat_minor": 5
}
