{
 "cells": [
  {
   "cell_type": "markdown",
   "id": "779833d5",
   "metadata": {},
   "source": [
    "# 성적이 낮은 순서로 학생 출력하기\n",
    "---\n",
    "입력예시<br>\n",
    "2<br>\n",
    "홍길동 95<br>\n",
    "이순신 77<br>\n",
    "<br>\n",
    "출력예시<br>\n",
    "이순신 홍길동<br>\n",
    "<br><br>"
   ]
  },
  {
   "cell_type": "code",
   "execution_count": null,
   "id": "376329e5",
   "metadata": {},
   "outputs": [],
   "source": []
  }
 ],
 "metadata": {
  "kernelspec": {
   "display_name": "Python 3 (ipykernel)",
   "language": "python",
   "name": "python3"
  },
  "language_info": {
   "codemirror_mode": {
    "name": "ipython",
    "version": 3
   },
   "file_extension": ".py",
   "mimetype": "text/x-python",
   "name": "python",
   "nbconvert_exporter": "python",
   "pygments_lexer": "ipython3",
   "version": "3.8.15"
  }
 },
 "nbformat": 4,
 "nbformat_minor": 5
}
