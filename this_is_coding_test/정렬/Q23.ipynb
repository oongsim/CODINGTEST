{
 "cells": [
  {
   "cell_type": "markdown",
   "id": "286fc1c4",
   "metadata": {},
   "source": [
    "# 국영수\n",
    "---\n",
    "입력예시<br>\n",
    "6<br>\n",
    "Junkyu 50 60 100<br>\n",
    "Sangkeun 80 60 50<br>\n",
    "Haebin 50 60 100<br>\n",
    "Kangsoo 60 80 100<br>\n",
    "Donghyuk 80 60 100<br>\n",
    "Wonseob 70 70 90<br>\n",
    "<br>\n",
    "출력예시<br>\n",
    "Donghyuk<br>\n",
    "Sangkeun<br>\n",
    "Wonseob<br>\n",
    "Kangsoo<br>\n",
    "Haebin<br>\n",
    "Junkyu<br>\n",
    "<br><br>"
   ]
  },
  {
   "cell_type": "code",
   "execution_count": 2,
   "id": "11713aca",
   "metadata": {},
   "outputs": [
    {
     "name": "stdout",
     "output_type": "stream",
     "text": [
      "6\n",
      "Junkyu 50 60 100\n",
      "Sangkeun 80 60 50\n",
      "Haebin 50 60 100\n",
      "Kangsoo 60 80 100\n",
      "Donghyuk 80 60 100\n",
      "Wonseob 70 70 90\n",
      "Donghyuk\n",
      "Sangkeun\n",
      "Wonseob\n",
      "Kangsoo\n",
      "Haebin\n",
      "Junkyu\n"
     ]
    }
   ],
   "source": [
    "n = int(input())\n",
    "lst = []\n",
    "for i in range(n):\n",
    "    s = input().split()\n",
    "    lst.append((s[0],int(s[1]),int(s[2]),int(s[3])))\n",
    "    \n",
    "result = sorted(lst,key=lambda x:(-x[1], x[2], -x[3], x[0]))\n",
    "\n",
    "for i in result:\n",
    "    print(i[0])"
   ]
  },
  {
   "cell_type": "code",
   "execution_count": 3,
   "id": "1ff44b1e",
   "metadata": {},
   "outputs": [
    {
     "name": "stdout",
     "output_type": "stream",
     "text": [
      "6\n",
      "Junkyu 50 60 100\n",
      "Sangkeun 80 60 50\n",
      "Haebin 50 60 100\n",
      "Kangsoo 60 80 100\n",
      "Donghyuk 80 60 100\n",
      "Wonseob 70 70 90\n",
      "Donghyuk\n",
      "Sangkeun\n",
      "Wonseob\n",
      "Kangsoo\n",
      "Haebin\n",
      "Junkyu\n"
     ]
    }
   ],
   "source": [
    "# 책 풀이, 코드 더 간단하게\n",
    "\n",
    "n = int(input())\n",
    "students = []\n",
    "for i in range(n):\n",
    "    students.append(input().split())\n",
    "    \n",
    "students.sort(key=lambda x:(-int(x[1]), int(x[2]), -int(x[3]), x[0]))\n",
    "\n",
    "for student in students:\n",
    "    print(student[0])"
   ]
  },
  {
   "cell_type": "code",
   "execution_count": null,
   "id": "4b754e10",
   "metadata": {},
   "outputs": [],
   "source": []
  }
 ],
 "metadata": {
  "kernelspec": {
   "display_name": "Python 3 (ipykernel)",
   "language": "python",
   "name": "python3"
  },
  "language_info": {
   "codemirror_mode": {
    "name": "ipython",
    "version": 3
   },
   "file_extension": ".py",
   "mimetype": "text/x-python",
   "name": "python",
   "nbconvert_exporter": "python",
   "pygments_lexer": "ipython3",
   "version": "3.8.15"
  }
 },
 "nbformat": 4,
 "nbformat_minor": 5
}
