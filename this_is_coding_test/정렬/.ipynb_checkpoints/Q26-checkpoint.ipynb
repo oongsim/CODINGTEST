{
 "cells": [
  {
   "cell_type": "markdown",
   "id": "6af27709",
   "metadata": {},
   "source": [
    "# 카드 정렬하기\n",
    "---\n",
    "입력예시<br>\n",
    "3<br>\n",
    "10<br>\n",
    "20<br>\n",
    "40<br>\n",
    "<br>\n",
    "출력예시<br>\n",
    "100<br>\n",
    "<br><br>"
   ]
  },
  {
   "cell_type": "code",
   "execution_count": 3,
   "id": "21f0717c",
   "metadata": {},
   "outputs": [
    {
     "name": "stdout",
     "output_type": "stream",
     "text": [
      "4\n",
      "10\n",
      "20\n",
      "40\n",
      "50\n",
      "220\n"
     ]
    }
   ],
   "source": [
    "# 책 풀이, 풀이를 봐버려서 그만.. \n",
    "\n",
    "import heapq\n",
    "\n",
    "n = int(input())\n",
    "h = []\n",
    "result = 0\n",
    "for _ in range(n):\n",
    "    heapq.heappush(h, int(input())) # 삽입\n",
    "    \n",
    "while(len(h)>1): # 꺼낼 것이 1개만 있으면 멈춤\n",
    "    a = heapq.heappop(h)\n",
    "    b = heapq.heappop(h)\n",
    "    # 카드 묶음을 합쳐서 다시 삽입\n",
    "    sum_value = a+b\n",
    "    result += sum_value\n",
    "    heapq.heappush(h,sum_value)\n",
    "    \n",
    "print(result)"
   ]
  }
 ],
 "metadata": {
  "kernelspec": {
   "display_name": "Python 3 (ipykernel)",
   "language": "python",
   "name": "python3"
  },
  "language_info": {
   "codemirror_mode": {
    "name": "ipython",
    "version": 3
   },
   "file_extension": ".py",
   "mimetype": "text/x-python",
   "name": "python",
   "nbconvert_exporter": "python",
   "pygments_lexer": "ipython3",
   "version": "3.8.15"
  }
 },
 "nbformat": 4,
 "nbformat_minor": 5
}
