{
 "cells": [
  {
   "cell_type": "markdown",
   "id": "aeafb3cb",
   "metadata": {},
   "source": [
    "# 안테나\n",
    "---\n",
    "입력예시<br>\n",
    "4<br>\n",
    "5 1 7 9<br>\n",
    "<br>\n",
    "출력예시<br>\n",
    "5<br>\n",
    "<br><br>"
   ]
  },
  {
   "cell_type": "code",
   "execution_count": 2,
   "id": "63cef527",
   "metadata": {},
   "outputs": [
    {
     "name": "stdout",
     "output_type": "stream",
     "text": [
      "4\n",
      "5 1 7 9\n",
      "5\n"
     ]
    }
   ],
   "source": [
    "n = int(input())\n",
    "houses = list(map(int,input().split()))\n",
    "houses.sort() # 오름차순 정렬\n",
    "distances = []\n",
    "\n",
    "for i in houses:\n",
    "    s = 0\n",
    "    for j in houses:\n",
    "        s += abs(i-j)\n",
    "    distances.append(s) # 거리 리스트에 house 번호순으로 거리총합 추가\n",
    "    \n",
    "i = distances.index(min(distances)) # 거리 리스트에서 최소값의 인덱스 찾기\n",
    "print(houses[i])"
   ]
  },
  {
   "cell_type": "code",
   "execution_count": 3,
   "id": "976d13ab",
   "metadata": {},
   "outputs": [
    {
     "name": "stdout",
     "output_type": "stream",
     "text": [
      "4\n",
      "5 1 7 9\n",
      "5\n"
     ]
    }
   ],
   "source": [
    "# 책 풀이, 단순히 중간값(median)에 해당하는 위치에 안테나 설치시 거리값이 최소가 됨\n",
    "\n",
    "n = int(input())\n",
    "data = list(map(int,input().split()))\n",
    "data.sort()\n",
    "\n",
    "# 중간값 출력\n",
    "print(data[(n-1)//2])"
   ]
  },
  {
   "cell_type": "code",
   "execution_count": null,
   "id": "ddbf76e3",
   "metadata": {},
   "outputs": [],
   "source": []
  }
 ],
 "metadata": {
  "kernelspec": {
   "display_name": "Python 3 (ipykernel)",
   "language": "python",
   "name": "python3"
  },
  "language_info": {
   "codemirror_mode": {
    "name": "ipython",
    "version": 3
   },
   "file_extension": ".py",
   "mimetype": "text/x-python",
   "name": "python",
   "nbconvert_exporter": "python",
   "pygments_lexer": "ipython3",
   "version": "3.8.15"
  }
 },
 "nbformat": 4,
 "nbformat_minor": 5
}
