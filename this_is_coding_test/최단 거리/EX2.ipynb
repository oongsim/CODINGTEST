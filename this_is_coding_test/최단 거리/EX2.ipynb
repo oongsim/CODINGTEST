{
 "cells": [
  {
   "cell_type": "code",
   "execution_count": 7,
   "id": "3dd3c190",
   "metadata": {},
   "outputs": [
    {
     "name": "stdout",
     "output_type": "stream",
     "text": [
      "5 7\n",
      "1 2\n",
      "1 3\n",
      "1 4\n",
      "2 4\n",
      "3 4\n",
      "3 5\n",
      "4 5\n",
      "4 5\n",
      "3\n"
     ]
    }
   ],
   "source": [
    "# 전형적인 플로이드 워셜 알고리즘 문제, n의 범위가 100이하로 매우 한정적.\n",
    "\n",
    "INF = int(1e9)\n",
    "\n",
    "n,m = map(int,input().split())\n",
    "graph = [[INF] * (n+1) for _ in range(n+1)]\n",
    "\n",
    "# 자기자신 거리 0 설정\n",
    "for a in range(1,n+1):\n",
    "    for b in range(1,n+1):\n",
    "        if a == b:\n",
    "            graph[a][b] = 0\n",
    "    \n",
    "# 초기 연결된 그래프 표현\n",
    "for _ in range(m):\n",
    "    a,b = map(int,input().split())\n",
    "    graph[a][b] = 1\n",
    "    graph[b][a] = 1\n",
    "    \n",
    "x,k = map(int,input().split())\n",
    "    \n",
    "# 플로이드 워셜 알고리즘\n",
    "for i in range(1,n+1):\n",
    "    for a in range(1,n+1):\n",
    "        for b in range(1,n+1):\n",
    "            graph[a][b] = min(graph[a][b], graph[a][i] + graph[i][b])\n",
    "\n",
    "distance = graph[1][k]+graph[k][x]\n",
    "\n",
    "if distance >= INF:\n",
    "    print(-1)\n",
    "else:\n",
    "    print(distance)"
   ]
  },
  {
   "cell_type": "code",
   "execution_count": null,
   "id": "e12c75f2",
   "metadata": {},
   "outputs": [],
   "source": []
  }
 ],
 "metadata": {
  "kernelspec": {
   "display_name": "Python 3 (ipykernel)",
   "language": "python",
   "name": "python3"
  },
  "language_info": {
   "codemirror_mode": {
    "name": "ipython",
    "version": 3
   },
   "file_extension": ".py",
   "mimetype": "text/x-python",
   "name": "python",
   "nbconvert_exporter": "python",
   "pygments_lexer": "ipython3",
   "version": "3.8.15"
  }
 },
 "nbformat": 4,
 "nbformat_minor": 5
}
