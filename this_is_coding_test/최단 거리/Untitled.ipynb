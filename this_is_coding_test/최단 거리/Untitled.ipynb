{
 "cells": [
  {
   "cell_type": "code",
   "execution_count": 2,
   "id": "7e2cf99f",
   "metadata": {},
   "outputs": [
    {
     "name": "stdout",
     "output_type": "stream",
     "text": [
      "3\n",
      "5 5 4\n",
      "3 9 1\n",
      "3 2 7\n",
      "20\n"
     ]
    }
   ],
   "source": [
    "import heapq\n",
    "n = int(input())\n",
    "graph = []\n",
    "for _ in range(n):\n",
    "    graph.append(list(map(int,input().split()))) # 그래프에 비용 저장\n",
    "INF = int(1e9)\n",
    "distance=[[INF] * n for _ in range(n)]\n",
    "dx = [1,0,-1,0]\n",
    "dy = [0,-1,0,1]\n",
    "\n",
    "\n",
    "\n",
    "# 처음 \n",
    "x,y = 0,0\n",
    "distance[x][y] = graph[x][y]\n",
    "q = [(graph[x][y], 0, 0)] # 큐에 저장\n",
    "while q:\n",
    "    dist,x,y = heapq.heappop(q)\n",
    "    if dist > distance[x][y]:\n",
    "        continue\n",
    "    for i in range(4):\n",
    "        nx = x + dx[i]\n",
    "        ny = y + dy[i]\n",
    "        if nx < 0 or nx >= n or ny < 0 or ny >= n: # 범위에서 벗어나면\n",
    "            continue\n",
    "        cost = dist + graph[nx][ny]\n",
    "        if cost < distance[nx][ny]:\n",
    "            distance[nx][ny] = cost\n",
    "            heapq.heappush(q,(cost,nx,ny))\n",
    "            \n",
    "print(distance[n-1][n-1])"
   ]
  },
  {
   "cell_type": "code",
   "execution_count": null,
   "id": "58b5b30f",
   "metadata": {},
   "outputs": [],
   "source": []
  }
 ],
 "metadata": {
  "kernelspec": {
   "display_name": "Python 3 (ipykernel)",
   "language": "python",
   "name": "python3"
  },
  "language_info": {
   "codemirror_mode": {
    "name": "ipython",
    "version": 3
   },
   "file_extension": ".py",
   "mimetype": "text/x-python",
   "name": "python",
   "nbconvert_exporter": "python",
   "pygments_lexer": "ipython3",
   "version": "3.8.15"
  }
 },
 "nbformat": 4,
 "nbformat_minor": 5
}
