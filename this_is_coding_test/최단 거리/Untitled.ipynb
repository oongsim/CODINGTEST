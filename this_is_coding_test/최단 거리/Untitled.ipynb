{
 "cells": [
  {
   "cell_type": "code",
   "execution_count": 3,
   "id": "ca2544fc",
   "metadata": {},
   "outputs": [],
   "source": [
    "import string"
   ]
  },
  {
   "cell_type": "code",
   "execution_count": 6,
   "id": "06da127f",
   "metadata": {},
   "outputs": [],
   "source": [
    "def remove_punctuation(text):\n",
    "    punctuationfree_list = []\n",
    "\n",
    "    for word in text:\n",
    "        if word in string.punctuation:\n",
    "            punctuationfree_list.append(\" \")\n",
    "        else :\n",
    "            punctuationfree_list.append(word)\n",
    "        print(word)\n",
    "    return \"\".join(punctuationfree_list)"
   ]
  },
  {
   "cell_type": "code",
   "execution_count": 7,
   "id": "b70196c0",
   "metadata": {},
   "outputs": [
    {
     "name": "stdout",
     "output_type": "stream",
     "text": [
      "h\n",
      "i\n",
      ".\n",
      " \n",
      "h\n",
      "e\n",
      "l\n",
      "l\n",
      "o\n",
      ",\n",
      " \n",
      "h\n",
      "i\n",
      "h\n",
      "i\n",
      " \n",
      "i\n",
      "m\n",
      " \n",
      "h\n",
      "j\n"
     ]
    },
    {
     "data": {
      "text/plain": [
       "'hi  hello  hihi im hj'"
      ]
     },
     "execution_count": 7,
     "metadata": {},
     "output_type": "execute_result"
    }
   ],
   "source": [
    "remove_punctuation(\"hi. hello, hihi im hj\")"
   ]
  },
  {
   "cell_type": "code",
   "execution_count": 10,
   "id": "a3695891",
   "metadata": {},
   "outputs": [
    {
     "name": "stdout",
     "output_type": "stream",
     "text": [
      "['she', 'young', 'single']\n"
     ]
    }
   ],
   "source": [
    "text =['she', 'am', 'young', 'single']\n",
    "stopwords = ['am']\n",
    "\n",
    "for word in text:\n",
    "    output = [word for word in text if word not in stopwords]\n",
    "print(output)"
   ]
  },
  {
   "cell_type": "code",
   "execution_count": null,
   "id": "6d93bbb3",
   "metadata": {},
   "outputs": [],
   "source": [
    "n,m,k = int(input())\n",
    "\n",
    "list(map(int,input().split()))\n",
    "\n"
   ]
  },
  {
   "cell_type": "code",
   "execution_count": 9,
   "id": "c31ecc34",
   "metadata": {},
   "outputs": [
    {
     "data": {
      "text/plain": [
       "[2, 3, 4, 5, 6]"
      ]
     },
     "execution_count": 9,
     "metadata": {},
     "output_type": "execute_result"
    }
   ],
   "source": [
    "lst = [1,2,3,4,1,5,6,1]\n",
    "\n",
    "\n",
    "lst2 = [i for i in lst if i != 1]\n",
    "lst2"
   ]
  },
  {
   "cell_type": "code",
   "execution_count": 10,
   "id": "bf659774",
   "metadata": {},
   "outputs": [
    {
     "data": {
      "text/plain": [
       "[3, 5, 7, 9, 7, 12, 14, 10]"
      ]
     },
     "execution_count": 10,
     "metadata": {},
     "output_type": "execute_result"
    }
   ],
   "source": [
    "lst = [1,2,3,4,1,5,6,1]\n",
    "lst2 = [2,3,4,5,6,7,8,9]\n",
    "\n",
    "[lst[i]+lst2[i] for i in range(8)]"
   ]
  },
  {
   "cell_type": "code",
   "execution_count": 11,
   "id": "7ca1dc0d",
   "metadata": {},
   "outputs": [
    {
     "data": {
      "text/plain": [
       "[1, 6, 5, 1, 4, 3, 2, 1]"
      ]
     },
     "execution_count": 11,
     "metadata": {},
     "output_type": "execute_result"
    }
   ],
   "source": [
    "lst = [1,2,3,4,1,5,6,1]\n",
    "lst[::-1]"
   ]
  },
  {
   "cell_type": "code",
   "execution_count": 13,
   "id": "b6735545",
   "metadata": {},
   "outputs": [
    {
     "data": {
      "text/plain": [
       "[1, 6, 5, 1, 4, 3, 2, 1]"
      ]
     },
     "execution_count": 13,
     "metadata": {},
     "output_type": "execute_result"
    }
   ],
   "source": [
    "lst = [1,2,3,4,1,5,6,1]\n",
    "lst.reverse()\n",
    "lst"
   ]
  },
  {
   "cell_type": "code",
   "execution_count": 14,
   "id": "920a5d6b",
   "metadata": {},
   "outputs": [
    {
     "name": "stdout",
     "output_type": "stream",
     "text": [
      "1 6 5 1 4 3 2 1 "
     ]
    }
   ],
   "source": [
    "lst = [1,2,3,4,1,5,6,1]\n",
    "for i in reversed(lst):\n",
    "    print(i, end=' ')"
   ]
  },
  {
   "cell_type": "code",
   "execution_count": 16,
   "id": "fec4a2ca",
   "metadata": {},
   "outputs": [
    {
     "name": "stdout",
     "output_type": "stream",
     "text": [
      "1 6 5 1 4 3 2 1 "
     ]
    }
   ],
   "source": [
    "lst = [1,2,3,4,1,5,6,1]\n",
    "for i in range(7, -1, -1):\n",
    "    print(lst[i], end=' ')"
   ]
  },
  {
   "cell_type": "code",
   "execution_count": 18,
   "id": "de947945",
   "metadata": {},
   "outputs": [
    {
     "data": {
      "text/plain": [
       "[9, 2, 3, 4, 9, 5, 6, 9]"
      ]
     },
     "execution_count": 18,
     "metadata": {},
     "output_type": "execute_result"
    }
   ],
   "source": [
    "lst = [1,2,3,4,1,5,6,1]\n",
    "        \n",
    "for i, value in enumerate(lst):\n",
    "    if value == 1:\n",
    "        lst[i] = 9\n",
    "        \n",
    "lst"
   ]
  },
  {
   "cell_type": "code",
   "execution_count": 19,
   "id": "cd731c20",
   "metadata": {},
   "outputs": [
    {
     "data": {
      "text/plain": [
       "[2, 4, 6, 8, 2, 10, 30, 2]"
      ]
     },
     "execution_count": 19,
     "metadata": {},
     "output_type": "execute_result"
    }
   ],
   "source": [
    "lst = [1,2,3,4,1,5,6,1]\n",
    "\n",
    "lst2 = [i*5 if i > 5 else i*2 for i in lst]\n",
    "lst2"
   ]
  },
  {
   "cell_type": "code",
   "execution_count": 21,
   "id": "21319b2d",
   "metadata": {},
   "outputs": [
    {
     "data": {
      "text/plain": [
       "5"
      ]
     },
     "execution_count": 21,
     "metadata": {},
     "output_type": "execute_result"
    }
   ],
   "source": [
    "from collections import deque\n",
    "\n",
    "q = deque()\n",
    "q.append(5)\n",
    "q.append(4)\n",
    "q.append(3)\n",
    "q.popleft()"
   ]
  },
  {
   "cell_type": "code",
   "execution_count": 23,
   "id": "001b5274",
   "metadata": {},
   "outputs": [
    {
     "data": {
      "text/plain": [
       "2"
      ]
     },
     "execution_count": 23,
     "metadata": {},
     "output_type": "execute_result"
    }
   ],
   "source": [
    "import heapq\n",
    "\n",
    "h=[]\n",
    "heapq.heappush(h,5)\n",
    "heapq.heappush(h,3)\n",
    "heapq.heappush(h,2)\n",
    "heapq.heappop(h)"
   ]
  },
  {
   "cell_type": "code",
   "execution_count": null,
   "id": "b866e9c0",
   "metadata": {},
   "outputs": [],
   "source": [
    "def dfs(graph,v,visited):\n",
    "    visited[v] = True\n",
    "    print(v, end=' ')\n",
    "    for i in graph[v]:\n",
    "        if not visited[i]:\n",
    "            dfs(graph,i,visited)\n",
    "            \n",
    "            \n",
    "def bfs(graph, start ,visited):\n",
    "    queue = deque()\n",
    "    visited[start] = True\n",
    "    queue.append(start)\n",
    "    while queue:\n",
    "        v = queue.popleft()\n",
    "        print(v, end=' ')\n",
    "        visited[v] = True\n",
    "        for i in graph[v]:\n",
    "            if not visited[i]:\n",
    "                queue.append(i)\n",
    "                visited[i] = True"
   ]
  },
  {
   "cell_type": "code",
   "execution_count": 25,
   "id": "cc18971a",
   "metadata": {},
   "outputs": [
    {
     "name": "stdout",
     "output_type": "stream",
     "text": [
      "4 6\n",
      "19 15 10 17\n",
      "15\n"
     ]
    }
   ],
   "source": [
    "n, m = map(int,input().split())\n",
    "lst = list(map(int,input().split()))\n",
    "\n",
    "start = 0\n",
    "end = max(lst)\n",
    "\n",
    "result = 0\n",
    "while(start <= end):\n",
    "    total = 0\n",
    "    mid = (start+end)//2\n",
    "    for i in lst:\n",
    "        if i>mid:\n",
    "            total += i-mid\n",
    "    if total < m: # 떡의 양이 부족하면 더 많이 자르기\n",
    "        end = mid-1\n",
    "    else: # 떡의 양이 충분, 덜 자르기 \n",
    "        result = mid # 최대한 덜 잘랐을 때가 정답 \n",
    "        start = mid+1\n",
    "        \n",
    "print(result)"
   ]
  },
  {
   "cell_type": "code",
   "execution_count": 26,
   "id": "d46a8ea2",
   "metadata": {},
   "outputs": [
    {
     "name": "stdout",
     "output_type": "stream",
     "text": [
      "2 15\n",
      "2\n",
      "3\n",
      "5\n"
     ]
    }
   ],
   "source": [
    "n,m = map(int,input().split())\n",
    "array = []\n",
    "for i in range(n):\n",
    "    array.append(int(input()))\n",
    "    \n",
    "d = [10001] * (m+1)\n",
    "\n",
    "d[0] = 0\n",
    "for i in range(n):\n",
    "    for j in range(array[i], m+1):\n",
    "        if d[j-array[i]] != 10001:\n",
    "            d[j] = min(d[j],d[j-array[i]]+1)\n",
    "            \n",
    "if d[m] == 10001:\n",
    "    print(-1)\n",
    "else:\n",
    "    print(d[m])"
   ]
  },
  {
   "cell_type": "code",
   "execution_count": 27,
   "id": "0b8b1807",
   "metadata": {},
   "outputs": [
    {
     "name": "stdout",
     "output_type": "stream",
     "text": [
      "[('a', 'b', 'c'), ('a', 'c', 'b'), ('b', 'a', 'c'), ('b', 'c', 'a'), ('c', 'a', 'b'), ('c', 'b', 'a')]\n"
     ]
    }
   ],
   "source": [
    "from itertools import permutations\n",
    "\n",
    "data = ['a','b','c']\n",
    "result = list(permutations(data,3))\n",
    "\n",
    "print(result)"
   ]
  },
  {
   "cell_type": "code",
   "execution_count": 29,
   "id": "716db2db",
   "metadata": {},
   "outputs": [
    {
     "name": "stdout",
     "output_type": "stream",
     "text": [
      "[('a', 'b'), ('a', 'c'), ('b', 'c')]\n"
     ]
    }
   ],
   "source": [
    "from itertools import combinations\n",
    "\n",
    "data = ['a','b','c']\n",
    "result = list(combinations(data,2))\n",
    "\n",
    "print(result)"
   ]
  },
  {
   "cell_type": "code",
   "execution_count": 30,
   "id": "d4a0a0d6",
   "metadata": {},
   "outputs": [
    {
     "name": "stdout",
     "output_type": "stream",
     "text": [
      "2\n",
      "4\n"
     ]
    }
   ],
   "source": [
    "from bisect import bisect_left, bisect_right\n",
    "\n",
    "a = [1,2,4,4,8]\n",
    "x = 4\n",
    "\n",
    "print(bisect_left(a,x))\n",
    "print(bisect_right(a,x))"
   ]
  },
  {
   "cell_type": "code",
   "execution_count": null,
   "id": "70194e35",
   "metadata": {},
   "outputs": [],
   "source": [
    "nx = x + dx"
   ]
  },
  {
   "cell_type": "code",
   "execution_count": 2,
   "id": "928d6323",
   "metadata": {},
   "outputs": [
    {
     "name": "stdout",
     "output_type": "stream",
     "text": [
      "6 11\n",
      "1\n",
      "1 2 2\n",
      "1 3 5\n",
      "1 4 1\n",
      "2 3 3\n",
      "2 4 2\n",
      "3 2 3\n",
      "3 6 5\n",
      "4 3 3\n",
      "4 5 1\n",
      "5 3 1\n",
      "5 6 2\n",
      "0\n",
      "2\n",
      "3\n",
      "1\n",
      "2\n",
      "4\n"
     ]
    }
   ],
   "source": [
    "INF = int(1e9)\n",
    "n,m = map(int,input().split()) # 노드 개수, 간선 개수 입력 받기\n",
    "start = int(input())\n",
    "graph = [[] for _ in range(n+1)] # 연결되어 있는 노드 정보\n",
    "visited = [False] * (n+1) # 방문 여부 테이블\n",
    "distance = [INF] * (n+1) # 최단 거리 테이블\n",
    "\n",
    "for _ in range(m): # 모든 간선 정보 입력 받기\n",
    "    a,b,c = map(int,input().split())\n",
    "    graph[a].append((b,c)) # 연결되어 있는 노드 (b,c) 형태로\n",
    "    \n",
    "# 방문하지 않은 노드 중에서, 가장 최단 거리가 짧은 노드 번호(인덱스) 반환\n",
    "def get_smallest_node():\n",
    "    min_value = INF\n",
    "    index = 0\n",
    "    for i in range(1, n+1): # i는 인덱스를 의미\n",
    "        if distance[i] < min_value and not visited[i]:\n",
    "            min_value = distance[i]\n",
    "            index = i\n",
    "    return index\n",
    "\n",
    "def dijkstra(start):\n",
    "    # 시작 노드에 대해서 초기화\n",
    "    distance[start] = 0\n",
    "    visited[start] = True\n",
    "    for j in graph[start]: # j 는 (b,c) 형태\n",
    "        distance[j[0]] = j[1]\n",
    "    # 시작노드 제외 전체 n-1 노드에 대하여 반복\n",
    "    for _ in range(n-1):\n",
    "        now = get_smallest_node() # 현재 최단 거리가 가장 짧은 노드를 꺼내서, 방문 처리\n",
    "        visited[now] = True\n",
    "        # 현재 노드와 연결된 다른 노드를 확인\n",
    "        for j in graph[now]:\n",
    "            cost = distance[now] + j[1]\n",
    "            if cost < distance[j[0]]: # 거리가 더 짧으면 변경\n",
    "                distance[j[0]] = cost\n",
    "                \n",
    "dijkstra(start)\n",
    "\n",
    "# 모든 노드로 가기위한 최단 거리 출력\n",
    "for i in range(1,n+1):\n",
    "    if distance[i] == INF:\n",
    "        print('INFINITY')\n",
    "    else:\n",
    "        print(distance[i])"
   ]
  },
  {
   "cell_type": "code",
   "execution_count": 1,
   "id": "6c96ee94",
   "metadata": {},
   "outputs": [
    {
     "name": "stdout",
     "output_type": "stream",
     "text": [
      "6 11\n",
      "1\n",
      "1 2 2\n",
      "1 3 5\n",
      "1 4 1\n",
      "2 3 3\n",
      "2 4 2\n",
      "3 2 3\n",
      "3 6 5\n",
      "4 3 3\n",
      "4 5 1\n",
      "5 3 1\n",
      "5 6 2\n",
      "0\n",
      "2\n",
      "3\n",
      "1\n",
      "2\n",
      "4\n"
     ]
    }
   ],
   "source": [
    "import heapq\n",
    "\n",
    "INF = int(1e9)\n",
    "n,m = map(int,input().split())\n",
    "start = int(input())\n",
    "graph = [[] for _ in range(n+1)]\n",
    "distance = [INF] * (n+1)\n",
    "\n",
    "for _ in range(m):\n",
    "    a,b,c = map(int,input().split())\n",
    "    graph[a].append((b,c))\n",
    "    \n",
    "def dijkstra(start):\n",
    "    q = []\n",
    "    heapq.heappush(q,(0,start)) # 시작 노드로 가기 위한 최단 경로는 0, 큐에 삽입\n",
    "    distance[start] = 0\n",
    "    while q: # 큐가 비어있지 않다면\n",
    "        dist, now = heapq.heappop(q)\n",
    "        if dist > distance[now]: # 이미 방문한 적 있는 노드\n",
    "            continue\n",
    "        for j in graph[now]:\n",
    "            cost = j[1] + dist\n",
    "            if cost < distance[j[0]]:\n",
    "                distance[j[0]] = cost\n",
    "                heapq.heappush(q,(cost,j[0]))\n",
    "                \n",
    "dijkstra(start)\n",
    "\n",
    "for i in range(1, n+1):\n",
    "    if distance[i] == INF:\n",
    "        print(\"INFINITY\")\n",
    "    else:\n",
    "        print(distance[i])"
   ]
  },
  {
   "cell_type": "code",
   "execution_count": null,
   "id": "37062c0e",
   "metadata": {},
   "outputs": [],
   "source": [
    "def dijkstra(start):\n",
    "    q = []\n",
    "    heapq.heappush(q,(0,start))\n",
    "    distance[start] = 0\n",
    "    while q:\n",
    "        dist,now = heapq.heappush(q)\n",
    "        if dist > distance[now]:\n",
    "            continue\n",
    "        for i in graph[now]: #(노드, 거리)\n",
    "            cost = i[1] + dist\n",
    "            if cost < distance[i[0]]:\n",
    "                distance[i[0]] = cost\n",
    "                heapq.heappush(q,(cost,i[0]))"
   ]
  },
  {
   "cell_type": "code",
   "execution_count": 2,
   "id": "75c10e6a",
   "metadata": {},
   "outputs": [
    {
     "name": "stdout",
     "output_type": "stream",
     "text": [
      "4\n",
      "7\n",
      "1 2 4\n",
      "1 4 6\n",
      "2 1 3\n",
      "2 3 7\n",
      "3 1 5\n",
      "3 4 4\n",
      "4 3 2\n",
      "0 4 8 6 \n",
      "3 0 7 9 \n",
      "5 9 0 4 \n",
      "7 11 2 0 \n"
     ]
    }
   ],
   "source": [
    "INF = int(1e9)\n",
    "\n",
    "n = int(input())\n",
    "m = int(input())\n",
    "graph = [[INF] * (n+1) for _ in range(n+1)]\n",
    "\n",
    "# 자기 자신에서 자기 자신으로 가는 비용은 0으로 초기화\n",
    "for a in range(1,n+1):\n",
    "    for b in range(1,n+1):\n",
    "        if a == b:\n",
    "            graph[a][b] = 0\n",
    "            \n",
    "# 각 간선의 정보를 입력받아, 그 값으로 초기화\n",
    "for _ in range(m):\n",
    "    a,b,c = map(int,input().split())\n",
    "    graph[a][b] = c\n",
    "    \n",
    "# 점화식에 따라 플로이드워셜 알고리즘 수행\n",
    "for k in range(1,n+1):\n",
    "    for a in range(1,n+1):\n",
    "        for b in range(1,n+1):\n",
    "            graph[a][b] = min(graph[a][b], graph[a][k] + graph[k][b])\n",
    "            \n",
    "# 수행된 결과를 출력\n",
    "for a in range(1,n+1):\n",
    "    for b in range(1,n+1):\n",
    "        if graph[a][b] == INF:\n",
    "            print(\"INFINITY\", end=\" \")\n",
    "        else:\n",
    "            print(graph[a][b], end=\" \")\n",
    "    print()\n",
    "    "
   ]
  },
  {
   "cell_type": "code",
   "execution_count": null,
   "id": "2274f891",
   "metadata": {},
   "outputs": [],
   "source": []
  }
 ],
 "metadata": {
  "kernelspec": {
   "display_name": "Python 3 (ipykernel)",
   "language": "python",
   "name": "python3"
  },
  "language_info": {
   "codemirror_mode": {
    "name": "ipython",
    "version": 3
   },
   "file_extension": ".py",
   "mimetype": "text/x-python",
   "name": "python",
   "nbconvert_exporter": "python",
   "pygments_lexer": "ipython3",
   "version": "3.8.15"
  }
 },
 "nbformat": 4,
 "nbformat_minor": 5
}
