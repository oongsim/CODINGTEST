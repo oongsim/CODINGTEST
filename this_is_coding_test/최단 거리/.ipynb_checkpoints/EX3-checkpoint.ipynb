{
 "cells": [
  {
   "cell_type": "markdown",
   "id": "ad8cbed5",
   "metadata": {},
   "source": [
    "# 전보\n",
    "---\n",
    "입력예시<br>\n",
    "3 2 1<br>\n",
    "1 2 4<br>\n",
    "1 3 2<br>\n",
    "<br>\n",
    "출력예시<br>\n",
    "2 4<br>\n",
    "<br><br>"
   ]
  },
  {
   "cell_type": "code",
   "execution_count": 5,
   "id": "42eba7ba",
   "metadata": {},
   "outputs": [
    {
     "name": "stdout",
     "output_type": "stream",
     "text": [
      "3 2 1\n",
      "1 2 4\n",
      "1 3 2\n",
      "2 4\n"
     ]
    }
   ],
   "source": [
    "# 우선순위 큐 이용하여 다익스트라 알고리즘 작성\n",
    "\n",
    "import heapq\n",
    "INF = int(1e9)\n",
    "\n",
    "n,m,c = map(int,input().split())\n",
    "q = []\n",
    "graph = [[] * (n+1) for _ in range(n+1)]\n",
    "distance = [INF] * (n+1)\n",
    "\n",
    "# 초기 설정\n",
    "for _ in range(m):\n",
    "    a,b,t = map(int,input().split())\n",
    "    graph[a].append((b,t))\n",
    "    \n",
    "# 다익스트라 알고리즘\n",
    "def dijkstra(start):\n",
    "    distance[start] = 0\n",
    "    heapq.heappush(q,(0,start)) # (거리,노드) \n",
    "    while q:\n",
    "        dist, now = heapq.heappop(q)\n",
    "        if dist > distance[now]:\n",
    "            continue\n",
    "        for i in graph[now]:\n",
    "            cost = dist + i[1]\n",
    "            if cost < distance[i[0]]:\n",
    "                distance[i[0]] = cost\n",
    "                heapq.heappush(q,(cost,i[0]))\n",
    "                \n",
    "dijkstra(c)\n",
    "        \n",
    "cnt = 0\n",
    "result = 0\n",
    "for d in distance:\n",
    "    if d != INF:\n",
    "        cnt += 1\n",
    "        result = max(result, d)\n",
    "        \n",
    "print(cnt-1, result) # 시작 노드는 제외해야 하므로 cnt-1 출력"
   ]
  },
  {
   "cell_type": "code",
   "execution_count": null,
   "id": "3802cd98",
   "metadata": {},
   "outputs": [],
   "source": []
  }
 ],
 "metadata": {
  "kernelspec": {
   "display_name": "Python 3 (ipykernel)",
   "language": "python",
   "name": "python3"
  },
  "language_info": {
   "codemirror_mode": {
    "name": "ipython",
    "version": 3
   },
   "file_extension": ".py",
   "mimetype": "text/x-python",
   "name": "python",
   "nbconvert_exporter": "python",
   "pygments_lexer": "ipython3",
   "version": "3.8.15"
  }
 },
 "nbformat": 4,
 "nbformat_minor": 5
}
