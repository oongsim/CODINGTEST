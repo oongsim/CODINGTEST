{
 "cells": [
  {
   "cell_type": "markdown",
   "id": "e77ecb47",
   "metadata": {},
   "source": [
    "# 숨바꼭질\n",
    "---\n",
    "입력예시<br>\n",
    "6 7<br>\n",
    "3 6<br>\n",
    "4 3<br>\n",
    "3 2<br>\n",
    "1 3<br>\n",
    "1 2<br>\n",
    "2 4<br>\n",
    "5 2<br>\n",
    "<br>\n",
    "출력예시<br>\n",
    "4 2 3<br>\n",
    "<br><br>"
   ]
  },
  {
   "cell_type": "code",
   "execution_count": 4,
   "id": "58b5b30f",
   "metadata": {},
   "outputs": [
    {
     "name": "stdout",
     "output_type": "stream",
     "text": [
      "6 7\n",
      "3 6\n",
      "4 3\n",
      "3 2\n",
      "1 3\n",
      "1 2\n",
      "2 4\n",
      "5 2\n",
      "4 2 3\n"
     ]
    }
   ],
   "source": [
    "# 다익스트라 알고리즘 이용. 코드 자체는 가장 간단한 것 같음,,\n",
    "\n",
    "import heapq\n",
    "INF = int(1e9)\n",
    "n,m = map(int,input().split())\n",
    "graph = [[] for _ in range(n+1)]\n",
    "distance = [INF] * (n+1)\n",
    "for _ in range(m):\n",
    "    a,b = map(int,input().split())\n",
    "    graph[a].append(b)\n",
    "    graph[b].append(a)\n",
    "    \n",
    "start = 1\n",
    "distance[start] = 0 \n",
    "q = [(0,start)]  # 초기화\n",
    "while q:\n",
    "    dist, now = heapq.heappop(q)\n",
    "    if distance[now] < dist:\n",
    "        continue\n",
    "    for i in graph[now]:\n",
    "        cost = dist + 1\n",
    "        if cost < distance[i]:\n",
    "            distance[i] = cost\n",
    "            heapq.heappush(q,(cost,i))\n",
    "\n",
    "distance[0] = -INF # 밑에서 값을 구하기 쉽게 바꿔준다 \n",
    "\n",
    "# ma : 가장 큰 값(거리) cnt = 가장 큰 수 개수 idx = 헛간 번호    \n",
    "ma = max(distance) # 최단 거리가 가장 먼 거리\n",
    "cnt = distance.count(ma) # 개수\n",
    "idx = distance.index(ma) # 가장 작은 인덱스 값 \n",
    "\n",
    "print(idx, ma, cnt)"
   ]
  },
  {
   "cell_type": "code",
   "execution_count": 5,
   "id": "838663c5",
   "metadata": {},
   "outputs": [
    {
     "name": "stdout",
     "output_type": "stream",
     "text": [
      "6 7\n",
      "3 6\n",
      "4 3\n",
      "3 2\n",
      "1 3\n",
      "1 2\n",
      "2 4\n",
      "5 2\n",
      "4 2 3\n"
     ]
    }
   ],
   "source": [
    "# 마지막 값 구하는 부분을 살짝 다르게,,\n",
    "\n",
    "import heapq\n",
    "INF = int(1e9)\n",
    "n,m = map(int,input().split())\n",
    "graph = [[] for _ in range(n+1)]\n",
    "distance = [INF] * (n+1)\n",
    "for _ in range(m):\n",
    "    a,b = map(int,input().split())\n",
    "    graph[a].append(b)\n",
    "    graph[b].append(a)\n",
    "    \n",
    "start = 1\n",
    "distance[start] = 0 \n",
    "q = [(0,start)]  # 초기화\n",
    "while q:\n",
    "    dist, now = heapq.heappop(q)\n",
    "    if distance[now] < dist:\n",
    "        continue\n",
    "    for i in graph[now]:\n",
    "        cost = dist + 1\n",
    "        if cost < distance[i]:\n",
    "            distance[i] = cost\n",
    "            heapq.heappush(q,(cost,i))\n",
    "            \n",
    "idx = 0\n",
    "ma = 0\n",
    "\n",
    "for i in range(1,n+1):\n",
    "    if ma < distance[i]:\n",
    "        idx = i\n",
    "        ma = distance[i]\n",
    "        cnt = 1\n",
    "    elif ma == distance[i]:\n",
    "        cnt +=1\n",
    "        \n",
    "print(idx, ma, cnt)"
   ]
  },
  {
   "cell_type": "code",
   "execution_count": 6,
   "id": "b828fdd7",
   "metadata": {},
   "outputs": [
    {
     "name": "stdout",
     "output_type": "stream",
     "text": [
      "6 7\n",
      "3 6\n",
      "4 3\n",
      "3 2\n",
      "1 3\n",
      "1 2\n",
      "2 4\n",
      "5 2\n",
      "4 2 3\n"
     ]
    }
   ],
   "source": [
    "# 책풀이\n",
    "\n",
    "import heapq\n",
    "INF = int(1e9)\n",
    "n,m = map(int,input().split())\n",
    "start = 1 # 시작 노드를 1번 헛간으로 설정\n",
    "graph = [[] for _ in range(n+1)]\n",
    "distance = [INF] * (n+1)\n",
    "for _ in range(m):\n",
    "    a,b = map(int,input().split())\n",
    "    # a번 노드와 b번 노드의 이동 비용이 1 (양방향)\n",
    "    graph[a].append((b,1))\n",
    "    graph[b].append((a,1))\n",
    "    \n",
    "def dijkstra(start):\n",
    "    q = []\n",
    "    heapq.heappush(q,(0,start))\n",
    "    distance[start] = 0\n",
    "    while q:\n",
    "        dist,now = heapq.heappop(q)\n",
    "        if distance[now] < dist:\n",
    "            continue\n",
    "        for i in graph[now]:\n",
    "            cost = dist + i[1]\n",
    "            if cost < distance[i[0]]:\n",
    "                distance[i[0]] = cost\n",
    "                heapq.heappush(q,(cost, i[0]))\n",
    "                \n",
    "dijkstra(start)\n",
    "\n",
    "# 최단 거리가 가장 먼 노드 번호 (동빈이가 숨을 헛간 번호)\n",
    "max_node = 0\n",
    "# 도달할 수 있는 노드 중에서, 최단 거리가 가장 먼 노드와의 최단 거리 \n",
    "max_distance = 0\n",
    "# 최단 거리가 가장 먼 노드와의 최단 거리가 동일한 최단 거리를 가지는 노드들의 리스트\n",
    "result = []\n",
    "\n",
    "for i in range(1,n+1):\n",
    "    if max_distance < distance[i]:\n",
    "        max_distance = distance[i]\n",
    "        max_node = i\n",
    "        result = [max_node]\n",
    "    elif max_distance == distance[i]:\n",
    "        result.append(i)\n",
    "        \n",
    "print(max_node,max_distance,len(result))"
   ]
  }
 ],
 "metadata": {
  "kernelspec": {
   "display_name": "Python 3 (ipykernel)",
   "language": "python",
   "name": "python3"
  },
  "language_info": {
   "codemirror_mode": {
    "name": "ipython",
    "version": 3
   },
   "file_extension": ".py",
   "mimetype": "text/x-python",
   "name": "python",
   "nbconvert_exporter": "python",
   "pygments_lexer": "ipython3",
   "version": "3.8.15"
  }
 },
 "nbformat": 4,
 "nbformat_minor": 5
}
