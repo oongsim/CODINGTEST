{
 "cells": [
  {
   "cell_type": "markdown",
   "id": "46bb5e5c",
   "metadata": {},
   "source": [
    "# 정확한 순위\n",
    "---\n",
    "입력예시<br>\n",
    "6 6<br>\n",
    "1 5<br>\n",
    "3 4<br>\n",
    "4 2<br>\n",
    "4 6<br>\n",
    "5 2<br>\n",
    "5 4<br>\n",
    "<br>\n",
    "출력예시<br>\n",
    "1<br>\n",
    "<br><br>"
   ]
  },
  {
   "cell_type": "code",
   "execution_count": 11,
   "id": "31dde35c",
   "metadata": {},
   "outputs": [
    {
     "name": "stdout",
     "output_type": "stream",
     "text": [
      "6 6\n",
      "1 5\n",
      "3 4\n",
      "4 2\n",
      "4 6\n",
      "5 2\n",
      "5 4\n",
      "[[], [5, 2, 4, 6], [], [4, 2, 6], [2, 6], [2, 4, 6], []]\n",
      "1\n"
     ]
    }
   ],
   "source": [
    "INF = int(1e9)\n",
    "n,m = map(int,input().split())\n",
    "graph = [[] for _ in range(n+1)]\n",
    "#rank = [INF * (n+1)]\n",
    "for _ in range(m): # 현재 상황으로 알 수 있는 정보\n",
    "    a,b = map(int,input().split())\n",
    "    graph[a].append(b)\n",
    "    \n",
    "\n",
    "# 자기보다 큰 수를 모두 graph에 담음\n",
    "for i in range(1,n+1):\n",
    "    for j in graph[i]: # 연결 된 것\n",
    "        for k in graph[j]:\n",
    "            if k not in graph[i]:\n",
    "                graph[i].append(k)\n",
    "                \n",
    "count = 0\n",
    "\n",
    "# 해당 index 개수 + 자기 인덱스를 포함한 개수 합이 n-1(본인제외)이면 성적 순위 알 수 있는 것!\n",
    "for i in range(1,n+1):\n",
    "    r = len(graph[i])\n",
    "    s = 0\n",
    "    for j in graph:\n",
    "        s += j.count(i)\n",
    "    if r + s == n-1:\n",
    "        count += 1\n",
    "        \n",
    "print(graph)\n",
    "print(count)"
   ]
  },
  {
   "cell_type": "code",
   "execution_count": 13,
   "id": "6c3db583",
   "metadata": {},
   "outputs": [
    {
     "name": "stdout",
     "output_type": "stream",
     "text": [
      "6 6\n",
      "1 5\n",
      "3 4\n",
      "4 2\n",
      "4 6\n",
      "5 2\n",
      "5 4\n",
      "1\n"
     ]
    }
   ],
   "source": [
    "# 책 풀이, 플로이드 워셜 알고리즘 이용\n",
    "\n",
    "INF = int(1e9)\n",
    "n,m = map(int,input().split())\n",
    "graph = [[INF] * (n+1) for _ in range(n+1)] # 2차원 리스트(그래프 표현)를 만들고, 모든 값을 무한으로 초기화\n",
    "\n",
    "# 자기 자신에게 가는 비용은 0\n",
    "for a in range(1,n+1):\n",
    "    for b in range(1,n+1):\n",
    "        if a==b:\n",
    "            graph[a][b] = 0\n",
    "            \n",
    "# 각 간선의 정보를 입력받아, 그 값으로 초기화\n",
    "for _ in range(m):\n",
    "    a,b = map(int,input().split())\n",
    "    graph[a][b] = 1 # A에서 B로 가는 비용을 1로 설정 (연결이 되어 있는지가 중요하기 때문에 큰 의미 X)\n",
    "    \n",
    "# 플로이드 워셜 알고리즘\n",
    "for k in range(1,n+1):\n",
    "    for a in range(1,n+1):\n",
    "        for b in range(1,n+1):\n",
    "            graph[a][b] = min(graph[a][b], graph[a][k] + graph[k][b])\n",
    "            \n",
    "result = 0\n",
    "\n",
    "# 각 학생을 번호에 따라 한 명씩 확인하며 도달 가능한지 체크\n",
    "for i in range(1,n+1):\n",
    "    count = 0\n",
    "    for j in range(1,n+1):\n",
    "        if graph[i][j] != INF or graph[j][i] != INF: # I -> J 도달 가능하거나, J -> I 도달 가능하면\n",
    "            count += 1\n",
    "    if count == n: # 한 학생이 다른 학생과 모두 도달가능하면\n",
    "        result += 1\n",
    "        \n",
    "print(result)"
   ]
  }
 ],
 "metadata": {
  "kernelspec": {
   "display_name": "Python 3 (ipykernel)",
   "language": "python",
   "name": "python3"
  },
  "language_info": {
   "codemirror_mode": {
    "name": "ipython",
    "version": 3
   },
   "file_extension": ".py",
   "mimetype": "text/x-python",
   "name": "python",
   "nbconvert_exporter": "python",
   "pygments_lexer": "ipython3",
   "version": "3.8.15"
  }
 },
 "nbformat": 4,
 "nbformat_minor": 5
}
