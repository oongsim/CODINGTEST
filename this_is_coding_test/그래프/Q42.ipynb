{
 "cells": [
  {
   "cell_type": "markdown",
   "id": "8e0ee2de",
   "metadata": {},
   "source": [
    "# 탑승구\n",
    "---\n",
    "입력예시1<br>\n",
    "4<br>\n",
    "3<br>\n",
    "4<br>\n",
    "1<br>\n",
    "1<br>\n",
    "<br>\n",
    "출력예시1<br>\n",
    "2<br>\n",
    "<br><br>\n",
    "입력예시2<br>\n",
    "4<br>\n",
    "6<br>\n",
    "2<br>\n",
    "2<br>\n",
    "3<br>\n",
    "3<br>\n",
    "4<br>\n",
    "4<br>\n",
    "<br>\n",
    "출력예시2<br>\n",
    "3<br>\n",
    "<br><br>\n",
    "입력예시3 - 내가 만든 것 -<br>\n",
    "5<br>\n",
    "6<br>\n",
    "1<br>\n",
    "3<br>\n",
    "3<br>\n",
    "2<br>\n",
    "5<br>\n",
    "1<br>\n",
    "<br>\n",
    "출력예시2<br>\n",
    "3<br>\n",
    "<br><br>"
   ]
  },
  {
   "cell_type": "code",
   "execution_count": 4,
   "id": "c326280d",
   "metadata": {},
   "outputs": [
    {
     "name": "stdout",
     "output_type": "stream",
     "text": [
      "5\n",
      "6\n",
      "1\n",
      "3\n",
      "3\n",
      "2\n",
      "5\n",
      "1\n",
      "3\n"
     ]
    }
   ],
   "source": [
    "g = int(input())\n",
    "p = int(input())\n",
    "cnt = 0\n",
    "gate = [0] * (g+1) # 게이트에 도킹 하려는 비행기 개수 저장 리스트\n",
    "airplane = []\n",
    "\n",
    "for _ in range(p):\n",
    "    airplane.append(int(input())) # 입력 받은 정보 저장\n",
    "\n",
    "for now in airplane:\n",
    "    gate[now] += 1\n",
    "    cnt += 1\n",
    "    for i in range(1,p): # 하나하나 검사, 게이트까지의 저장된 비행기 수가 게이트 번호보다 크면\n",
    "        if sum(gate[1:i+1]) > i: \n",
    "            cnt -= 1\n",
    "            break\n",
    "    \n",
    "print(cnt)"
   ]
  },
  {
   "cell_type": "code",
   "execution_count": 2,
   "id": "07eb085b",
   "metadata": {},
   "outputs": [
    {
     "name": "stdout",
     "output_type": "stream",
     "text": [
      "4\n",
      "6\n",
      "2\n",
      "2\n",
      "3\n",
      "3\n",
      "3\n"
     ]
    }
   ],
   "source": [
    "# 책 풀이, 서로소 집합 알고리즘 이용하여. 근데, 입력받다가 끝나는데 풀이가 이렇게 나와있음,,,\n",
    "# 가장 큰 번호의 탑승구로 도킹을 수행한다고 가정. 도킹하면 바로 왼쪽 집합과 합집합 연산 수행. \n",
    "# 집합의 루트가 0이 되면, 더 이상 도킹 불가능\n",
    "\n",
    "# 특정 원소가 속한 집합을 찾기\n",
    "def find_parent(parent,x):\n",
    "    if parent[x] != x:\n",
    "        parent[x] = find_parent(parent,parent[x])\n",
    "    return parent[x]\n",
    "\n",
    "\n",
    "# 두 원소가 속한 집합을 합치기\n",
    "def union_parent(parent, a, b):\n",
    "    a = find_parent(parent, a)\n",
    "    b = find_parent(parent, b)\n",
    "    if a < b:\n",
    "        parent[b] = a\n",
    "    else:\n",
    "        parent[a] = b\n",
    "        \n",
    "# 탑승구의 개수 입력받기\n",
    "g = int(input())\n",
    "# 비행기의 개수 입력받기\n",
    "p = int(input())\n",
    "parent = [i for i in range(g+1)] # 부모 테이블 초기화 \n",
    "result = 0\n",
    "\n",
    "for _ in range(p):\n",
    "    data = find_parent(parent,int(input())) # 현재 비행기의 탑승구의 루트 확인\n",
    "    if data == 0: # 현재 루트가 0이라면, 종료\n",
    "        break\n",
    "    union_parent(parent, data, data-1) # 그렇지 않다면 바로 왼쪽의 집합과 합치기\n",
    "    result += 1\n",
    "    \n",
    "print(result)"
   ]
  },
  {
   "cell_type": "code",
   "execution_count": null,
   "id": "2d7ad0c4",
   "metadata": {},
   "outputs": [],
   "source": []
  }
 ],
 "metadata": {
  "kernelspec": {
   "display_name": "Python 3 (ipykernel)",
   "language": "python",
   "name": "python3"
  },
  "language_info": {
   "codemirror_mode": {
    "name": "ipython",
    "version": 3
   },
   "file_extension": ".py",
   "mimetype": "text/x-python",
   "name": "python",
   "nbconvert_exporter": "python",
   "pygments_lexer": "ipython3",
   "version": "3.8.15"
  }
 },
 "nbformat": 4,
 "nbformat_minor": 5
}
