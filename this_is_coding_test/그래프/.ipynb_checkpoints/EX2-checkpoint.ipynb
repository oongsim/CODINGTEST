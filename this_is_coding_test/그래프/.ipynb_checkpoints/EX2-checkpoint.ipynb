{
 "cells": [
  {
   "cell_type": "markdown",
   "id": "e1dbe0de",
   "metadata": {},
   "source": [
    "# 팀 결성\n",
    "---\n",
    "입력예시<br>\n",
    "7 8<br>\n",
    "0 1 3<br>\n",
    "1 1 7<br>\n",
    "0 7 6<br>\n",
    "1 7 1<br>\n",
    "0 3 7<br>\n",
    "0 4 2<br>\n",
    "0 1 1<br>\n",
    "1 1 1<br>\n",
    "<br>\n",
    "출력예시<br>\n",
    "NO<br>\n",
    "NO<br>\n",
    "YES<br>\n",
    "<br><br>"
   ]
  },
  {
   "cell_type": "code",
   "execution_count": 6,
   "id": "cfa79248",
   "metadata": {
    "scrolled": true
   },
   "outputs": [
    {
     "name": "stdout",
     "output_type": "stream",
     "text": [
      "7 8\n",
      "0 1 3\n",
      "1 1 7\n",
      "NO\n",
      "0 7 6\n",
      "1 7 1\n",
      "NO\n",
      "0 3 7\n",
      "0 4 2\n",
      "0 1 1\n",
      "1 1 1\n",
      "YES\n"
     ]
    }
   ],
   "source": [
    "# 서로소 집합 알고리즘 문제\n",
    "\n",
    "n,m = map(int,input().split())\n",
    "team = [i for i in range(n+1)] # 팀 테이블 초기화\n",
    "\n",
    "def find_team(team,x):\n",
    "    if team[x] != x:\n",
    "        team[x] = find_team(team,team[x])\n",
    "    return team[x]\n",
    "\n",
    "def union(team,a,b): # 팀 합치기\n",
    "    a = find_team(team,a)\n",
    "    b = find_team(team,b)\n",
    "    if a < b:\n",
    "        team[b] = a\n",
    "    elif a > b:\n",
    "        team[a] = b\n",
    "        \n",
    "for _ in range(m):\n",
    "    k,a,b = map(int,input().split())\n",
    "    if k == 0:\n",
    "        union(team,a,b)\n",
    "    elif k == 1:\n",
    "        if find_team(team,a) == find_team(team,b):\n",
    "            print('YES')\n",
    "        else:\n",
    "            print('NO')"
   ]
  },
  {
   "cell_type": "code",
   "execution_count": null,
   "id": "396de483",
   "metadata": {},
   "outputs": [],
   "source": []
  }
 ],
 "metadata": {
  "kernelspec": {
   "display_name": "Python 3 (ipykernel)",
   "language": "python",
   "name": "python3"
  },
  "language_info": {
   "codemirror_mode": {
    "name": "ipython",
    "version": 3
   },
   "file_extension": ".py",
   "mimetype": "text/x-python",
   "name": "python",
   "nbconvert_exporter": "python",
   "pygments_lexer": "ipython3",
   "version": "3.8.15"
  }
 },
 "nbformat": 4,
 "nbformat_minor": 5
}
