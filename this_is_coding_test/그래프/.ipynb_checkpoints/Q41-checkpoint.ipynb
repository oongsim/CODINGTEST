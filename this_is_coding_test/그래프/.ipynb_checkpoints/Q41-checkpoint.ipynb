{
 "cells": [
  {
   "cell_type": "markdown",
   "id": "158d6651",
   "metadata": {},
   "source": [
    "# 여행 계획\n",
    "---\n",
    "입력예시<br>\n",
    "5 4<br>\n",
    "0 1 0 1 1<br>\n",
    "1 0 1 1 0<br>\n",
    "0 1 0 0 0<br>\n",
    "1 1 0 0 0<br>\n",
    "1 0 0 0 0<br>\n",
    "2 3 4 3<br>\n",
    "<br>\n",
    "출력예시<br>\n",
    "YES<br>\n",
    "<br><br>"
   ]
  },
  {
   "cell_type": "code",
   "execution_count": 12,
   "id": "1af4e5f1",
   "metadata": {},
   "outputs": [
    {
     "name": "stdout",
     "output_type": "stream",
     "text": [
      "5 4\n",
      "0 1 0 1 1\n",
      "1 0 1 1 0\n",
      "0 1 0 0 0\n",
      "1 1 0 0 0\n",
      "1 0 0 0 0\n",
      "2 3 4 3\n",
      "YES\n"
     ]
    }
   ],
   "source": [
    "n,m = map(int,input().split())\n",
    "graph = []\n",
    "for _ in range(n):\n",
    "    graph.append(list(map(int,input().split()))) # 그래프에 연결상태 저장\n",
    "    \n",
    "def find_parent(parent,x):\n",
    "    if parent[x] != x:\n",
    "        parent[x] = find_parent(parent,parent[x])\n",
    "    return parent[x]\n",
    "\n",
    "def union_parent(parent,a,b):\n",
    "    a = find_parent(parent,a)\n",
    "    b = find_parent(parent,b)\n",
    "    if a < b:\n",
    "        parent[b] = a\n",
    "    else:\n",
    "        parent[a] = b\n",
    "        \n",
    "parent = [i for i in range(n+1)] # parent 리스트 초기화\n",
    "\n",
    "# union 연산 수행\n",
    "for i in range(n):\n",
    "    for j in range(n):\n",
    "        if graph[i][j] == 1: # 그래프 연결상태가 1이면,\n",
    "            union_parent(parent, i+1, j+1) # union 연산 수행 (i,j는 인덱스 상태이므로, i+1, j+1로)\n",
    "            \n",
    "plan = list(map(int,input().split())) # 계획 입력받고\n",
    "result = 0 # 결과 프린트 용\n",
    "\n",
    "for i in range(m-1):\n",
    "    if find_parent(parent,plan[i]) != find_parent(parent,plan[i+1]):\n",
    "        print('NO')\n",
    "        result = 1\n",
    "        break\n",
    "if result == 0:\n",
    "    print('YES')"
   ]
  },
  {
   "cell_type": "code",
   "execution_count": 13,
   "id": "ba3cedac",
   "metadata": {},
   "outputs": [
    {
     "name": "stdout",
     "output_type": "stream",
     "text": [
      "5 4\n",
      "0 1 0 1 1\n",
      "1 0 1 1 0\n",
      "0 1 0 0 0\n",
      "1 1 0 0 0\n",
      "1 0 0 0 0\n",
      "2 3 4 3\n",
      "YES\n"
     ]
    }
   ],
   "source": [
    "# 책 풀이, 연결상태 입력 받고, union 연산을 바로 수행\n",
    "\n",
    "# 특정 원소가 속한 집합을 찾기\n",
    "def find_parent(parent, x):\n",
    "    if parent[x] != x:\n",
    "        parent[x] = find_parent(parent, parent[x])\n",
    "    return parent[x]\n",
    "\n",
    "# 두 원소가 속한 집합을 합치기\n",
    "def union_parent(parent, a, b):\n",
    "    a = find_parent(parent, a)\n",
    "    b = find_parent(parent, b)\n",
    "    if a < b:\n",
    "        parent[b] = a\n",
    "    else:\n",
    "        parent[a] = b\n",
    "        \n",
    "n,m = map(int,input().split())\n",
    "\n",
    "# 부모 테이블 초기화\n",
    "parent = [0] * (n+1)\n",
    "for i in range(1, n+1):\n",
    "    parent[i] = i \n",
    "# parent = [i for i in range(n+1)]  부모 리스트 초기화 방법 이게 더 간단함,,  \n",
    "\n",
    "# union 연산을 각각 수행\n",
    "for i in range(n):\n",
    "    data = list(map(int,input().split()))\n",
    "    for j in range(n):\n",
    "        if data[j] == 1: # 연결된 경우, union 연산 수행\n",
    "            union_parent(parent,i+1,j+1)\n",
    "\n",
    "# 여행 계획 입력 받기\n",
    "plan = list(map(int,input().split()))\n",
    "\n",
    "result = True\n",
    "# 여행 계획에 속하는 모든 노드의 루트가 동일한지 확인\n",
    "for i in range(m-1):\n",
    "    if find_parent(parent,plan[i]) != find_parent(parent,plan[i+1]):\n",
    "        result = False\n",
    "        \n",
    "if result:\n",
    "    print('YES')\n",
    "else:\n",
    "    print('NO')"
   ]
  },
  {
   "cell_type": "code",
   "execution_count": null,
   "id": "5ff39ebf",
   "metadata": {},
   "outputs": [],
   "source": []
  }
 ],
 "metadata": {
  "kernelspec": {
   "display_name": "Python 3 (ipykernel)",
   "language": "python",
   "name": "python3"
  },
  "language_info": {
   "codemirror_mode": {
    "name": "ipython",
    "version": 3
   },
   "file_extension": ".py",
   "mimetype": "text/x-python",
   "name": "python",
   "nbconvert_exporter": "python",
   "pygments_lexer": "ipython3",
   "version": "3.8.15"
  }
 },
 "nbformat": 4,
 "nbformat_minor": 5
}
