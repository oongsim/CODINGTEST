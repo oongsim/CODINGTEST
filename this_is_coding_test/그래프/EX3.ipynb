{
 "cells": [
  {
   "cell_type": "markdown",
   "id": "05bd6f45",
   "metadata": {},
   "source": [
    "# 도시 분할 계획\n",
    "---\n",
    "입력예시<br>\n",
    "7 12<br>\n",
    "1 2 3<br>\n",
    "1 3 2<br>\n",
    "3 2 1<br>\n",
    "2 5 2<br>\n",
    "3 4 4<br>\n",
    "7 3 6<br>\n",
    "5 1 5<br>\n",
    "1 6 2<br>\n",
    "6 4 1<br>\n",
    "6 5 3<br>\n",
    "4 5 3<br>\n",
    "6 7 4<br>\n",
    "<br>\n",
    "출력예시<br>\n",
    "8<br>\n",
    "<br><br>"
   ]
  },
  {
   "cell_type": "code",
   "execution_count": 3,
   "id": "3996cb0c",
   "metadata": {},
   "outputs": [
    {
     "name": "stdout",
     "output_type": "stream",
     "text": [
      "7 12\n",
      "1 2 3\n",
      "1 3 2\n",
      "3 2 1\n",
      "2 5 2\n",
      "3 4 4\n",
      "7 3 6\n",
      "5 1 5\n",
      "1 6 2\n",
      "6 4 1\n",
      "6 5 3\n",
      "4 5 3\n",
      "6 7 4\n",
      "8\n"
     ]
    }
   ],
   "source": [
    "# 최소 신장 트리 찾은 후에 가장 비용이 큰 간선을 제거하여 분리된 도시를 만들어 줌.\n",
    "\n",
    "def find_parent(parent,x):\n",
    "    if parent[x] != x:\n",
    "        parent[x] = find_parent(parent,parent[x])\n",
    "    return parent[x]\n",
    "\n",
    "def union_parent(parent,a,b):\n",
    "    a = find_parent(parent,a)\n",
    "    b = find_parent(parent,b)\n",
    "    if a < b:\n",
    "        parent[b] = a\n",
    "    else:\n",
    "        parent[a] = b\n",
    "\n",
    "n,m = map(int,input().split())\n",
    "parent = [i for i in range(n+1)] # 부모 테이블\n",
    "edges = [] # 모든 간선 리스트\n",
    "for _ in range(m):\n",
    "    a,b,cost = map(int,input().split())\n",
    "    edges.append((cost,a,b))\n",
    "    \n",
    "edges.sort() # 정렬\n",
    "result = 0\n",
    "last = 0\n",
    "\n",
    "for edge in edges:\n",
    "    cost,a,b = edge\n",
    "    if find_parent(parent,a) != find_parent(parent,b): # 사이클이 발생하지 않으면\n",
    "        result += cost\n",
    "        union_parent(parent,a,b) # 연결시킨다\n",
    "        last = cost # 가장 마지막 추가 비용 (제일 큰 값)\n",
    "        \n",
    "print(result-last)"
   ]
  },
  {
   "cell_type": "code",
   "execution_count": null,
   "id": "8ef493ba",
   "metadata": {},
   "outputs": [],
   "source": []
  }
 ],
 "metadata": {
  "kernelspec": {
   "display_name": "Python 3 (ipykernel)",
   "language": "python",
   "name": "python3"
  },
  "language_info": {
   "codemirror_mode": {
    "name": "ipython",
    "version": 3
   },
   "file_extension": ".py",
   "mimetype": "text/x-python",
   "name": "python",
   "nbconvert_exporter": "python",
   "pygments_lexer": "ipython3",
   "version": "3.8.15"
  }
 },
 "nbformat": 4,
 "nbformat_minor": 5
}
