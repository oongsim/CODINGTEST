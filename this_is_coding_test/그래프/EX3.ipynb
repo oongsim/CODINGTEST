{
 "cells": [
  {
   "cell_type": "code",
   "execution_count": 2,
   "id": "d79fa675",
   "metadata": {},
   "outputs": [
    {
     "name": "stdout",
     "output_type": "stream",
     "text": [
      "7 12\n",
      "1 2 3\n",
      "1 3 2\n",
      "3 2 1\n",
      "2 5 2\n",
      "3 4 4\n",
      "7 3 6\n",
      "5 1 5\n",
      "1 6 2\n",
      "6 4 1\n",
      "6 5 3\n",
      "4 5 3\n",
      "6 7 4\n"
     ]
    },
    {
     "ename": "TypeError",
     "evalue": "find_parent() missing 1 required positional argument: 'x'",
     "output_type": "error",
     "traceback": [
      "\u001b[1;31m---------------------------------------------------------------------------\u001b[0m",
      "\u001b[1;31mTypeError\u001b[0m                                 Traceback (most recent call last)",
      "Cell \u001b[1;32mIn [2], line 25\u001b[0m\n\u001b[0;32m     23\u001b[0m \u001b[38;5;28;01mfor\u001b[39;00m edge \u001b[38;5;129;01min\u001b[39;00m edges:\n\u001b[0;32m     24\u001b[0m     cost,a,b \u001b[38;5;241m=\u001b[39m edge\n\u001b[1;32m---> 25\u001b[0m     \u001b[38;5;28;01mif\u001b[39;00m \u001b[43mfind_parent\u001b[49m\u001b[43m(\u001b[49m\u001b[43ma\u001b[49m\u001b[43m)\u001b[49m \u001b[38;5;241m!=\u001b[39m find_parent(b): \u001b[38;5;66;03m# 사이클이 발생하지 않으면\u001b[39;00m\n\u001b[0;32m     26\u001b[0m         result \u001b[38;5;241m+\u001b[39m\u001b[38;5;241m=\u001b[39m cost\n\u001b[0;32m     27\u001b[0m         union_parent(parent,a,b) \u001b[38;5;66;03m# 연결시킨다\u001b[39;00m\n",
      "\u001b[1;31mTypeError\u001b[0m: find_parent() missing 1 required positional argument: 'x'"
     ]
    }
   ],
   "source": [
    "def find_parent(parent,x):\n",
    "    if parent[x] != x:\n",
    "        parent[x] = find_parent(parent,parent[x])\n",
    "    return parent[x]\n",
    "\n",
    "def union_parent(parent,a,b):\n",
    "    a = find_parent(parent,a)\n",
    "    b = find_parent(parent,b)\n",
    "    if a < b:\n",
    "        parent[b] = a\n",
    "    else:\n",
    "        parent[a] = b\n",
    "\n",
    "n,m = map(int,input().split())\n",
    "edges = [] # 모든 길의 경우\n",
    "for _ in range(m):\n",
    "    a,b,cost = map(int,input().split())\n",
    "    edges.append((cost,a,b))\n",
    "    \n",
    "edges.sort() # 정렬\n",
    "result = 0\n",
    "\n",
    "for edge in edges:\n",
    "    cost,a,b = edge\n",
    "    if find_parent(parent,a) != find_parent(parent,b): # 사이클이 발생하지 않으면\n",
    "        result += cost\n",
    "        union_parent(parent,a,b) # 연결시킨다\n",
    "        last = cost # 가장 마지막 추가 비용 (제일 큰 값)\n",
    "        \n",
    "print(result-last)"
   ]
  },
  {
   "cell_type": "code",
   "execution_count": null,
   "id": "d0beddf1",
   "metadata": {},
   "outputs": [],
   "source": []
  }
 ],
 "metadata": {
  "kernelspec": {
   "display_name": "Python 3 (ipykernel)",
   "language": "python",
   "name": "python3"
  },
  "language_info": {
   "codemirror_mode": {
    "name": "ipython",
    "version": 3
   },
   "file_extension": ".py",
   "mimetype": "text/x-python",
   "name": "python",
   "nbconvert_exporter": "python",
   "pygments_lexer": "ipython3",
   "version": "3.8.15"
  }
 },
 "nbformat": 4,
 "nbformat_minor": 5
}
