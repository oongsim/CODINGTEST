{
 "cells": [
  {
   "cell_type": "markdown",
   "id": "6ebc233b",
   "metadata": {},
   "source": [
    "# 탑승구\n",
    "---\n",
    "입력예시1<br>\n",
    "4<br>\n",
    "3<br>\n",
    "4<br>\n",
    "1<br>\n",
    "1<br>\n",
    "<br>\n",
    "출력예시1<br>\n",
    "2<br>\n",
    "<br><br>\n",
    "입력예시2<br>\n",
    "4<br>\n",
    "6<br>\n",
    "2<br>\n",
    "2<br>\n",
    "3<br>\n",
    "3<br>\n",
    "4<br>\n",
    "4<br>\n",
    "<br>\n",
    "출력예시2<br>\n",
    "3<br>\n",
    "<br><br>\n",
    "입력예시3 - 내가 만든 것 -<br>\n",
    "5<br>\n",
    "6<br>\n",
    "1<br>\n",
    "3<br>\n",
    "3<br>\n",
    "2<br>\n",
    "5<br>\n",
    "1<br>\n",
    "<br>\n",
    "출력예시2<br>\n",
    "3<br>\n",
    "<br><br>"
   ]
  },
  {
   "cell_type": "code",
   "execution_count": 5,
   "id": "9684e09f",
   "metadata": {},
   "outputs": [
    {
     "name": "stdout",
     "output_type": "stream",
     "text": [
      "7 11\n",
      "0 1 7\n",
      "0 3 5\n",
      "1 2 8\n",
      "1 3 9\n",
      "1 4 7\n",
      "2 4 5\n",
      "3 4 15\n",
      "3 5 6\n",
      "4 5 8\n",
      "4 6 9\n",
      "5 6 11\n",
      "51\n"
     ]
    }
   ],
   "source": [
    "# 크루스칼 알고리즘 이용\n",
    "\n",
    "def find_parent(parent,x):\n",
    "    if parent[x] != x:\n",
    "        parent[x] = find_parent(parent,parent[x])\n",
    "    return parent[x]\n",
    "\n",
    "def union_parent(parent,a,b):\n",
    "    a = find_parent(parent,a)\n",
    "    b = find_parent(parent,b)\n",
    "    if a < b:\n",
    "        parent[b] = a\n",
    "    else:\n",
    "        parent[a] = b\n",
    "        \n",
    "        \n",
    "n,m = map(int,input().split())\n",
    "roads = []\n",
    "allcost = 0 # 전체 비용 금액\n",
    "cost = 0 # 최소 비용 금액\n",
    "parent = [i for i in range(n+1)]\n",
    "\n",
    "for _ in range(m):\n",
    "    a,b,c = map(int,input().split())\n",
    "    roads.append((c,a,b)) # 정렬 위해 cost 먼저\n",
    "    allcost += c\n",
    "    \n",
    "roads.sort() # 정렬\n",
    "\n",
    "for c,a,b in roads:\n",
    "    if find_parent(parent,a) != find_parent(parent,b): # 루트가 같지 않으면\n",
    "        cost += c\n",
    "        union_parent(parent,a,b)\n",
    "        \n",
    "print(allcost-cost) # 절약할 수 있는 최대 금액"
   ]
  },
  {
   "cell_type": "code",
   "execution_count": null,
   "id": "8d58d067",
   "metadata": {},
   "outputs": [],
   "source": []
  }
 ],
 "metadata": {
  "kernelspec": {
   "display_name": "Python 3 (ipykernel)",
   "language": "python",
   "name": "python3"
  },
  "language_info": {
   "codemirror_mode": {
    "name": "ipython",
    "version": 3
   },
   "file_extension": ".py",
   "mimetype": "text/x-python",
   "name": "python",
   "nbconvert_exporter": "python",
   "pygments_lexer": "ipython3",
   "version": "3.8.15"
  }
 },
 "nbformat": 4,
 "nbformat_minor": 5
}
