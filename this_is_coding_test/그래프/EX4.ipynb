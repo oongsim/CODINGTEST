{
 "cells": [
  {
   "cell_type": "markdown",
   "id": "60440330",
   "metadata": {},
   "source": [
    "# 커리큘럼\n",
    "---\n",
    "입력예시<br>\n",
    "5<br>\n",
    "10 -1<br>\n",
    "10 1 -1<br>\n",
    "4 1 -1<br>\n",
    "4 3 1 -1<br>\n",
    "3 3 -1<br>\n",
    "<br>\n",
    "출력예시<br>\n",
    "10<br>\n",
    "20<br>\n",
    "14<br>\n",
    "18<br>\n",
    "17<br>\n",
    "<br><br>"
   ]
  },
  {
   "cell_type": "code",
   "execution_count": 11,
   "id": "e73ef534",
   "metadata": {},
   "outputs": [
    {
     "name": "stdout",
     "output_type": "stream",
     "text": [
      "5\n",
      "10 -1\n",
      "10 1 -1\n",
      "4 1 -1\n",
      "4 3 1 -1\n",
      "3 3 -1\n",
      "10\n",
      "20\n",
      "14\n",
      "18\n",
      "17\n"
     ]
    }
   ],
   "source": [
    "# 책 풀이, 위상 정렬 알고리즘 응용 문제\n",
    "# 인접한 노드 확인시, 현재보다 강의 시간이 더 긴 경우를 찾는다면, 그 시간 값을 결과 테이블에 갱신 \n",
    "\n",
    "from collections import deque\n",
    "import copy\n",
    "\n",
    "n = int(input())\n",
    "time = [0] * (n+1)\n",
    "graph = [[] for _ in range(n+1)]\n",
    "indegree = [0] * (n+1)\n",
    "\n",
    "for i in range(1,n+1):\n",
    "    lst = list(map(int,input().split()))\n",
    "    time[i] = lst[0] # 타입 테이블에 시간 정보 저장\n",
    "    for j in lst[1:-1]:\n",
    "        graph[j].append(i)\n",
    "        indegree[i] += 1\n",
    "        \n",
    "# 위상 정렬 함수\n",
    "def topology_sort():\n",
    "    result = copy.deepcopy(time) # 시간 결과를 담을 리스트\n",
    "    q = deque()\n",
    "    \n",
    "    for i in range(1,n+1): # 처음 시작시, 진입차수가 0인 노드를 큐에 삽입\n",
    "        if indegree[i] == 0:\n",
    "            q.append(i)\n",
    "        \n",
    "    while q:\n",
    "        now = q.popleft()\n",
    "        for i in graph[now]:\n",
    "            result[i] = max(result[i], result[now]+time[i])\n",
    "            indegree[i] -= 1\n",
    "            if indegree[i] == 0:\n",
    "                q.append(i)\n",
    "                \n",
    "    for i in range(1,n+1): # 출력\n",
    "        print(result[i])\n",
    "\n",
    "topology_sort()"
   ]
  },
  {
   "cell_type": "code",
   "execution_count": null,
   "id": "505e1c7a",
   "metadata": {},
   "outputs": [],
   "source": []
  }
 ],
 "metadata": {
  "kernelspec": {
   "display_name": "Python 3 (ipykernel)",
   "language": "python",
   "name": "python3"
  },
  "language_info": {
   "codemirror_mode": {
    "name": "ipython",
    "version": 3
   },
   "file_extension": ".py",
   "mimetype": "text/x-python",
   "name": "python",
   "nbconvert_exporter": "python",
   "pygments_lexer": "ipython3",
   "version": "3.8.15"
  }
 },
 "nbformat": 4,
 "nbformat_minor": 5
}
