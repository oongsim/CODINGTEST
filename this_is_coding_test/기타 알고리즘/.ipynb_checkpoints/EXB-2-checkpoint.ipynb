{
 "cells": [
  {
   "cell_type": "markdown",
   "id": "42eccd1b",
   "metadata": {},
   "source": [
    "# 암호 만들기\n",
    "---\n",
    "입력예시<br>\n",
    "4 6<br>\n",
    "a t c i s w <br><br>\n",
    "출력예시<br>\n",
    "acis<br>\n",
    "acit<br>\n",
    "aciw<br>\n",
    "acst<br>\n",
    "acsw<br>\n",
    "actw<br>\n",
    "aist<br>\n",
    "aisw<br>\n",
    "aitw<br>\n",
    "astw<br>\n",
    "cist<br>\n",
    "cisw<br>\n",
    "citw<br>\n",
    "istw<br>\n",
    "<br><br>"
   ]
  },
  {
   "cell_type": "code",
   "execution_count": 22,
   "id": "474bd188",
   "metadata": {},
   "outputs": [
    {
     "name": "stdout",
     "output_type": "stream",
     "text": [
      "4 6\n",
      "a t c i s w\n",
      "acis\n",
      "acit\n",
      "aciw\n",
      "acst\n",
      "acsw\n",
      "actw\n",
      "aist\n",
      "aisw\n",
      "aitw\n",
      "astw\n",
      "cist\n",
      "cisw\n",
      "citw\n",
      "istw\n"
     ]
    }
   ],
   "source": [
    "# 책 풀이\n",
    "\n",
    "from itertools import combinations\n",
    "\n",
    "vowels = ('a','e','i','o','u')\n",
    "l,c = map(int,input().split())\n",
    "\n",
    "# 가능한 암호를 사전식으로 출력해야 하므로 입력 이후에 정렬 수행\n",
    "arr = input().split()\n",
    "arr.sort()\n",
    "\n",
    "# 길이가 l인 모든 암호 조합을 확인\n",
    "for password in combinations(arr,l): # password ('a','b','c','d')\n",
    "    # 패스워드에 포함된 각 문자를 확인하며 모음의 개수 세기\n",
    "    cnt = 0\n",
    "    for i in password: # 각 문자가\n",
    "        if i in vowels: # 모음에 있다면\n",
    "            cnt += 1\n",
    "    # 최소 1개의 모음과 최소 2개의 자음이 있는 경우 출력\n",
    "    if cnt >= 1 and cnt <= l-2:\n",
    "        print(''.join(password))"
   ]
  }
 ],
 "metadata": {
  "kernelspec": {
   "display_name": "Python 3 (ipykernel)",
   "language": "python",
   "name": "python3"
  },
  "language_info": {
   "codemirror_mode": {
    "name": "ipython",
    "version": 3
   },
   "file_extension": ".py",
   "mimetype": "text/x-python",
   "name": "python",
   "nbconvert_exporter": "python",
   "pygments_lexer": "ipython3",
   "version": "3.8.15"
  }
 },
 "nbformat": 4,
 "nbformat_minor": 5
}
