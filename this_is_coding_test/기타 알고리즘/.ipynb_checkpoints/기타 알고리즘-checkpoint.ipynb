{
 "cells": [
  {
   "cell_type": "markdown",
   "id": "bbf9ece0",
   "metadata": {},
   "source": [
    "# 소수의 판별"
   ]
  },
  {
   "cell_type": "code",
   "execution_count": 3,
   "id": "0a0685af",
   "metadata": {},
   "outputs": [],
   "source": [
    "# 소수 판별 함수\n",
    "def is_prime_number(x):\n",
    "    # 2부터 (x-1)까지의 모든 수를 확인하며\n",
    "    for i in range(2,x):\n",
    "        if x % i == 0: # 나누어 떨어지면\n",
    "            return False # 소수가 아님\n",
    "    return True"
   ]
  },
  {
   "cell_type": "code",
   "execution_count": 4,
   "id": "ca56e340",
   "metadata": {},
   "outputs": [
    {
     "name": "stdout",
     "output_type": "stream",
     "text": [
      "False\n",
      "True\n"
     ]
    }
   ],
   "source": [
    "print(is_prime_number(4))\n",
    "print(is_prime_number(7))"
   ]
  },
  {
   "cell_type": "code",
   "execution_count": 5,
   "id": "f3b5c48d",
   "metadata": {},
   "outputs": [],
   "source": [
    "import math\n",
    "\n",
    "def is_prime_number(x):\n",
    "    # 2부터 x의 제곱근까지의 모든 수를 확인하며\n",
    "    for i in range(2,int(math.sqrt(x))+1):\n",
    "        if x % i == 0:\n",
    "            return False\n",
    "    return True"
   ]
  },
  {
   "cell_type": "code",
   "execution_count": 6,
   "id": "719add4d",
   "metadata": {},
   "outputs": [
    {
     "name": "stdout",
     "output_type": "stream",
     "text": [
      "False\n",
      "True\n"
     ]
    }
   ],
   "source": [
    "print(is_prime_number(4))\n",
    "print(is_prime_number(7))"
   ]
  },
  {
   "cell_type": "markdown",
   "id": "99a79e2c",
   "metadata": {},
   "source": [
    "### 에라토스테네스의 체\n",
    "여러 개의 수가 소수인지 아닌지 판별"
   ]
  },
  {
   "cell_type": "code",
   "execution_count": 8,
   "id": "3b420635",
   "metadata": {},
   "outputs": [
    {
     "name": "stdout",
     "output_type": "stream",
     "text": [
      "2 3 5 7 11 13 17 19 23 29 31 37 41 43 47 53 59 61 67 71 73 79 83 89 97 101 103 107 109 113 127 131 137 139 149 151 157 163 167 173 179 181 191 193 197 199 211 223 227 229 233 239 241 251 257 263 269 271 277 281 283 293 307 311 313 317 331 337 347 349 353 359 367 373 379 383 389 397 401 409 419 421 431 433 439 443 449 457 461 463 467 479 487 491 499 503 509 521 523 541 547 557 563 569 571 577 587 593 599 601 607 613 617 619 631 641 643 647 653 659 661 673 677 683 691 701 709 719 727 733 739 743 751 757 761 769 773 787 797 809 811 821 823 827 829 839 853 857 859 863 877 881 883 887 907 911 919 929 937 941 947 953 967 971 977 983 991 997 "
     ]
    }
   ],
   "source": [
    "import math\n",
    "\n",
    "n = 1000 # 2부터 1000까지의 모든 수에 대하여 소수 판별\n",
    "arr = [True for _ in range(n+1)] # 처음에 모든 수가 소수(True)인 것으로 초기화 (0,1은 제외)\n",
    "\n",
    "for i in range(2,int(math.sqrt(n))+1): # 2부터 x의 제곱근까지의 모든 수를 확인하며\n",
    "    if arr[i] == True: # i가 소수인 경우(남은 수 중에)\n",
    "        j = 2\n",
    "        while i*j <= n :\n",
    "            arr[i*j] = False # i의 배수는 모두 소수 X (자기 자신 제외) \n",
    "            j += 1\n",
    "            \n",
    "for i in range(2,n+1):\n",
    "    if arr[i] == True:\n",
    "        print(i, end = ' ')"
   ]
  },
  {
   "cell_type": "markdown",
   "id": "db7867ce",
   "metadata": {},
   "source": [
    "# 투 포인터\n",
    "리스트에 순차적으로 접근 시, 2개의 점의 위치를 기록하면서 처리"
   ]
  },
  {
   "cell_type": "code",
   "execution_count": 9,
   "id": "a1c7c276",
   "metadata": {},
   "outputs": [
    {
     "name": "stdout",
     "output_type": "stream",
     "text": [
      "3\n"
     ]
    }
   ],
   "source": [
    "# 특정한 합을 가지는 부분 연속 수열 찾기\n",
    "\n",
    "n = 5 # 데이터의 개수\n",
    "m = 5 # 찾고자 하는 부분합\n",
    "data = [1,2,3,2,5] # 전체 수열\n",
    "\n",
    "cnt = 0\n",
    "end = 0\n",
    "interval_sum = 0\n",
    "\n",
    "# start를 차례대로 증가시키며 반복\n",
    "for start in range(n):\n",
    "    # end를 가능한 만큼 이동시키기\n",
    "    while interval_sum < m and end < n:\n",
    "        interval_sum += data[end]\n",
    "        end += 1\n",
    "    # 부분합이 m일 때 카운트 증가\n",
    "    if interval_sum == m:\n",
    "        cnt += 1\n",
    "    interval_sum -= data[start]\n",
    "    \n",
    "print(cnt)"
   ]
  },
  {
   "cell_type": "code",
   "execution_count": 1,
   "id": "bbc5ebd5",
   "metadata": {},
   "outputs": [
    {
     "name": "stdout",
     "output_type": "stream",
     "text": [
      "1 2 3 4 5 6 8 "
     ]
    }
   ],
   "source": [
    "# 정렬되어 있는 두 리스트의 합집합\n",
    "\n",
    "# 사전에 정렬된 리스트 A와 B 선언\n",
    "n,m = 3,4\n",
    "a = [1,3,5]\n",
    "b = [2,4,6,8]\n",
    "\n",
    "# 리스트 A와 B의 모든 원소를 담을 수 있는 크기의 결과 리스트 초기화\n",
    "result = [0] * (n+m)\n",
    "i,j,k = 0,0,0\n",
    "\n",
    "# 모든 원소가 리스트에 담길 때까지 반복\n",
    "while i<n or j<m:\n",
    "    # 리스트의 B의 모든 원소가 처리되었거나, 리스트 A의 원소가 더 작을 때\n",
    "    if j>=m or (i<n and a[i] <= b[j]):\n",
    "        result[k] = a[i]\n",
    "        i += 1\n",
    "    else:\n",
    "        result[k] = b[j]\n",
    "        j+=1\n",
    "    k+=1\n",
    "\n",
    "for i in result:\n",
    "    print(i, end=' ')"
   ]
  },
  {
   "cell_type": "markdown",
   "id": "6668dcba",
   "metadata": {},
   "source": [
    "## 구간 합 계산"
   ]
  },
  {
   "cell_type": "code",
   "execution_count": 2,
   "id": "325119f1",
   "metadata": {},
   "outputs": [
    {
     "name": "stdout",
     "output_type": "stream",
     "text": [
      "70\n"
     ]
    }
   ],
   "source": [
    "# 접두사 합을 활용한 구간 합 계산 \n",
    "\n",
    "# 데이터의 개수 N과 전체 데이터 선언\n",
    "n = 5\n",
    "data = [10,20,30,40,50]\n",
    "\n",
    "# 접두사 합 배열 계산\n",
    "sum_value = 0\n",
    "prefix_sum = [0]\n",
    "for i in data:\n",
    "    sum_value += i\n",
    "    prefix_sum.append(sum_value)\n",
    "    \n",
    "# 구간 합 계산 (세 번째 수부터 네 번째 수까지)\n",
    "left = 3\n",
    "right = 4\n",
    "print(prefix_sum[right] - prefix_sum[left-1])"
   ]
  },
  {
   "cell_type": "markdown",
   "id": "8f6321a1",
   "metadata": {},
   "source": [
    "## 순열과 조합"
   ]
  },
  {
   "cell_type": "code",
   "execution_count": 7,
   "id": "a544ff0a",
   "metadata": {},
   "outputs": [
    {
     "name": "stdout",
     "output_type": "stream",
     "text": [
      "[1, 2] [2, 1] \n",
      "\n",
      "[(1, 2), (2, 1)]\n"
     ]
    }
   ],
   "source": [
    "from itertools import permutations\n",
    "\n",
    "data = [1,2]\n",
    "\n",
    "for x in permutations(data,2):\n",
    "    print(list(x), end= ' ')\n",
    "\n",
    "print('\\n')\n",
    "print(list(permutations(data,2)))"
   ]
  },
  {
   "cell_type": "code",
   "execution_count": 8,
   "id": "00021478",
   "metadata": {},
   "outputs": [
    {
     "name": "stdout",
     "output_type": "stream",
     "text": [
      "[1, 2] [1, 3] [2, 3] \n",
      "\n",
      "[(1, 2), (1, 3), (2, 3)]\n"
     ]
    }
   ],
   "source": [
    "from itertools import combinations\n",
    "\n",
    "data = [1,2,3]\n",
    "\n",
    "for x in combinations(data,2):\n",
    "    print(list(x), end=' ')\n",
    "    \n",
    "print('\\n')\n",
    "print(list(combinations(data,2)))"
   ]
  }
 ],
 "metadata": {
  "kernelspec": {
   "display_name": "Python 3 (ipykernel)",
   "language": "python",
   "name": "python3"
  },
  "language_info": {
   "codemirror_mode": {
    "name": "ipython",
    "version": 3
   },
   "file_extension": ".py",
   "mimetype": "text/x-python",
   "name": "python",
   "nbconvert_exporter": "python",
   "pygments_lexer": "ipython3",
   "version": "3.8.15"
  }
 },
 "nbformat": 4,
 "nbformat_minor": 5
}
