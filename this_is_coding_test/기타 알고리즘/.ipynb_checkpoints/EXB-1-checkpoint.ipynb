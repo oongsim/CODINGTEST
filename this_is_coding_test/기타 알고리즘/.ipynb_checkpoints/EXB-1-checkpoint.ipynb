{
 "cells": [
  {
   "cell_type": "markdown",
   "id": "6ca0f15f",
   "metadata": {},
   "source": [
    "# 소수 구하기\n",
    "---\n",
    "입력예시<br>\n",
    "3 16<br><br>\n",
    "출력예시<br>\n",
    "3<br>\n",
    "5<br>\n",
    "7<br>\n",
    "11<br>\n",
    "13<br>\n",
    "<br><br>"
   ]
  },
  {
   "cell_type": "code",
   "execution_count": 20,
   "id": "a823a444",
   "metadata": {},
   "outputs": [
    {
     "name": "stdout",
     "output_type": "stream",
     "text": [
      "3 16\n",
      "3\n",
      "5\n",
      "7\n",
      "11\n",
      "13\n"
     ]
    }
   ],
   "source": [
    "import math\n",
    "\n",
    "m,n = map(int,input().split())\n",
    "arr = [True for _ in range(n+1)]\n",
    "\n",
    "for i in range(2,int(math.sqrt(n))+1):\n",
    "    j = 2\n",
    "    while i*j <= n:\n",
    "        arr[i*j] = False\n",
    "        j+=1\n",
    "    \n",
    "for i in range(m,n+1):\n",
    "    if arr[i]:\n",
    "        print(i)"
   ]
  },
  {
   "cell_type": "code",
   "execution_count": null,
   "id": "af74e4ce",
   "metadata": {},
   "outputs": [],
   "source": []
  }
 ],
 "metadata": {
  "kernelspec": {
   "display_name": "Python 3 (ipykernel)",
   "language": "python",
   "name": "python3"
  },
  "language_info": {
   "codemirror_mode": {
    "name": "ipython",
    "version": 3
   },
   "file_extension": ".py",
   "mimetype": "text/x-python",
   "name": "python",
   "nbconvert_exporter": "python",
   "pygments_lexer": "ipython3",
   "version": "3.8.15"
  }
 },
 "nbformat": 4,
 "nbformat_minor": 5
}
