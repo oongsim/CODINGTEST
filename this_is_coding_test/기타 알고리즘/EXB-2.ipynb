{
 "cells": [
  {
   "cell_type": "markdown",
   "id": "60a669be",
   "metadata": {},
   "source": [
    "# 암호 만들기\n",
    "---\n",
    "입력예시<br>\n",
    "4 6<br>\n",
    "a t c i s w <br><br>\n",
    "출력예시<br>\n",
    "3<br>\n",
    "5<br>\n",
    "7<br>\n",
    "11<br>\n",
    "13<br>\n",
    "<br><br>"
   ]
  },
  {
   "cell_type": "code",
   "execution_count": null,
   "id": "430e65c8",
   "metadata": {},
   "outputs": [],
   "source": []
  }
 ],
 "metadata": {
  "kernelspec": {
   "display_name": "Python 3 (ipykernel)",
   "language": "python",
   "name": "python3"
  },
  "language_info": {
   "codemirror_mode": {
    "name": "ipython",
    "version": 3
   },
   "file_extension": ".py",
   "mimetype": "text/x-python",
   "name": "python",
   "nbconvert_exporter": "python",
   "pygments_lexer": "ipython3",
   "version": "3.8.15"
  }
 },
 "nbformat": 4,
 "nbformat_minor": 5
}
