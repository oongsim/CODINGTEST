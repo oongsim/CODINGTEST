{
 "cells": [
  {
   "cell_type": "markdown",
   "id": "74f16a9f",
   "metadata": {},
   "source": [
    "# 못생긴 수\n",
    "---\n",
    "입력예시<br>\n",
    "10<br>\n",
    "<br>\n",
    "출력예시<br>\n",
    "12<br>\n",
    "<br><br>\n",
    "입력예시<br>\n",
    "4<br>\n",
    "<br>\n",
    "출력예시<br>\n",
    "4<br>"
   ]
  },
  {
   "cell_type": "code",
   "execution_count": 1,
   "id": "54478f96",
   "metadata": {},
   "outputs": [
    {
     "name": "stdout",
     "output_type": "stream",
     "text": [
      "10\n",
      "12\n"
     ]
    }
   ],
   "source": [
    "# 시간 오래 걸릴 것 같음,,\n",
    "\n",
    "n = int(input())\n",
    "d = [0] + [1]*1000 # 초기화\n",
    "\n",
    "for i in range(2,1001):\n",
    "    temp = i\n",
    "    if temp%2 == 0:\n",
    "        while(temp%2 == 0):\n",
    "            temp = temp//2\n",
    "    if temp%3 == 0:\n",
    "        while(temp%3 == 0):\n",
    "            temp = temp//3\n",
    "    if temp%5 == 0:\n",
    "        while(temp%5 == 0):\n",
    "            temp = temp//5\n",
    "    if temp == 1: # 2,3,5로 다 나누어졌으면\n",
    "        d[i] = d[i-1] +1\n",
    "    else:\n",
    "        d[i] = d[i-1]\n",
    "    \n",
    "print(d.index(n))"
   ]
  },
  {
   "cell_type": "code",
   "execution_count": 13,
   "id": "03651191",
   "metadata": {},
   "outputs": [
    {
     "name": "stdout",
     "output_type": "stream",
     "text": [
      "10\n",
      "12\n"
     ]
    }
   ],
   "source": [
    "# 책 풀이, 못생긴 수에 2,3,5를 곱한 수 역시 못생긴 수가 된다\n",
    "\n",
    "n = int(input())\n",
    "\n",
    "ugly = [0] * n # 못생긴 수를 답기 위한 dp 테이블\n",
    "ugly[0] = 1 # 첫번째 못생긴 수는 1 \n",
    "\n",
    "# 2배, 3배, 5배를 위한 인덱스\n",
    "i2 = i3 = i5 = 0\n",
    "# 처음에 곱셈값을 초기화\n",
    "next2, next3, next5 = 2,3,5\n",
    "\n",
    "# 1부터 n까지 못생긴 수 찾기\n",
    "for j in range(1,n):\n",
    "    ugly[j] = min(next2,next3,next5) # 가능한 곱셈 결과 중에서 가장 작은 수 선택\n",
    "    # 인덱스에 따라 곱셈 결과를 증가\n",
    "    if ugly[j] == next2:\n",
    "        i2 += 1\n",
    "        next2 = ugly[i2]*2\n",
    "    if ugly[j] == next3:\n",
    "        i3 += 1\n",
    "        next3 = ugly[i3]*3\n",
    "    if ugly[j] == next5:\n",
    "        i5 += 1\n",
    "        next5 = ugly[i5]*5\n",
    "        \n",
    "print(ugly[n-1]) # n번째 못생긴 수 출력"
   ]
  },
  {
   "cell_type": "code",
   "execution_count": null,
   "id": "dccf85d2",
   "metadata": {},
   "outputs": [],
   "source": []
  }
 ],
 "metadata": {
  "kernelspec": {
   "display_name": "Python 3 (ipykernel)",
   "language": "python",
   "name": "python3"
  },
  "language_info": {
   "codemirror_mode": {
    "name": "ipython",
    "version": 3
   },
   "file_extension": ".py",
   "mimetype": "text/x-python",
   "name": "python",
   "nbconvert_exporter": "python",
   "pygments_lexer": "ipython3",
   "version": "3.8.15"
  }
 },
 "nbformat": 4,
 "nbformat_minor": 5
}
