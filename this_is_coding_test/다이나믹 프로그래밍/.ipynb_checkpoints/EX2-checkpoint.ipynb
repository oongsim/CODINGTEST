{
 "cells": [
  {
   "cell_type": "markdown",
   "id": "6a8e64e6",
   "metadata": {},
   "source": [
    "# 개미 전사\n",
    "---\n",
    "입력예시<br>\n",
    "4<br>\n",
    "1 3 1 5<br>\n",
    "<br>\n",
    "출력예시<br>\n",
    "8<br>\n",
    "<br><br>"
   ]
  },
  {
   "cell_type": "code",
   "execution_count": 2,
   "id": "8425a3ed",
   "metadata": {},
   "outputs": [
    {
     "name": "stdout",
     "output_type": "stream",
     "text": [
      "4\n",
      "1 3 1 5\n",
      "8\n"
     ]
    }
   ],
   "source": [
    "# 책 풀이\n",
    "\n",
    "n = int(input())\n",
    "lst = list(map(int,input().split()))\n",
    "\n",
    "d = [0] * 100 # 최적의 해 저장 테이블\n",
    "\n",
    "# DP 진행 (보텀업)\n",
    "d[0] = lst[0]\n",
    "d[1] = max(lst[0],lst[1])\n",
    "for i in range(2,n):\n",
    "    d[i] = max(d[i-1], d[i-2]+lst[i])\n",
    "    \n",
    "print(d[n-1])"
   ]
  },
  {
   "cell_type": "code",
   "execution_count": null,
   "id": "df7e4abc",
   "metadata": {},
   "outputs": [],
   "source": []
  }
 ],
 "metadata": {
  "kernelspec": {
   "display_name": "Python 3 (ipykernel)",
   "language": "python",
   "name": "python3"
  },
  "language_info": {
   "codemirror_mode": {
    "name": "ipython",
    "version": 3
   },
   "file_extension": ".py",
   "mimetype": "text/x-python",
   "name": "python",
   "nbconvert_exporter": "python",
   "pygments_lexer": "ipython3",
   "version": "3.8.15"
  }
 },
 "nbformat": 4,
 "nbformat_minor": 5
}
