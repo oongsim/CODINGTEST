{
 "cells": [
  {
   "cell_type": "markdown",
   "id": "92bf5139",
   "metadata": {},
   "source": [
    "# 1로 만들기\n",
    "---\n",
    "입력예시<br>\n",
    "26<br>\n",
    "<br>\n",
    "출력예시<br>\n",
    "3<br>\n",
    "<br><br>"
   ]
  },
  {
   "cell_type": "code",
   "execution_count": 10,
   "id": "c5503670",
   "metadata": {},
   "outputs": [
    {
     "name": "stdout",
     "output_type": "stream",
     "text": [
      "26\n",
      "3\n"
     ]
    }
   ],
   "source": [
    "# 책 풀이\n",
    "\n",
    "x = int(input())\n",
    "d = [0] * 30001\n",
    "\n",
    "# DP 진행\n",
    "for i in range(2,x+1):\n",
    "    # 현재의 수에서 1을 빼는 경우를 먼저 계산하여 비교의 척도로 사용\n",
    "    d[i] = d[i-1] + 1\n",
    "    # 현재의 수가 2로 나누어 떨어지는 경우\n",
    "    if i % 2 == 0:\n",
    "        d[i] = min(d[i], d[i//2] + 1)\n",
    "    # 현재의 수가 3로 나누어 떨어지는 경우\n",
    "    if i % 3 == 0:\n",
    "        d[i] = min(d[i], d[i//3] + 1)\n",
    "    # 현재의 수가 5로 나누어 떨어지는 경우\n",
    "    if i % 5 == 0:\n",
    "        d[i] = min(d[i], d[i//5] + 1)\n",
    "            \n",
    "print(d[x])"
   ]
  },
  {
   "cell_type": "code",
   "execution_count": null,
   "id": "25e36062",
   "metadata": {},
   "outputs": [],
   "source": []
  }
 ],
 "metadata": {
  "kernelspec": {
   "display_name": "Python 3 (ipykernel)",
   "language": "python",
   "name": "python3"
  },
  "language_info": {
   "codemirror_mode": {
    "name": "ipython",
    "version": 3
   },
   "file_extension": ".py",
   "mimetype": "text/x-python",
   "name": "python",
   "nbconvert_exporter": "python",
   "pygments_lexer": "ipython3",
   "version": "3.8.15"
  }
 },
 "nbformat": 4,
 "nbformat_minor": 5
}
