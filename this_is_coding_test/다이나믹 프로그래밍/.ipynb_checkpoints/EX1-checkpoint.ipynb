{
 "cells": [
  {
   "cell_type": "markdown",
   "id": "92bf5139",
   "metadata": {},
   "source": [
    "# 1로 만들기\n",
    "---\n",
    "입력예시<br>\n",
    "26<br>\n",
    "<br>\n",
    "출력예시<br>\n",
    "3<br>\n",
    "<br><br>"
   ]
  },
  {
   "cell_type": "code",
   "execution_count": null,
   "id": "c5503670",
   "metadata": {},
   "outputs": [],
   "source": []
  }
 ],
 "metadata": {
  "kernelspec": {
   "display_name": "Python 3 (ipykernel)",
   "language": "python",
   "name": "python3"
  },
  "language_info": {
   "codemirror_mode": {
    "name": "ipython",
    "version": 3
   },
   "file_extension": ".py",
   "mimetype": "text/x-python",
   "name": "python",
   "nbconvert_exporter": "python",
   "pygments_lexer": "ipython3",
   "version": "3.8.15"
  }
 },
 "nbformat": 4,
 "nbformat_minor": 5
}
