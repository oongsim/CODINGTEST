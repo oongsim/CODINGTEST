{
 "cells": [
  {
   "cell_type": "markdown",
   "id": "51b9737d",
   "metadata": {},
   "source": [
    "# 정수 삼각형\n",
    "---\n",
    "입력예시<br>\n",
    "5<br>\n",
    "7<br>\n",
    "3 8<br>\n",
    "8 1 0<br>\n",
    "2 7 4 4<br>\n",
    "4 5 2 6 5<br>\n",
    "<br>\n",
    "출력예시<br>\n",
    "30<br>\n",
    "<br><br>"
   ]
  },
  {
   "cell_type": "code",
   "execution_count": 2,
   "id": "f2901ba5",
   "metadata": {},
   "outputs": [
    {
     "name": "stdout",
     "output_type": "stream",
     "text": [
      "5\n",
      "7\n",
      "3 8\n",
      "8 1 0\n",
      "2 7 4 4\n",
      "4 5 2 6 5\n",
      "30\n"
     ]
    }
   ],
   "source": [
    "n = int(input())\n",
    "d = [] # dp 리스트 초기화\n",
    "for _ in range(n):\n",
    "    d.append(list(map(int,input().split())))\n",
    "\n",
    "# DP, 두 번째 줄부터 내려가면서 확인\n",
    "for i in range(1,n):\n",
    "    for j in range(i+1):\n",
    "        # 왼쪽 위에서 내려오는 경우\n",
    "        if j == 0:\n",
    "            up_left = 0\n",
    "        else:\n",
    "            up_left = d[i-1][j-1]\n",
    "        # 바로 위에서 내려오는 경우\n",
    "        if j == i:\n",
    "            up = 0\n",
    "        else:\n",
    "            up = d[i-1][j]\n",
    "        # 점화식\n",
    "        d[i][j] = d[i][j] + max(up_left, up)\n",
    "\n",
    "print(max(d[n-1]))"
   ]
  },
  {
   "cell_type": "code",
   "execution_count": null,
   "id": "ab1762db",
   "metadata": {},
   "outputs": [],
   "source": []
  }
 ],
 "metadata": {
  "kernelspec": {
   "display_name": "Python 3 (ipykernel)",
   "language": "python",
   "name": "python3"
  },
  "language_info": {
   "codemirror_mode": {
    "name": "ipython",
    "version": 3
   },
   "file_extension": ".py",
   "mimetype": "text/x-python",
   "name": "python",
   "nbconvert_exporter": "python",
   "pygments_lexer": "ipython3",
   "version": "3.8.15"
  }
 },
 "nbformat": 4,
 "nbformat_minor": 5
}
