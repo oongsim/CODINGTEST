{
 "cells": [
  {
   "cell_type": "markdown",
   "id": "8fead6f2",
   "metadata": {},
   "source": [
    "# 효율적인 화폐 구성\n",
    "---\n",
    "입력예시<br>\n",
    "2 15<br>\n",
    "2<br>\n",
    "3<br>\n",
    "<br>\n",
    "출력예시<br>\n",
    "3 4<br>\n",
    "3<br>\n",
    "5<br>\n",
    "7<br>\n",
    "<br><br>"
   ]
  },
  {
   "cell_type": "code",
   "execution_count": 4,
   "id": "a2345650",
   "metadata": {},
   "outputs": [
    {
     "name": "stdout",
     "output_type": "stream",
     "text": [
      "3 4\n",
      "3\n",
      "5\n",
      "7\n",
      "-1\n"
     ]
    }
   ],
   "source": [
    "n,m=map(int,input().split())\n",
    "coins=[]\n",
    "for _ in range(n):\n",
    "    coins.append(int(input()))\n",
    "\n",
    "d = [10e9] * (m+1) # dp 리스트 초기화\n",
    "for c in coins:\n",
    "    d[c] = 1\n",
    "\n",
    "for i in range(max(coins)+1,m+1):\n",
    "    for c in coins:\n",
    "        d[i] = min(d[i], d[i-c]+1)\n",
    "        \n",
    "if d[m] != 10e9:\n",
    "    print(d[m])\n",
    "else:\n",
    "    print(-1)"
   ]
  },
  {
   "cell_type": "code",
   "execution_count": 5,
   "id": "d8574b2b",
   "metadata": {},
   "outputs": [
    {
     "name": "stdout",
     "output_type": "stream",
     "text": [
      "2 15\n",
      "2\n",
      "3\n",
      "5\n"
     ]
    }
   ],
   "source": [
    "# 책 풀이, 약간 헷갈림.. \n",
    "\n",
    "n,m=map(int,input().split())\n",
    "arr=[]\n",
    "for _ in range(n):\n",
    "    arr.append(int(input()))\n",
    "    \n",
    "d = [10001] * (m+1) # dp 리스트 초기화\n",
    "\n",
    "# DP 진행\n",
    "d[0] = 0\n",
    "for i in range(n): # i는 화폐단위, 화폐단위를 하나씩 확인하며\n",
    "    for j in range(arr[i], m+1): # j는 금액\n",
    "        if d[j-arr[i]] != 10001: # (i-k)원을 만드는 방법이 존재하는 경우 -> 사실 없어도 되는 코드\n",
    "            d[j] = min(d[j], d[j-arr[i]]+1)\n",
    "            \n",
    "# 계산된 결과 출력\n",
    "if d[m] == 10001: # 최종적으로 m원을 만드는 방법이 없는 경우\n",
    "    print(-1)\n",
    "else:\n",
    "    print(d[m])"
   ]
  },
  {
   "cell_type": "code",
   "execution_count": 1,
   "id": "62e72a02",
   "metadata": {},
   "outputs": [
    {
     "name": "stdout",
     "output_type": "stream",
     "text": [
      "2 15\n",
      "2\n",
      "3\n",
      "5\n"
     ]
    }
   ],
   "source": [
    "# 책 풀이를 조금 더 쉽게 바꿔봄.. 이게 맞는듯! \n",
    "\n",
    "n,m=map(int,input().split())\n",
    "coins=[]\n",
    "for _ in range(n):\n",
    "    coins.append(int(input()))\n",
    "\n",
    "d = [10e9] * (m+1) # dp 리스트 초기화\n",
    "\n",
    "d[0] = 0\n",
    "for c in coins: # 각 화폐 단위 마다\n",
    "    for i in range(c, m+1): # 현재 화폐 단위부터 m까지 보텀업 dp 진행\n",
    "        d[i] = min(d[i], d[i-c] + 1)\n",
    "        \n",
    "if d[m] != 10e9:\n",
    "    print(d[m])\n",
    "else:\n",
    "    print(-1)"
   ]
  },
  {
   "cell_type": "code",
   "execution_count": null,
   "id": "32d6d4b3",
   "metadata": {},
   "outputs": [],
   "source": []
  }
 ],
 "metadata": {
  "kernelspec": {
   "display_name": "Python 3 (ipykernel)",
   "language": "python",
   "name": "python3"
  },
  "language_info": {
   "codemirror_mode": {
    "name": "ipython",
    "version": 3
   },
   "file_extension": ".py",
   "mimetype": "text/x-python",
   "name": "python",
   "nbconvert_exporter": "python",
   "pygments_lexer": "ipython3",
   "version": "3.8.15"
  }
 },
 "nbformat": 4,
 "nbformat_minor": 5
}
