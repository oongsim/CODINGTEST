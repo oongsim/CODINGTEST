{
 "cells": [
  {
   "cell_type": "code",
   "execution_count": 6,
   "id": "a60fa707",
   "metadata": {},
   "outputs": [
    {
     "name": "stdout",
     "output_type": "stream",
     "text": [
      "sunday\n",
      "saturday\n",
      "3\n"
     ]
    }
   ],
   "source": [
    "# dp를 2차원리스트로!\n",
    "\n",
    "lst1 = input()\n",
    "lst2 = input()\n",
    "x = len(lst1)\n",
    "y = len(lst2)\n",
    "\n",
    "d = [[0]*y for _ in range(x)] # 2차원 dp 리스트 초기화\n",
    "\n",
    "# 처음 초기화\n",
    "if lst1[0] == lst2[0]:\n",
    "    d[0][0] = 0\n",
    "else:\n",
    "    d[0][0] = 1\n",
    "\n",
    "# 초기 설정\n",
    "for j in range(1, y):\n",
    "    if lst1[0] != lst2[j]: # 같지 않으면\n",
    "        d[0][j] = d[0][j-1] + 1\n",
    "    else:\n",
    "        d[0][j] = d[0][j-1]\n",
    "        \n",
    "for i in range(1, x):\n",
    "    if lst1[i] != lst2[0]: # 같지 않으면\n",
    "        d[i][0] = d[i-1][0] + 1\n",
    "    else:\n",
    "        d[i][0] = d[i-1][0]\n",
    "        \n",
    "# 계산 \n",
    "for i in range(1,x):\n",
    "    for j in range(1,y):\n",
    "        if lst1[i] != lst2[j]:\n",
    "            d[i][j] = min(d[i-1][j-1], d[i][j-1], d[i-1][j]) + 1\n",
    "        else: # 같으면\n",
    "            d[i][j] = d[i-1][j-1]\n",
    "            \n",
    "print(d[x-1][y-1])"
   ]
  },
  {
   "cell_type": "code",
   "execution_count": 8,
   "id": "18217a36",
   "metadata": {},
   "outputs": [
    {
     "name": "stdout",
     "output_type": "stream",
     "text": [
      "sunday\n",
      "saturday\n",
      "3\n"
     ]
    }
   ],
   "source": [
    "# 책 풀이, 처음에 빈 문자열이 있다고 생각 (초기설정 쉽게),,\n",
    "\n",
    "# 최소 편집 거리(Edit Distance) 계산을 위한 다이나믹 프로그래밍\n",
    "def edit_dist(str1, str2):\n",
    "    n = len(str1)\n",
    "    m = len(str2)\n",
    "    \n",
    "    # 다이나믹 프로그래밍을 위한 2차원 DP 테이블 초기화\n",
    "    dp = [[0]*(m+1) for _ in range(n+1)]\n",
    "    \n",
    "    # DP 테이블 초기 설정\n",
    "    for i in range(1, n+1):\n",
    "        dp[i][0] = i\n",
    "    for j in range(1, m+1):\n",
    "        dp[0][j] = j\n",
    "        \n",
    "    # 최소 편집 거리 계산\n",
    "    for i in range(1,n+1):\n",
    "        for j in range(1,m+1):\n",
    "            # 문자가 같다면, 왼쪽 위에 해당하는 수를 그대로 삽입\n",
    "            if str1[i-1] == str2[j-1]: # str의 인덱스는 하나 작은 상태\n",
    "                dp[i][j] = dp[i-1][j-1]\n",
    "            else: \n",
    "                dp[i][j] = 1+ min(dp[i-1][j-1], dp[i][j-1], dp[i-1][j])\n",
    "                \n",
    "    return dp[n][m]\n",
    "\n",
    "# 두 문자열 입력\n",
    "str1 = input()\n",
    "str2 = input()\n",
    "\n",
    "print(edit_dist(str1, str2))"
   ]
  },
  {
   "cell_type": "code",
   "execution_count": null,
   "id": "98a9fe63",
   "metadata": {},
   "outputs": [],
   "source": []
  }
 ],
 "metadata": {
  "kernelspec": {
   "display_name": "Python 3 (ipykernel)",
   "language": "python",
   "name": "python3"
  },
  "language_info": {
   "codemirror_mode": {
    "name": "ipython",
    "version": 3
   },
   "file_extension": ".py",
   "mimetype": "text/x-python",
   "name": "python",
   "nbconvert_exporter": "python",
   "pygments_lexer": "ipython3",
   "version": "3.8.15"
  }
 },
 "nbformat": 4,
 "nbformat_minor": 5
}
