{
 "cells": [
  {
   "cell_type": "code",
   "execution_count": 1,
   "id": "9f5d6224",
   "metadata": {},
   "outputs": [
    {
     "name": "stdout",
     "output_type": "stream",
     "text": [
      "7\n",
      "15 11 4 8 5 2 4\n",
      "2\n"
     ]
    }
   ],
   "source": [
    "# 책 풀이,, 이해하기 쉽게\n",
    "# d[i] = lst[i]를 포함하는 부분 수열 최대 길이\n",
    "\n",
    "n = int(input())\n",
    "lst = list(map(int,input().split()))\n",
    "lst.reverse() # 가장 긴 증가하는 부분 수열(LIS) 알고리즘으로 풀기위해 순서 뒤집기\n",
    "d = [1] * n # 초기화\n",
    "\n",
    "\n",
    "for i in range(n):\n",
    "    for j in range(i):\n",
    "        if lst[j] < lst[i]: # 크기가 작은 조건이 성립하면\n",
    "            d[i] = max(d[i], d[j]+1) \n",
    "            \n",
    "print(n-max(d))"
   ]
  },
  {
   "cell_type": "code",
   "execution_count": null,
   "id": "8ab7b381",
   "metadata": {},
   "outputs": [],
   "source": []
  }
 ],
 "metadata": {
  "kernelspec": {
   "display_name": "Python 3 (ipykernel)",
   "language": "python",
   "name": "python3"
  },
  "language_info": {
   "codemirror_mode": {
    "name": "ipython",
    "version": 3
   },
   "file_extension": ".py",
   "mimetype": "text/x-python",
   "name": "python",
   "nbconvert_exporter": "python",
   "pygments_lexer": "ipython3",
   "version": "3.8.15"
  }
 },
 "nbformat": 4,
 "nbformat_minor": 5
}
