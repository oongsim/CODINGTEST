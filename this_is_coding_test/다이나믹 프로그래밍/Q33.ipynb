{
 "cells": [
  {
   "cell_type": "markdown",
   "id": "65628261",
   "metadata": {},
   "source": [
    "# 퇴사\n",
    "---\n",
    "입력예시<br>\n",
    "7<br>\n",
    "3 10<br>\n",
    "5 20<br>\n",
    "1 10<br>\n",
    "1 20<br>\n",
    "2 15<br>\n",
    "4 40<br>\n",
    "2 200<br>\n",
    "<br>\n",
    "출력예시<br>\n",
    "45<br>\n",
    "<br><br>\n",
    "입력예시<br>\n",
    "10<br>\n",
    "5 50<br>\n",
    "4 40<br>\n",
    "3 30<br>\n",
    "2 20<br>\n",
    "1 10<br>\n",
    "1 10<br>\n",
    "2 20<br>\n",
    "3 30<br>\n",
    "4 40<br>\n",
    "5 50<br>\n",
    "<br>\n",
    "출력예시<br>\n",
    "90<br>\n",
    "<br><br>"
   ]
  },
  {
   "cell_type": "code",
   "execution_count": 7,
   "id": "c605e26f",
   "metadata": {},
   "outputs": [
    {
     "name": "stdout",
     "output_type": "stream",
     "text": [
      "10\n",
      "5 50\n",
      "4 40\n",
      "3 30\n",
      "2 20\n",
      "1 10\n",
      "1 10\n",
      "2 20\n",
      "3 30\n",
      "4 40\n",
      "5 50\n",
      "90\n"
     ]
    }
   ],
   "source": [
    "# d[i]를 (거꾸로 따졌을 때) i 번째 날까지 나올 수 있는 최대 금액 으로 생각!\n",
    "\n",
    "n = int(input())\n",
    "lst = []\n",
    "for _ in range(n):\n",
    "    t,p = map(int,input().split())\n",
    "    lst.append((t,p))\n",
    "lst.append((0,0)) # 인덱스를 맞춰주기 위해 추가\n",
    "lst.reverse() # 순서를 뒤집는다, 뒤쪽 날짜부터 확인\n",
    "\n",
    "# dp 리스트 초기화\n",
    "d = [0] * (n+1)\n",
    "\n",
    "for i in range(1,n+1):\n",
    "    if i - lst[i][0] < 0: # i-t 이 0보다 작으면, (뒤쪽 날짜에서 n일 보다 날짜가 넘어가는 경우)\n",
    "        d[i] = 0\n",
    "    else:\n",
    "        d[i] = max(d[i-1], d[i - lst[i][0]] + lst[i][1]) # t일 전의 금액값과 현재의 값을 더한 것 vs 바로 전의 최대 금액값\n",
    "\n",
    "print(d[n])"
   ]
  },
  {
   "cell_type": "code",
   "execution_count": null,
   "id": "b4c18847",
   "metadata": {},
   "outputs": [],
   "source": [
    "# 책 풀이, 'dp[i] = i번째 날부터 마지막 날까지 낼 수 있는 최대 이익'\n",
    "\n",
    "n = int(input())\n",
    "t = [] # 기간\n",
    "p = [] # 금액 따로따로 리스트에 저장\n",
    "dp = [0] * (n+1)\n",
    "max_value = 0\n",
    "\n",
    "for _ in range(n):\n",
    "    x,y = map(int,input().split())\n",
    "    t.append(x)\n",
    "    p.append(y)\n",
    "    \n",
    "# 리스트를 뒤에서 부터 거꾸로 확인\n",
    "for i in range(n-1, -1, -1):\n",
    "    time = t[i] + i\n",
    "    # 상담이 기간 안에 끝나는 경우\n",
    "    if time <= n:\n",
    "        # 점화식에 맞게, 현재까지의 최고 이익 계산\n",
    "        dp[i] = max(p[i] + dp[time], max_value)\n",
    "        max_value = dp[i]\n",
    "    # 상담이 기간을 벗어나는 경우 \n",
    "    else:\n",
    "        dp[i] = max_value\n",
    "        \n",
    "print(max_value)"
   ]
  },
  {
   "cell_type": "code",
   "execution_count": 1,
   "id": "c83739ca",
   "metadata": {},
   "outputs": [
    {
     "name": "stdout",
     "output_type": "stream",
     "text": [
      "10\n",
      "5 50\n",
      "4 40\n",
      "3 30\n",
      "2 20\n",
      "1 10\n",
      "1 10\n",
      "2 20\n",
      "3 30\n",
      "4 40\n",
      "5 50\n",
      "90\n"
     ]
    }
   ],
   "source": [
    "# 더 이해하기 쉽게,, d[i] : i번째 날부터 마지막 날까지 벌 수 있는 최대 수입\n",
    "\n",
    "n = int(input())\n",
    "t=[0] # 인덱스와 날짜를 맞춰주기 위해 0 미리 삽입\n",
    "p=[0]\n",
    "for _ in range(n):\n",
    "    x,y = map(int,input().split())\n",
    "    t.append(x)\n",
    "    p.append(y)\n",
    "    \n",
    "d = [0] * (n+2) # n+1 일에 퇴사하기 때문\n",
    "max_value = 0\n",
    "for i in range(n, 0, -1): # n일부터 1일까지 거꾸로 \n",
    "    if t[i] + i > n+1: # 상담이 퇴사일까지 끝나지 않으면\n",
    "        d[i] = d[i+1]\n",
    "    else:\n",
    "        d[i] = max(d[i+1], p[i] + d[t[i] + i])\n",
    "        \n",
    "print(d[1])"
   ]
  },
  {
   "cell_type": "code",
   "execution_count": null,
   "id": "505eac70",
   "metadata": {},
   "outputs": [],
   "source": []
  }
 ],
 "metadata": {
  "kernelspec": {
   "display_name": "Python 3 (ipykernel)",
   "language": "python",
   "name": "python3"
  },
  "language_info": {
   "codemirror_mode": {
    "name": "ipython",
    "version": 3
   },
   "file_extension": ".py",
   "mimetype": "text/x-python",
   "name": "python",
   "nbconvert_exporter": "python",
   "pygments_lexer": "ipython3",
   "version": "3.8.15"
  }
 },
 "nbformat": 4,
 "nbformat_minor": 5
}
