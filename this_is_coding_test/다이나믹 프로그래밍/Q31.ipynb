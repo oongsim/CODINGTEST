{
 "cells": [
  {
   "cell_type": "markdown",
   "id": "263055dc",
   "metadata": {},
   "source": [
    "# 금광\n",
    "---\n",
    "입력예시<br>\n",
    "2<br>\n",
    "3 4<br>\n",
    "1 3 3 2 2 1 4 1 0 6 4 7<br>\n",
    "4 4<br>\n",
    "1 3 1 5 2 2 4 1 5 0 2 3 0 6 1 2<br>\n",
    "<br>\n",
    "출력예시<br>\n",
    "19<br>\n",
    "16<br>\n",
    "<br><br>"
   ]
  },
  {
   "cell_type": "code",
   "execution_count": 4,
   "id": "233da72a",
   "metadata": {},
   "outputs": [
    {
     "name": "stdout",
     "output_type": "stream",
     "text": [
      "2\n",
      "3 4\n",
      "1 3 3 2 2 1 4 1 0 6 4 7\n",
      "19\n",
      "4 4\n",
      "1 3 1 5 2 2 4 1 5 0 2 3 0 6 1 2\n",
      "16\n"
     ]
    }
   ],
   "source": [
    "t = int(input())\n",
    "for _ in range(t):\n",
    "    n,m = map(int,input().split())\n",
    "    lst = list(map(int,input().split()))\n",
    "    golds = []\n",
    "    result = -10e9\n",
    "    for i in range(n):\n",
    "        golds.append(lst[m*i:m*(i+1)])\n",
    "    # dp 리스트 초기화\n",
    "    d = [[0]*m for _ in range(n)]\n",
    "        \n",
    "    # j=0인 경우 먼저 선언, 시작 조건\n",
    "    for i in range(n):\n",
    "        d[i][0] = golds[i][0]\n",
    "    \n",
    "    # DP\n",
    "    for j in range(1,m): # 열 부터 , 순서 주의!! \n",
    "        for i in range(n):\n",
    "            if i == 0: \n",
    "                d[i][j] = max(d[i][j-1], d[i+1][j-1]) + golds[i][j]\n",
    "            elif i == n-1:\n",
    "                d[i][j] = max(d[i-1][j-1], d[i][j-1]) + golds[i][j]\n",
    "            else:\n",
    "                d[i][j] = max(d[i-1][j-1] ,d[i][j-1], d[i+1][j-1]) + golds[i][j]\n",
    "                \n",
    "    # 마지막 결과\n",
    "    for i in range(n):\n",
    "        result = max(result, d[i][m-1])\n",
    "    print(result)"
   ]
  },
  {
   "cell_type": "code",
   "execution_count": 5,
   "id": "dbc1084b",
   "metadata": {},
   "outputs": [
    {
     "name": "stdout",
     "output_type": "stream",
     "text": [
      "2\n",
      "3 4\n",
      "1 3 3 2 2 1 4 1 0 6 4 7\n",
      "19\n",
      "4 4\n",
      "1 3 1 5 2 2 4 1 5 0 2 3 0 6 1 2\n",
      "16\n"
     ]
    }
   ],
   "source": [
    "# 책 풀이, 조금 더 깔끔하게\n",
    "\n",
    "for t in range(int(input())):\n",
    "    n,m = map(int,input().split())\n",
    "    arr = list(map(int,input().split()))\n",
    "    \n",
    "    # dp 테이블 초기화\n",
    "    dp = []\n",
    "    index = 0\n",
    "    for i in range(n):\n",
    "        dp.append(arr[index:index+m]) # dp에 아예 담아둠\n",
    "        index += m\n",
    "        \n",
    "    # DP 진행 \n",
    "    for j in range(1,m): # 열 부터 \n",
    "        for i in range(n):\n",
    "            # 왼쪽 위에서 오는 경우\n",
    "            if i == 0:\n",
    "                left_up = 0\n",
    "            else:\n",
    "                left_up = dp[i-1][j-1]\n",
    "            # 왼쪽 아래에서 오는 경우\n",
    "            if i == n-1:\n",
    "                left_down = 0\n",
    "            else:\n",
    "                left_down = dp[i+1][j-1]\n",
    "            # 왼쪽에서 오는 경우\n",
    "            left = dp[i][j-1]\n",
    "            # 점화식\n",
    "            dp[i][j] = dp[i][j] + max(left_up, left_down, left)\n",
    "            \n",
    "    result = 0\n",
    "    for i in range(n):\n",
    "        result = max(result, dp[i][m-1])\n",
    "        \n",
    "    print(result)"
   ]
  },
  {
   "cell_type": "code",
   "execution_count": null,
   "id": "561b168a",
   "metadata": {},
   "outputs": [],
   "source": []
  }
 ],
 "metadata": {
  "kernelspec": {
   "display_name": "Python 3 (ipykernel)",
   "language": "python",
   "name": "python3"
  },
  "language_info": {
   "codemirror_mode": {
    "name": "ipython",
    "version": 3
   },
   "file_extension": ".py",
   "mimetype": "text/x-python",
   "name": "python",
   "nbconvert_exporter": "python",
   "pygments_lexer": "ipython3",
   "version": "3.8.15"
  }
 },
 "nbformat": 4,
 "nbformat_minor": 5
}
