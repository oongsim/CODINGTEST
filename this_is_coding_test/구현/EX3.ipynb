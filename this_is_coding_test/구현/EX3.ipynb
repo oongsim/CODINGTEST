{
 "cells": [
  {
   "cell_type": "markdown",
   "id": "41debe48",
   "metadata": {},
   "source": [
    "# 왕실의 나이트\n",
    "---\n",
    "입력예시<br>\n",
    "a1<br>\n",
    "<br>\n",
    "출력예시<br>\n",
    "2<br>\n",
    "<br>\n",
    "입력예시<br>\n",
    "c2<br>\n",
    "<br>\n",
    "출력예시<br>\n",
    "6<br>"
   ]
  },
  {
   "cell_type": "code",
   "execution_count": 3,
   "id": "6778c6c5",
   "metadata": {},
   "outputs": [
    {
     "data": {
      "text/plain": [
       "1"
      ]
     },
     "execution_count": 3,
     "metadata": {},
     "output_type": "execute_result"
    }
   ],
   "source": [
    "ord('a')-96"
   ]
  },
  {
   "cell_type": "code",
   "execution_count": 9,
   "id": "2fe5ed3e",
   "metadata": {},
   "outputs": [
    {
     "name": "stdout",
     "output_type": "stream",
     "text": [
      "c2\n",
      "6\n"
     ]
    }
   ],
   "source": [
    "n = input()\n",
    "column = ord(n[0]) - 96 # 알파벳을 숫자 열로 \n",
    "row = int(n[1])\n",
    "count = 0\n",
    "\n",
    "lst = [(2,-1),(2,1),(-2,-1),(-2,1),(1,2),(-1,2),(1,-2),(-1,-2)] # 가능한 경우의 수\n",
    "for i in lst:\n",
    "    r = row + i[0]\n",
    "    c = column + i[1]\n",
    "    if r < 1 or r > 8 or c < 1 or c > 8:\n",
    "        pass\n",
    "    else:\n",
    "        count += 1\n",
    "\n",
    "print(count)"
   ]
  },
  {
   "cell_type": "code",
   "execution_count": null,
   "id": "ba460f13",
   "metadata": {},
   "outputs": [],
   "source": []
  }
 ],
 "metadata": {
  "kernelspec": {
   "display_name": "Python 3 (ipykernel)",
   "language": "python",
   "name": "python3"
  },
  "language_info": {
   "codemirror_mode": {
    "name": "ipython",
    "version": 3
   },
   "file_extension": ".py",
   "mimetype": "text/x-python",
   "name": "python",
   "nbconvert_exporter": "python",
   "pygments_lexer": "ipython3",
   "version": "3.8.15"
  }
 },
 "nbformat": 4,
 "nbformat_minor": 5
}
