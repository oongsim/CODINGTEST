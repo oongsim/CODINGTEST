{
 "cells": [
  {
   "cell_type": "markdown",
   "id": "54005858",
   "metadata": {},
   "source": [
    "# 문자열 재정렬\n",
    "---\n",
    "입력예시<br>\n",
    "K1KA5CB7<br>\n",
    "<br>\n",
    "출력예시<br>\n",
    "ABCKK13<br>\n",
    "<br>\n",
    "<br>\n",
    "입력예시<br>\n",
    "AJKDLSI412K4JSJ9D<br>\n",
    "<br>\n",
    "출력예시<br>\n",
    "ADDIJJJKKLSS20<br>"
   ]
  },
  {
   "cell_type": "code",
   "execution_count": 27,
   "id": "278914af",
   "metadata": {},
   "outputs": [
    {
     "name": "stdout",
     "output_type": "stream",
     "text": [
      "AJKDLSI412K4JSJ9D\n",
      "ADDIJJJKKLSS20\n"
     ]
    }
   ],
   "source": [
    "data = input()\n",
    "a = []\n",
    "c = 0\n",
    "for i in data:\n",
    "    if i.isalpha():\n",
    "        a.append(i)\n",
    "    else:\n",
    "        c += int(i)\n",
    "a.sort()\n",
    "if c != 0: # 숫자가 존재하면\n",
    "    a.append(str(c))\n",
    "print(''.join(a))"
   ]
  }
 ],
 "metadata": {
  "kernelspec": {
   "display_name": "Python 3 (ipykernel)",
   "language": "python",
   "name": "python3"
  },
  "language_info": {
   "codemirror_mode": {
    "name": "ipython",
    "version": 3
   },
   "file_extension": ".py",
   "mimetype": "text/x-python",
   "name": "python",
   "nbconvert_exporter": "python",
   "pygments_lexer": "ipython3",
   "version": "3.8.15"
  }
 },
 "nbformat": 4,
 "nbformat_minor": 5
}
