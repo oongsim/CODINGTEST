{
 "cells": [
  {
   "cell_type": "markdown",
   "id": "e1553530",
   "metadata": {},
   "source": [
    "# 럭키 스트레이트\n",
    "---\n",
    "입력예시<br>\n",
    "123402<br>\n",
    "<br>\n",
    "출력예시<br>\n",
    "LUCKY<br>\n",
    "<br>\n",
    "<br>\n",
    "입력예시<br>\n",
    "7755<br>\n",
    "<br>\n",
    "출력예시<br>\n",
    "READY<br>"
   ]
  },
  {
   "cell_type": "code",
   "execution_count": 3,
   "id": "6c635ea0",
   "metadata": {},
   "outputs": [
    {
     "name": "stdout",
     "output_type": "stream",
     "text": [
      "123402\n",
      "LUCKY\n"
     ]
    }
   ],
   "source": [
    "data = input()\n",
    "n = len(data)\n",
    "s1, s2 = 0, 0\n",
    "\n",
    "for i in range(n//2):\n",
    "    s1 += int(data[i])\n",
    "for i in range(n//2, n):\n",
    "    s2 += int(data[i])\n",
    "\n",
    "if s1 == s2:\n",
    "    print(\"LUCKY\")\n",
    "else:\n",
    "    print(\"READY\")"
   ]
  }
 ],
 "metadata": {
  "kernelspec": {
   "display_name": "Python 3 (ipykernel)",
   "language": "python",
   "name": "python3"
  },
  "language_info": {
   "codemirror_mode": {
    "name": "ipython",
    "version": 3
   },
   "file_extension": ".py",
   "mimetype": "text/x-python",
   "name": "python",
   "nbconvert_exporter": "python",
   "pygments_lexer": "ipython3",
   "version": "3.8.15"
  }
 },
 "nbformat": 4,
 "nbformat_minor": 5
}
