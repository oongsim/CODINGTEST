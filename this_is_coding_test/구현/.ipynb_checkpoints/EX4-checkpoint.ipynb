{
 "cells": [
  {
   "cell_type": "markdown",
   "id": "a95df52e",
   "metadata": {},
   "source": [
    "# 게임 개발\n",
    "---\n",
    "입력예시<br>\n",
    "4 4<br>\n",
    "1 1 0<br>\n",
    "1 1 1 1<br>\n",
    "1 0 0 1<br>\n",
    "1 1 0 1<br>\n",
    "1 1 1 1<br>\n",
    "<br>\n",
    "출력예시<br>\n",
    "3<br>"
   ]
  },
  {
   "cell_type": "code",
   "execution_count": 5,
   "id": "47b7f719",
   "metadata": {},
   "outputs": [
    {
     "name": "stdout",
     "output_type": "stream",
     "text": [
      "4 4\n",
      "1 1 0\n",
      "1 1 1 1\n",
      "1 0 0 1\n",
      "1 1 0 1\n",
      "1 1 1 1\n",
      "3\n"
     ]
    }
   ],
   "source": [
    "n, m = map(int,input().split())\n",
    "a, b, d = map(int,input().split())\n",
    "m = []\n",
    "for _ in range(n):\n",
    "    m.append(list(map(int,input().split())))\n",
    "c = 1 # 방문한 칸의 수 , 처음 육지칸이므로\n",
    "m[a][b] = 1 # 처음 좌표 방문 처리\n",
    "\n",
    "\n",
    "da = [-1, 0, 1, 0]\n",
    "db = [0, 1, 0, -1]\n",
    "while(True):\n",
    "    d = (d+3)%4 # 왼쪽 방향 회전, 아니면 방향 바꿔줌\n",
    "    \n",
    "    if m[a+da[d]][b+db[d]] == 0:\n",
    "        m[a+da[d]][b+db[d]] = 1 # 좌표 방문 처리\n",
    "        c += 1 # 방문한 칸의 수 증가\n",
    "        a += da[d] \n",
    "        b += db[d] # a, b 이동\n",
    "    \n",
    "    if m[a-1][b] == 1 and m[a][b+1] == 1 and m[a+1][b] == 1 and m[a][b-1] == 1: # 주변이 모두 가본 칸이거나 바다이면,\n",
    "        a += da[(d+2)%4]\n",
    "        b += db[(d+2)%4] # 바라보는 방향을 유지한 채 한 칸 뒤로 a, b 이동\n",
    "        if m[a][b] == 1: # 뒤쪽 방향이 바다인 칸이면 멈춘다. 하지만, 가본경우도 1로 똑같은데 구별 가능? ..\n",
    "            break\n",
    "\n",
    "print(c)        "
   ]
  },
  {
   "cell_type": "code",
   "execution_count": 6,
   "id": "046cbfc4",
   "metadata": {},
   "outputs": [
    {
     "name": "stdout",
     "output_type": "stream",
     "text": [
      "4 4\n",
      "1 1 0\n",
      "1 1 1 1\n",
      "1 0 0 1\n",
      "1 1 0 1\n",
      "1 1 1 1\n",
      "3\n"
     ]
    }
   ],
   "source": [
    "# 책 풀이 , 방문한 위치 저장 맵과, 실제 전체 맵을 따로따로 구분\n",
    "n, m = map(int,input().split())\n",
    "\n",
    "# 방문한 위치를 저장하기 위한 맵을 생성하여 0으로 초기화\n",
    "d = [[0]*m for _ in range(n)]\n",
    "# 현재 캐릭터의 x좌표, y좌표, 방향을 입력받기\n",
    "x, y, direction = map(int,input().split())\n",
    "d[x][y] = 1 # 현재 좌표 방문 처리 \n",
    "\n",
    "# 전체 맵 정보를 입력 받기\n",
    "array = []\n",
    "for i in range(n):\n",
    "    array.append(list(map(int,input().split())))\n",
    "\n",
    "# 북, 동, 남, 서 방향 정의\n",
    "dx = [-1, 0, 1, 0]\n",
    "dy = [0, 1, 0, -1]\n",
    "\n",
    "# 왼쪽으로 회전\n",
    "def turn_left():\n",
    "    global direction\n",
    "    direction -= 1\n",
    "    if direction == -1:\n",
    "        direction = 3\n",
    "        \n",
    "# 시뮬레이션 시작\n",
    "count = 1 # 처음 육지 방문\n",
    "turn_time = 0\n",
    "while True:\n",
    "    # 왼쪽으로 회전\n",
    "    turn_left()\n",
    "    nx = x + dx[direction]\n",
    "    ny = y + dy[direction]\n",
    "    # 회전한 이후 정면에 가보지 않은 칸이 존재하는 경우 이동\n",
    "    if d[nx][ny] == 0 and array[nx][ny] == 0:\n",
    "        d[nx][ny] = 1\n",
    "        x = nx\n",
    "        y = ny\n",
    "        count += 1\n",
    "        turn_time = 0\n",
    "        continue\n",
    "    # 회전한 이후 정면에 가보지 않은 칸이 없거나 바다인 경우\n",
    "    else:\n",
    "        turn_time += 1\n",
    "    # 네 방향 모두 갈 수 없는 경우 \n",
    "    if turn_time == 4:\n",
    "        nx = x - dx[direction]\n",
    "        ny = y - dy[direction]\n",
    "        # 뒤로 갈 수 있으면 이동하기\n",
    "        if array[nx][ny] == 0:\n",
    "            x = nx\n",
    "            y = ny\n",
    "        # 뒤가 바다로 막혀있는 경우\n",
    "        else:\n",
    "            break\n",
    "        turn_time = 0\n",
    "        \n",
    "print(count)"
   ]
  },
  {
   "cell_type": "code",
   "execution_count": null,
   "id": "cb595d26",
   "metadata": {},
   "outputs": [],
   "source": []
  }
 ],
 "metadata": {
  "kernelspec": {
   "display_name": "Python 3 (ipykernel)",
   "language": "python",
   "name": "python3"
  },
  "language_info": {
   "codemirror_mode": {
    "name": "ipython",
    "version": 3
   },
   "file_extension": ".py",
   "mimetype": "text/x-python",
   "name": "python",
   "nbconvert_exporter": "python",
   "pygments_lexer": "ipython3",
   "version": "3.8.15"
  }
 },
 "nbformat": 4,
 "nbformat_minor": 5
}
